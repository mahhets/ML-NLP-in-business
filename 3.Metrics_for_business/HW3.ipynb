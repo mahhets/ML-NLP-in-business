{
 "cells": [
  {
   "cell_type": "markdown",
   "metadata": {},
   "source": [
    "1. обучить несколько разных моделей на наборе данных ССЗ (train_case2.csv): логрег, бустинг, лес и т.д - на ваш выбор 2-3 варианта\n",
    "2. при обучении моделей обязательно использовать кроссвалидацию\n",
    "3. вывести сравнение полученных моделей по основным метрикам классификации: pr/rec/auc/f_score (можно в виде таблицы, где строки - модели, а столбцы - метрики)\n",
    "4. сделать выводы о том, какая модель справилась с задачей лучше других\n",
    "5. (опциональный вопрос) какая метрика (precision_recall_curve или roc_auc_curve) больше подходит в случае сильного дисбаланса классов? (когда объектов одного из классов намного больше чем другого). "
   ]
  },
  {
   "cell_type": "code",
   "execution_count": 1,
   "metadata": {},
   "outputs": [],
   "source": [
    "import numpy as np\n",
    "import pandas as pd\n",
    "from sklearn.base import BaseEstimator, TransformerMixin\n",
    "from sklearn.model_selection import cross_val_score, train_test_split\n",
    "from sklearn.preprocessing import StandardScaler\n",
    "from sklearn.pipeline import Pipeline, FeatureUnion, make_pipeline\n",
    "from sklearn.linear_model import LogisticRegression\n",
    "from sklearn.ensemble import RandomForestClassifier\n",
    "from catboost import CatBoostClassifier\n",
    "from sklearn.metrics import precision_recall_curve"
   ]
  },
  {
   "cell_type": "code",
   "execution_count": 2,
   "metadata": {},
   "outputs": [
    {
     "data": {
      "text/html": [
       "<div>\n",
       "<style scoped>\n",
       "    .dataframe tbody tr th:only-of-type {\n",
       "        vertical-align: middle;\n",
       "    }\n",
       "\n",
       "    .dataframe tbody tr th {\n",
       "        vertical-align: top;\n",
       "    }\n",
       "\n",
       "    .dataframe thead th {\n",
       "        text-align: right;\n",
       "    }\n",
       "</style>\n",
       "<table border=\"1\" class=\"dataframe\">\n",
       "  <thead>\n",
       "    <tr style=\"text-align: right;\">\n",
       "      <th></th>\n",
       "      <th>id</th>\n",
       "      <th>age</th>\n",
       "      <th>gender</th>\n",
       "      <th>height</th>\n",
       "      <th>weight</th>\n",
       "      <th>ap_hi</th>\n",
       "      <th>ap_lo</th>\n",
       "      <th>cholesterol</th>\n",
       "      <th>gluc</th>\n",
       "      <th>smoke</th>\n",
       "      <th>alco</th>\n",
       "      <th>active</th>\n",
       "      <th>cardio</th>\n",
       "    </tr>\n",
       "  </thead>\n",
       "  <tbody>\n",
       "    <tr>\n",
       "      <th>0</th>\n",
       "      <td>0</td>\n",
       "      <td>18393</td>\n",
       "      <td>2</td>\n",
       "      <td>168</td>\n",
       "      <td>62.0</td>\n",
       "      <td>110</td>\n",
       "      <td>80</td>\n",
       "      <td>1</td>\n",
       "      <td>1</td>\n",
       "      <td>0</td>\n",
       "      <td>0</td>\n",
       "      <td>1</td>\n",
       "      <td>0</td>\n",
       "    </tr>\n",
       "    <tr>\n",
       "      <th>1</th>\n",
       "      <td>1</td>\n",
       "      <td>20228</td>\n",
       "      <td>1</td>\n",
       "      <td>156</td>\n",
       "      <td>85.0</td>\n",
       "      <td>140</td>\n",
       "      <td>90</td>\n",
       "      <td>3</td>\n",
       "      <td>1</td>\n",
       "      <td>0</td>\n",
       "      <td>0</td>\n",
       "      <td>1</td>\n",
       "      <td>1</td>\n",
       "    </tr>\n",
       "    <tr>\n",
       "      <th>2</th>\n",
       "      <td>2</td>\n",
       "      <td>18857</td>\n",
       "      <td>1</td>\n",
       "      <td>165</td>\n",
       "      <td>64.0</td>\n",
       "      <td>130</td>\n",
       "      <td>70</td>\n",
       "      <td>3</td>\n",
       "      <td>1</td>\n",
       "      <td>0</td>\n",
       "      <td>0</td>\n",
       "      <td>0</td>\n",
       "      <td>1</td>\n",
       "    </tr>\n",
       "    <tr>\n",
       "      <th>3</th>\n",
       "      <td>3</td>\n",
       "      <td>17623</td>\n",
       "      <td>2</td>\n",
       "      <td>169</td>\n",
       "      <td>82.0</td>\n",
       "      <td>150</td>\n",
       "      <td>100</td>\n",
       "      <td>1</td>\n",
       "      <td>1</td>\n",
       "      <td>0</td>\n",
       "      <td>0</td>\n",
       "      <td>1</td>\n",
       "      <td>1</td>\n",
       "    </tr>\n",
       "    <tr>\n",
       "      <th>4</th>\n",
       "      <td>4</td>\n",
       "      <td>17474</td>\n",
       "      <td>1</td>\n",
       "      <td>156</td>\n",
       "      <td>56.0</td>\n",
       "      <td>100</td>\n",
       "      <td>60</td>\n",
       "      <td>1</td>\n",
       "      <td>1</td>\n",
       "      <td>0</td>\n",
       "      <td>0</td>\n",
       "      <td>0</td>\n",
       "      <td>0</td>\n",
       "    </tr>\n",
       "  </tbody>\n",
       "</table>\n",
       "</div>"
      ],
      "text/plain": [
       "   id    age  gender  height  weight  ap_hi  ap_lo  cholesterol  gluc  smoke  \\\n",
       "0   0  18393       2     168    62.0    110     80            1     1      0   \n",
       "1   1  20228       1     156    85.0    140     90            3     1      0   \n",
       "2   2  18857       1     165    64.0    130     70            3     1      0   \n",
       "3   3  17623       2     169    82.0    150    100            1     1      0   \n",
       "4   4  17474       1     156    56.0    100     60            1     1      0   \n",
       "\n",
       "   alco  active  cardio  \n",
       "0     0       1       0  \n",
       "1     0       1       1  \n",
       "2     0       0       1  \n",
       "3     0       1       1  \n",
       "4     0       0       0  "
      ]
     },
     "execution_count": 2,
     "metadata": {},
     "output_type": "execute_result"
    }
   ],
   "source": [
    "df = pd.read_csv('train_case2.csv', ';')\n",
    "df.head()"
   ]
  },
  {
   "cell_type": "markdown",
   "metadata": {},
   "source": [
    "Объективные признаки:\n",
    "\n",
    " - Возраст\n",
    " - Рост\n",
    " - Вес\n",
    " - Пол\n",
    " \n",
    "\n",
    "Результаты измерения:\n",
    "\n",
    " - Артериальное давление верхнее и нижнее\n",
    " - Холестерин\n",
    " - Глюкоза\n",
    " \n",
    "\n",
    "Субъективные признаки:\n",
    "\n",
    " - Курение\n",
    " - Употребление Алкоголя\n",
    " - Физическая активность"
   ]
  },
  {
   "cell_type": "markdown",
   "metadata": {},
   "source": [
    "Создадим классы для выбора и обработки данных"
   ]
  },
  {
   "cell_type": "code",
   "execution_count": 3,
   "metadata": {},
   "outputs": [],
   "source": [
    "# Трансформатор для выбора одного столбца из фрейма данных для выполнения дополнительных преобразований \n",
    "class ColumnSelector(BaseEstimator, TransformerMixin):\n",
    "    \n",
    "    def __init__(self, key):\n",
    "        self.key = key\n",
    "\n",
    "    def fit(self, X, y=None):\n",
    "        return self\n",
    "\n",
    "    def transform(self, X):\n",
    "        return X[self.key]\n",
    "    \n",
    "# Выбор значений числового признака\n",
    "class NumberSelector(BaseEstimator, TransformerMixin):\n",
    "\n",
    "    def __init__(self, key):\n",
    "        self.key = key\n",
    "\n",
    "    def fit(self, X, y=None):\n",
    "        return self\n",
    "\n",
    "    def transform(self, X):\n",
    "        return X[[self.key]]\n",
    "    \n",
    "# Dummies кодирование\n",
    "class OHEEncoder(BaseEstimator, TransformerMixin):\n",
    "    def __init__(self, key):\n",
    "        self.key = key\n",
    "        self.columns = []\n",
    "\n",
    "    def fit(self, X, y=None):\n",
    "        self.columns = [col for col in pd.get_dummies(X, prefix=self.key).columns]\n",
    "        return self\n",
    "\n",
    "    def transform(self, X):\n",
    "        X = pd.get_dummies(X, prefix=self.key)\n",
    "        test_columns = [col for col in X.columns]\n",
    "        for col_ in test_columns:\n",
    "            if col_ not in self.columns:\n",
    "                X[col_] = 0\n",
    "        return X[self.columns]"
   ]
  },
  {
   "cell_type": "code",
   "execution_count": 4,
   "metadata": {},
   "outputs": [],
   "source": [
    "X_train, X_test, y_train, y_test = train_test_split(df.drop('cardio',1), df['cardio'], test_size = 0.3, random_state = 42)"
   ]
  },
  {
   "cell_type": "code",
   "execution_count": null,
   "metadata": {},
   "outputs": [],
   "source": []
  },
  {
   "cell_type": "markdown",
   "metadata": {},
   "source": [
    "Создадим списки признаков для разных пайплайнов и списки, в которые будем складывать пайплайны"
   ]
  },
  {
   "cell_type": "code",
   "execution_count": 5,
   "metadata": {},
   "outputs": [],
   "source": [
    "continuos_cols = ['age', 'height', 'weight', 'ap_hi', 'ap_lo']\n",
    "cat_cols = ['gender', 'cholesterol']\n",
    "base_cols = ['gluc', 'smoke', 'alco', 'active']\n",
    "\n",
    "continuos_transformers = []\n",
    "cat_transformers = []\n",
    "base_transformers = []"
   ]
  },
  {
   "cell_type": "markdown",
   "metadata": {},
   "source": [
    "Создадим пайплайны для каждого признака по выше созданым категориям"
   ]
  },
  {
   "cell_type": "code",
   "execution_count": 6,
   "metadata": {},
   "outputs": [],
   "source": [
    "for cont_col in continuos_cols:\n",
    "    # создаем объект класса Pipeline\n",
    "    transfomer =  Pipeline([\n",
    "        # вызываем класс выбора признака для значений признака cont_col\n",
    "                ('selector', NumberSelector(key=cont_col)),\n",
    "        # применяем стандартизацию для выбранного признака\n",
    "                ('standard', StandardScaler())\n",
    "            ])\n",
    "    continuos_transformers.append((cont_col, transfomer))\n",
    "    \n",
    "\n",
    "\n",
    "    \n",
    "for cat_col in cat_cols:\n",
    "    # создаем объект класса Pipeline\n",
    "    cat_transformer = Pipeline([\n",
    "        # вызываем класс выбора признаков из cat_col\n",
    "                ('selector', ColumnSelector(key=cat_col)),\n",
    "        # преобразуем их в dummies переменные\n",
    "                ('ohe', OHEEncoder(key=cat_col))\n",
    "            ])\n",
    "    cat_transformers.append((cat_col, cat_transformer))\n",
    "    \n",
    "    \n",
    "for base_col in base_cols:\n",
    "    # создаем объекст класса Pipeline\n",
    "    base_transformer = Pipeline([\n",
    "        ('selector', NumberSelector(key = base_col)),\n",
    "    ])\n",
    "    base_transformers.append((base_col, base_transformer))"
   ]
  },
  {
   "cell_type": "markdown",
   "metadata": {},
   "source": [
    "Объединим все трансформеры в один и передадим список полученных трансформеров"
   ]
  },
  {
   "cell_type": "code",
   "execution_count": 7,
   "metadata": {},
   "outputs": [],
   "source": [
    "feats = FeatureUnion(continuos_transformers+cat_transformers+base_transformers)\n",
    "\n",
    "feature_proc = Pipeline([('feats', feats)])"
   ]
  },
  {
   "cell_type": "markdown",
   "metadata": {},
   "source": [
    "Теперь создадим 3 пайплайна, в которые передадим 3 разных классификатора(3 модели)"
   ]
  },
  {
   "cell_type": "code",
   "execution_count": 8,
   "metadata": {},
   "outputs": [],
   "source": [
    "class_1 = Pipeline([('feats', feats),\n",
    "                   ('class_1', LogisticRegression())])\n",
    "\n",
    "class_2 = Pipeline([('feats', feats),\n",
    "                   ('class_2', RandomForestClassifier())])\n",
    "\n",
    "class_3 = Pipeline([('feats', feats),\n",
    "                   ('class_3', CatBoostClassifier(silent = True))])"
   ]
  },
  {
   "cell_type": "markdown",
   "metadata": {},
   "source": [
    "Запустим для каждого кросс-валидацию с разделением на 10 фолдов"
   ]
  },
  {
   "cell_type": "code",
   "execution_count": 9,
   "metadata": {},
   "outputs": [
    {
     "name": "stdout",
     "output_type": "stream",
     "text": [
      "CrossValScore LogReg 0.7801199973877395 c std 0.0057060030775680235\n",
      "CrossValScore RFC 0.7738749620155989 c std 0.005826362129858266\n",
      "CrossValScore CatBoost 0.801085804096451 c std 0.005188089205718202\n"
     ]
    }
   ],
   "source": [
    "crosval_1 = cross_val_score(class_1, X_train, y_train, cv = 10, scoring = 'roc_auc')\n",
    "crosval_2 = cross_val_score(class_2, X_train, y_train, cv = 10, scoring = 'roc_auc')\n",
    "crosval_3 = cross_val_score(class_3, X_train, y_train, cv = 10, scoring = 'roc_auc')\n",
    "\n",
    "print(f'CrossValScore LogReg {np.mean(crosval_1)} c std {np.std(crosval_1)}')\n",
    "print(f'CrossValScore RFC {np.mean(crosval_2)} c std {np.std(crosval_2)}')\n",
    "print(f'CrossValScore CatBoost {np.mean(crosval_3)} c std {np.std(crosval_3)}')"
   ]
  },
  {
   "cell_type": "markdown",
   "metadata": {},
   "source": [
    "Обучим классификаторы"
   ]
  },
  {
   "cell_type": "code",
   "execution_count": 10,
   "metadata": {},
   "outputs": [
    {
     "data": {
      "text/plain": [
       "Pipeline(steps=[('feats',\n",
       "                 FeatureUnion(transformer_list=[('age',\n",
       "                                                 Pipeline(steps=[('selector',\n",
       "                                                                  NumberSelector(key='age')),\n",
       "                                                                 ('standard',\n",
       "                                                                  StandardScaler())])),\n",
       "                                                ('height',\n",
       "                                                 Pipeline(steps=[('selector',\n",
       "                                                                  NumberSelector(key='height')),\n",
       "                                                                 ('standard',\n",
       "                                                                  StandardScaler())])),\n",
       "                                                ('weight',\n",
       "                                                 Pipeline(steps=[('selector',\n",
       "                                                                  NumberSelector(key='weight')),\n",
       "                                                                 ('standard',\n",
       "                                                                  StandardScaler())]...\n",
       "                                                ('gluc',\n",
       "                                                 Pipeline(steps=[('selector',\n",
       "                                                                  NumberSelector(key='gluc'))])),\n",
       "                                                ('smoke',\n",
       "                                                 Pipeline(steps=[('selector',\n",
       "                                                                  NumberSelector(key='smoke'))])),\n",
       "                                                ('alco',\n",
       "                                                 Pipeline(steps=[('selector',\n",
       "                                                                  NumberSelector(key='alco'))])),\n",
       "                                                ('active',\n",
       "                                                 Pipeline(steps=[('selector',\n",
       "                                                                  NumberSelector(key='active'))]))])),\n",
       "                ('class_3',\n",
       "                 <catboost.core.CatBoostClassifier object at 0x00000233F6DE8040>)])"
      ]
     },
     "execution_count": 10,
     "metadata": {},
     "output_type": "execute_result"
    }
   ],
   "source": [
    "class_1.fit(X_train, y_train)\n",
    "class_2.fit(X_train, y_train)\n",
    "class_3.fit(X_train, y_train)"
   ]
  },
  {
   "cell_type": "markdown",
   "metadata": {},
   "source": [
    "Найдем интересующие нас метрики по каждому классификатору и выведем их в виде DataFrame"
   ]
  },
  {
   "cell_type": "code",
   "execution_count": 11,
   "metadata": {},
   "outputs": [
    {
     "name": "stdout",
     "output_type": "stream",
     "text": [
      "Для LogReg: порог 0.41, f_score 0.73, точность 0.66, полнота 0.82\n",
      "Для RFC: порог 0.44, f_score 0.72, точность 0.69 полнота 0.76\n",
      "Для CatBoost: порог 0.39, f_score 0.75, точность 0.7 полнота 0.8\n"
     ]
    }
   ],
   "source": [
    "precision_1, recall_1, threshold_1 = precision_recall_curve(y_test.values, class_1.predict_proba(X_test)[:,1])\n",
    "precision_2, recall_2, threshold_2 = precision_recall_curve(y_test.values, class_2.predict_proba(X_test)[:,1])\n",
    "precision_3, recall_3, threshold_3 = precision_recall_curve(y_test.values, class_3.predict_proba(X_test)[:,1])\n",
    "\n",
    "#Найдем F-меру для каждого классификатора\n",
    "b = 1\n",
    "f_score_1 = (1 + b**2)*(precision_1 * recall_1)/(b**2*precision_1 + recall_1)\n",
    "f_score_2 = (1 + b**2)*(precision_2 * recall_2)/(b**2*precision_2 + recall_2)\n",
    "f_score_3 = (1 + b**2)*(precision_3 * recall_3)/(b**2*precision_3 + recall_3)\n",
    "\n",
    "# найдем индекс максимального значения F-меры. При этом эти же индексы будут принадлежать оптимальным значениям \n",
    "# точности, полноты и порога\n",
    "ix1 = np.argmax(f_score_1)\n",
    "ix2 = np.argmax(f_score_2)\n",
    "ix3 = np.argmax(f_score_3)\n",
    "\n",
    "# выведем все значения\n",
    "print(f'Для LogReg: порог {round(threshold_1[ix1],2)}, '\n",
    "      f'f_score {round(f_score_1[ix1],2)}, точность {round(precision_1[ix1],2)}, полнота {round(recall_1[ix1],2)}')\n",
    "print(f'Для RFC: порог {round(threshold_2[ix2],2)}, '\n",
    "      f'f_score {round(f_score_2[ix2],2)}, точность {round(precision_2[ix2],2)} полнота {round(recall_2[ix2],2)}')\n",
    "print(f'Для CatBoost: порог {round(threshold_3[ix3],2)}, '\n",
    "      f'f_score {round(f_score_3[ix3],2)}, точность {round(precision_3[ix3],2)} полнота {round(recall_3[ix3],2)}')"
   ]
  },
  {
   "cell_type": "code",
   "execution_count": 12,
   "metadata": {},
   "outputs": [
    {
     "data": {
      "text/html": [
       "<div>\n",
       "<style scoped>\n",
       "    .dataframe tbody tr th:only-of-type {\n",
       "        vertical-align: middle;\n",
       "    }\n",
       "\n",
       "    .dataframe tbody tr th {\n",
       "        vertical-align: top;\n",
       "    }\n",
       "\n",
       "    .dataframe thead th {\n",
       "        text-align: right;\n",
       "    }\n",
       "</style>\n",
       "<table border=\"1\" class=\"dataframe\">\n",
       "  <thead>\n",
       "    <tr style=\"text-align: right;\">\n",
       "      <th></th>\n",
       "      <th>F_score</th>\n",
       "      <th>precision</th>\n",
       "      <th>recall</th>\n",
       "      <th>threshold</th>\n",
       "    </tr>\n",
       "  </thead>\n",
       "  <tbody>\n",
       "    <tr>\n",
       "      <th>LogReg</th>\n",
       "      <td>0.734388</td>\n",
       "      <td>0.662671</td>\n",
       "      <td>0.823513</td>\n",
       "      <td>0.410103</td>\n",
       "    </tr>\n",
       "    <tr>\n",
       "      <th>RFC</th>\n",
       "      <td>0.722441</td>\n",
       "      <td>0.689798</td>\n",
       "      <td>0.758326</td>\n",
       "      <td>0.440000</td>\n",
       "    </tr>\n",
       "    <tr>\n",
       "      <th>CatBoost</th>\n",
       "      <td>0.746034</td>\n",
       "      <td>0.698180</td>\n",
       "      <td>0.800930</td>\n",
       "      <td>0.392537</td>\n",
       "    </tr>\n",
       "  </tbody>\n",
       "</table>\n",
       "</div>"
      ],
      "text/plain": [
       "           F_score  precision    recall  threshold\n",
       "LogReg    0.734388   0.662671  0.823513   0.410103\n",
       "RFC       0.722441   0.689798  0.758326   0.440000\n",
       "CatBoost  0.746034   0.698180  0.800930   0.392537"
      ]
     },
     "execution_count": 12,
     "metadata": {},
     "output_type": "execute_result"
    }
   ],
   "source": [
    "pd.DataFrame(data = [[f_score_1[ix1],precision_1[ix1],recall_1[ix1],threshold_1[ix1]],\n",
    "                    [f_score_2[ix2], precision_2[ix2],recall_2[ix2],threshold_2[ix2]],\n",
    "                    [f_score_3[ix3],precision_3[ix3],recall_3[ix3],threshold_3[ix3]]],\n",
    "            index = ['LogReg','RFC', 'CatBoost'],\n",
    "            columns = ['F_score','precision','recall','threshold'])"
   ]
  },
  {
   "cell_type": "markdown",
   "metadata": {},
   "source": [
    "Лучше всего справился CatBoost, что не удивительно, но сама модель довольно сложна. \n",
    "\n",
    "LogRed не сильно уступает(спорный вопрос про точность), я бы выбрал LogRed из-за простоты алгоритма."
   ]
  },
  {
   "cell_type": "markdown",
   "metadata": {},
   "source": [
    "### Какая метрика (precision_recall_curve или roc_auc_curve) больше подходит в случае сильного дисбаланса классов?"
   ]
  },
  {
   "cell_type": "markdown",
   "metadata": {},
   "source": [
    "Очень часто в задачах мы имеем дизбаланс в сторону класса 0, поэтому в оценке работы модели нам нужно учитывать данные особенности(балансировка не всегда хорошее решение).\n",
    "\n",
    "В AUC-ROC FPR считается отсносительно общего числа отрицательных объектов, если у нас будет большой дизбаланс в сторону класса 0, то AUC-ROC посчитает классификатор чуть-ли не идеальным, когда на самом деле он бесполезен.\n",
    "\n",
    "В таком случае следует смотреть на AUC-PR, в ней по осям откладываются точность и полнота."
   ]
  }
 ],
 "metadata": {
  "kernelspec": {
   "display_name": "Python 3",
   "language": "python",
   "name": "python3"
  },
  "language_info": {
   "codemirror_mode": {
    "name": "ipython",
    "version": 3
   },
   "file_extension": ".py",
   "mimetype": "text/x-python",
   "name": "python",
   "nbconvert_exporter": "python",
   "pygments_lexer": "ipython3",
   "version": "3.8.4"
  }
 },
 "nbformat": 4,
 "nbformat_minor": 4
}
