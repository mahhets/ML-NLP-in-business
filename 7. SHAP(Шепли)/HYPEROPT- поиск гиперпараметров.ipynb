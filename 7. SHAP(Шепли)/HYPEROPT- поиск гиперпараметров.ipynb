{
 "cells": [
  {
   "cell_type": "markdown",
   "metadata": {
    "id": "yQ07PWonvIMC"
   },
   "source": [
    "# Страхование"
   ]
  },
  {
   "cell_type": "markdown",
   "metadata": {
    "id": "iq8PkFlUvIa0"
   },
   "source": [
    "**Основные задачи, решаемые в страховании**\n",
    "* Классические задачи:\n",
    "    * тарификация\n",
    "    * антифрод\n",
    "    * расчет комиссии посредников\n",
    "* ML дало развитие задачам:\n",
    "    * скоринг клиентов\n",
    "    * оценка риска\n",
    "    * оценка ущерба (резерва)\n",
    "    * вероятность пролонгации\n",
    "    * вероятность покупки опций\n",
    "    * вероятность кросс-продаж\n",
    "    * оценка параметров, неизвестных на начальном этапе (например, балл БКИ на предварительном расчете)\n",
    "    * варианты развития убытка (вероятность отказа в выплате, вероятность суда, мошенничества)\n",
    "    * распознавание марок-моделей ТС по фото\n",
    "    * распознавание повреждений ТС по фото"
   ]
  },
  {
   "cell_type": "markdown",
   "metadata": {
    "id": "H8nB8W5DvIeo"
   },
   "source": [
    "**Риски, оцениваемые в автостраховании**\n",
    "* Повреждения кузова\n",
    "  * наш клиент виновен / невиновен\n",
    "  * крупные / мелкие убытки\n",
    "* Ущерб здоровью и жизни\n",
    "* Обязательная гражданская ответственность (ОСАГО)\n",
    "* Добровольная гражданская ответственность (ДАГО)\n",
    "* Повреждения в результате действия третьих лиц\n",
    "* Тоталь\n",
    "* Угон\n",
    "* Прочее"
   ]
  },
  {
   "cell_type": "markdown",
   "metadata": {
    "id": "Lg-MAKgmzlc7"
   },
   "source": [
    "**Основная идея метода бустинга**\n",
    "* Строится модель, прогнозирующая целевую переменную\n",
    "* Находятся отклонения между прогнозными и фактическими значениями\n",
    "* Отклонения - новая целевая переменная\n",
    "* Строится модель, прогнозирующая отклонения\n",
    "* Находятся новые отклонения после применения двух моделей\n",
    "* Новые отклонения - снова целевая переменная\n",
    "* ..."
   ]
  },
  {
   "cell_type": "markdown",
   "metadata": {
    "id": "UrxoSphE6Cul"
   },
   "source": [
    "  ![](https://drive.google.com/uc?export=view&id=1S6rBG3Jn0nTww-X_Fs3h00F9OvkXHgUA)"
   ]
  },
  {
   "cell_type": "markdown",
   "metadata": {
    "id": "kk3ufmUZvIjL"
   },
   "source": [
    "**Особенности бустинга \"деревянных\" моделей**\n",
    "* Бόльшая склонность к переобучению, чем у линейных моделей\n",
    "* Требовательность к подбору гиперпараметров\n",
    "* Сложность с трактовкой значимости параметров"
   ]
  },
  {
   "cell_type": "markdown",
   "metadata": {
    "id": "OuIRGr4N4oNU"
   },
   "source": [
    "**Схема решающего дерева для задачи классификации**"
   ]
  },
  {
   "cell_type": "markdown",
   "metadata": {
    "id": "UsAQWN9bvlLK"
   },
   "source": [
    "  ![](https://drive.google.com/uc?export=view&id=1WlLe4akj2-8LsEeWoS8lCDzATkMKzcO1)\n",
    "\n"
   ]
  },
  {
   "cell_type": "markdown",
   "metadata": {
    "id": "gBcPjfd-zCk1"
   },
   "source": [
    "Основная мера неоднородности при построении деревьев - энтропия Шеннона\n",
    "  ![](https://drive.google.com/uc?export=view&id=16FWKv29X4qFkvi8W0MMN9rkOm4TFByq8) ,\n",
    "где p - вероятность состояния, i - состояние системы. Чем выше энтропия, тем больше хаоса."
   ]
  },
  {
   "cell_type": "markdown",
   "metadata": {
    "id": "TgnvU9RvzCrg"
   },
   "source": [
    "  ![](https://drive.google.com/uc?export=view&id=1Dl9u-uwnpBn6a4ORFBXrXMFMDrbBjLtH)"
   ]
  },
  {
   "cell_type": "markdown",
   "metadata": {
    "id": "xYFeIrBs15dX"
   },
   "source": [
    "  ![](https://drive.google.com/uc?export=view&id=1f77y84obWiPmX2W57N5cdm4RlVQCz3wf)"
   ]
  },
  {
   "cell_type": "markdown",
   "metadata": {
    "id": "wazDBTu815iZ"
   },
   "source": [
    "  ![](https://drive.google.com/uc?export=view&id=1amL7hYh0D3LEJQt0Ntr1JdqClEgNDODV)"
   ]
  },
  {
   "cell_type": "markdown",
   "metadata": {
    "id": "j5Zxmajg2d6A"
   },
   "source": [
    " Прирост информации (изменение энтропии)\n",
    "  ![](https://drive.google.com/uc?export=view&id=1LPgPB2aSvvhVYa2qD3Kgy-XTD-2oVx5G)"
   ]
  },
  {
   "cell_type": "markdown",
   "metadata": {
    "id": "nlQYXnZs3HwT"
   },
   "source": [
    "**Алгоритм построения решающих деревьев**\n",
    "* Вычисляем энтропию исходного множества\n",
    "* Если энтропия равна 0, значит все объекты принадлежат к одному классу\n",
    "* Разбиваем исходное множество на два подмножества, вычисляем изменение энтропии\n",
    "* Среди всех возможных разбиений выбираем то, у которого изменение энтропии наибольшее\n",
    "* Повторяем процесс: разбиваем каждое из полученных подмножеств"
   ]
  },
  {
   "cell_type": "markdown",
   "metadata": {
    "id": "c1Hi6sNA3H2G"
   },
   "source": [
    "  ![](https://drive.google.com/uc?export=view&id=1Q-qEQLZ-sjPQrei-EBxpmBS9yfZTKU2o)"
   ]
  },
  {
   "cell_type": "markdown",
   "metadata": {
    "id": "yfYyD7_d5g1p"
   },
   "source": [
    "**Для задачи регрессии**\n",
    "* Мера неоднородности - это ошибка на выборке"
   ]
  },
  {
   "cell_type": "markdown",
   "metadata": {
    "id": "0ifmx84H7N1A"
   },
   "source": [
    "**Градиентный спуск**\n",
    "* Поиск минимума ошибки за счет движения в сторону антиградиента"
   ]
  },
  {
   "cell_type": "markdown",
   "metadata": {
    "id": "9pOVIoN52eIn"
   },
   "source": [
    "**Что работает лучше, деревья решений или линейные модели?**\n",
    "* Ответ зависит от ситуации с данными\n",
    "* В страховых задачах оценки риска преимущество \"деревянных\" моделей неочевидно"
   ]
  },
  {
   "cell_type": "markdown",
   "metadata": {
    "id": "yMNkbEHLvlPX"
   },
   "source": [
    "# Решение задачи оценки ожидаемых выплат по полису КАСКО методом градиентного бустинга"
   ]
  },
  {
   "cell_type": "markdown",
   "metadata": {
    "id": "D80mTflmZ_bd"
   },
   "source": [
    "# Предобработка данных"
   ]
  },
  {
   "cell_type": "code",
   "execution_count": 1,
   "metadata": {
    "colab": {
     "base_uri": "https://localhost:8080/"
    },
    "id": "8y1iwnRvZ_bf",
    "outputId": "694e819c-7882-4ccc-b26a-b4be46101ef3",
    "scrolled": true
   },
   "outputs": [
    {
     "name": "stdout",
     "output_type": "stream",
     "text": [
      "Mounted at /content/drive\n"
     ]
    }
   ],
   "source": [
    "# Подключение к Google drive\n",
    "\n",
    "from google.colab import drive\n",
    "drive.mount('/content/drive')"
   ]
  },
  {
   "cell_type": "code",
   "execution_count": 2,
   "metadata": {
    "id": "5_kh5pdFZ_bn"
   },
   "outputs": [],
   "source": [
    "import numpy as np\n",
    "import pandas as pd"
   ]
  },
  {
   "cell_type": "code",
   "execution_count": 3,
   "metadata": {
    "id": "3IXQriBopC7_"
   },
   "outputs": [],
   "source": [
    "import matplotlib.pyplot as plt\n",
    "import seaborn as sns\n",
    "import warnings\n",
    "\n",
    "warnings.filterwarnings = 'ignore'"
   ]
  },
  {
   "cell_type": "markdown",
   "metadata": {
    "id": "7dox3dTJN5JP"
   },
   "source": [
    "## Специфические преобразования"
   ]
  },
  {
   "cell_type": "code",
   "execution_count": 4,
   "metadata": {
    "id": "OyV4sOZH83Mi"
   },
   "outputs": [],
   "source": [
    "PATH = '/content/drive/MyDrive/geekbrain/ML Buisness/'"
   ]
  },
  {
   "cell_type": "code",
   "execution_count": 5,
   "metadata": {
    "id": "W_VNF0C8Z_br"
   },
   "outputs": [],
   "source": [
    "# Загрузим набор данных\n",
    "\n",
    "df = pd.read_csv(PATH+'freMPL-R.csv', low_memory=False)\n",
    "df = df.loc[df.Dataset.isin([5, 6, 7, 8, 9])]\n",
    "df.drop('Dataset', axis=1, inplace=True)\n",
    "df.dropna(axis=1, how='all', inplace=True)\n",
    "df.drop_duplicates(inplace=True)\n",
    "df.reset_index(drop=True, inplace=True)"
   ]
  },
  {
   "cell_type": "markdown",
   "metadata": {
    "id": "Ec5kqa_DZ_bx"
   },
   "source": [
    "Есть отрицательная величину убытка для некоторых наблюдений. Заметим, что для всех таких полисов переменная \"ClaimInd\" принимает только значение 0. Поэтому заменим все соответствующие значения \"ClaimAmount\" нулями."
   ]
  },
  {
   "cell_type": "code",
   "execution_count": 6,
   "metadata": {
    "colab": {
     "base_uri": "https://localhost:8080/",
     "height": 215
    },
    "id": "qA6JELtxZ_bx",
    "outputId": "6a9e191d-5374-48f6-bdab-fdd1736e6ec1"
   },
   "outputs": [
    {
     "name": "stdout",
     "output_type": "stream",
     "text": [
      "Unique values of ClaimInd: [0]\n"
     ]
    },
    {
     "data": {
      "text/html": [
       "<div>\n",
       "<style scoped>\n",
       "    .dataframe tbody tr th:only-of-type {\n",
       "        vertical-align: middle;\n",
       "    }\n",
       "\n",
       "    .dataframe tbody tr th {\n",
       "        vertical-align: top;\n",
       "    }\n",
       "\n",
       "    .dataframe thead th {\n",
       "        text-align: right;\n",
       "    }\n",
       "</style>\n",
       "<table border=\"1\" class=\"dataframe\">\n",
       "  <thead>\n",
       "    <tr style=\"text-align: right;\">\n",
       "      <th></th>\n",
       "      <th>ClaimAmount</th>\n",
       "      <th>ClaimInd</th>\n",
       "    </tr>\n",
       "  </thead>\n",
       "  <tbody>\n",
       "    <tr>\n",
       "      <th>82</th>\n",
       "      <td>-74.206042</td>\n",
       "      <td>0</td>\n",
       "    </tr>\n",
       "    <tr>\n",
       "      <th>175</th>\n",
       "      <td>-1222.585196</td>\n",
       "      <td>0</td>\n",
       "    </tr>\n",
       "    <tr>\n",
       "      <th>177</th>\n",
       "      <td>-316.288822</td>\n",
       "      <td>0</td>\n",
       "    </tr>\n",
       "    <tr>\n",
       "      <th>363</th>\n",
       "      <td>-666.758610</td>\n",
       "      <td>0</td>\n",
       "    </tr>\n",
       "    <tr>\n",
       "      <th>375</th>\n",
       "      <td>-1201.600604</td>\n",
       "      <td>0</td>\n",
       "    </tr>\n",
       "  </tbody>\n",
       "</table>\n",
       "</div>"
      ],
      "text/plain": [
       "     ClaimAmount  ClaimInd\n",
       "82    -74.206042         0\n",
       "175 -1222.585196         0\n",
       "177  -316.288822         0\n",
       "363  -666.758610         0\n",
       "375 -1201.600604         0"
      ]
     },
     "execution_count": 6,
     "metadata": {
      "tags": []
     },
     "output_type": "execute_result"
    }
   ],
   "source": [
    "NegClaimAmount = df.loc[df.ClaimAmount < 0, ['ClaimAmount','ClaimInd']]\n",
    "print('Unique values of ClaimInd:', NegClaimAmount.ClaimInd.unique())\n",
    "NegClaimAmount.head()"
   ]
  },
  {
   "cell_type": "code",
   "execution_count": 7,
   "metadata": {
    "id": "7pZuno3BZ_b3"
   },
   "outputs": [],
   "source": [
    "df.loc[df.ClaimAmount < 0, 'ClaimAmount'] = 0"
   ]
  },
  {
   "cell_type": "code",
   "execution_count": 8,
   "metadata": {
    "colab": {
     "base_uri": "https://localhost:8080/",
     "height": 301
    },
    "id": "uX6JWBm89Xak",
    "outputId": "8f57fe07-e876-4eac-8ebd-b2635502b651"
   },
   "outputs": [
    {
     "data": {
      "text/html": [
       "<div>\n",
       "<style scoped>\n",
       "    .dataframe tbody tr th:only-of-type {\n",
       "        vertical-align: middle;\n",
       "    }\n",
       "\n",
       "    .dataframe tbody tr th {\n",
       "        vertical-align: top;\n",
       "    }\n",
       "\n",
       "    .dataframe thead th {\n",
       "        text-align: right;\n",
       "    }\n",
       "</style>\n",
       "<table border=\"1\" class=\"dataframe\">\n",
       "  <thead>\n",
       "    <tr style=\"text-align: right;\">\n",
       "      <th></th>\n",
       "      <th>Exposure</th>\n",
       "      <th>LicAge</th>\n",
       "      <th>RecordBeg</th>\n",
       "      <th>RecordEnd</th>\n",
       "      <th>Gender</th>\n",
       "      <th>MariStat</th>\n",
       "      <th>SocioCateg</th>\n",
       "      <th>VehUsage</th>\n",
       "      <th>DrivAge</th>\n",
       "      <th>HasKmLimit</th>\n",
       "      <th>BonusMalus</th>\n",
       "      <th>ClaimAmount</th>\n",
       "      <th>ClaimInd</th>\n",
       "      <th>ClaimNbResp</th>\n",
       "      <th>ClaimNbNonResp</th>\n",
       "      <th>ClaimNbParking</th>\n",
       "      <th>ClaimNbFireTheft</th>\n",
       "      <th>ClaimNbWindscreen</th>\n",
       "      <th>OutUseNb</th>\n",
       "      <th>RiskArea</th>\n",
       "    </tr>\n",
       "  </thead>\n",
       "  <tbody>\n",
       "    <tr>\n",
       "      <th>0</th>\n",
       "      <td>0.083</td>\n",
       "      <td>332</td>\n",
       "      <td>2004-01-01</td>\n",
       "      <td>2004-02-01</td>\n",
       "      <td>Male</td>\n",
       "      <td>Other</td>\n",
       "      <td>CSP50</td>\n",
       "      <td>Professional</td>\n",
       "      <td>46</td>\n",
       "      <td>0</td>\n",
       "      <td>50</td>\n",
       "      <td>0.0</td>\n",
       "      <td>0</td>\n",
       "      <td>0.0</td>\n",
       "      <td>1.0</td>\n",
       "      <td>0.0</td>\n",
       "      <td>0.0</td>\n",
       "      <td>0.0</td>\n",
       "      <td>0.0</td>\n",
       "      <td>9.0</td>\n",
       "    </tr>\n",
       "    <tr>\n",
       "      <th>1</th>\n",
       "      <td>0.916</td>\n",
       "      <td>333</td>\n",
       "      <td>2004-02-01</td>\n",
       "      <td>NaN</td>\n",
       "      <td>Male</td>\n",
       "      <td>Other</td>\n",
       "      <td>CSP50</td>\n",
       "      <td>Professional</td>\n",
       "      <td>46</td>\n",
       "      <td>0</td>\n",
       "      <td>50</td>\n",
       "      <td>0.0</td>\n",
       "      <td>0</td>\n",
       "      <td>0.0</td>\n",
       "      <td>1.0</td>\n",
       "      <td>0.0</td>\n",
       "      <td>0.0</td>\n",
       "      <td>0.0</td>\n",
       "      <td>0.0</td>\n",
       "      <td>9.0</td>\n",
       "    </tr>\n",
       "    <tr>\n",
       "      <th>2</th>\n",
       "      <td>0.550</td>\n",
       "      <td>173</td>\n",
       "      <td>2004-05-15</td>\n",
       "      <td>2004-12-03</td>\n",
       "      <td>Male</td>\n",
       "      <td>Other</td>\n",
       "      <td>CSP50</td>\n",
       "      <td>Private+trip to office</td>\n",
       "      <td>32</td>\n",
       "      <td>0</td>\n",
       "      <td>68</td>\n",
       "      <td>0.0</td>\n",
       "      <td>0</td>\n",
       "      <td>0.0</td>\n",
       "      <td>2.0</td>\n",
       "      <td>0.0</td>\n",
       "      <td>0.0</td>\n",
       "      <td>0.0</td>\n",
       "      <td>0.0</td>\n",
       "      <td>7.0</td>\n",
       "    </tr>\n",
       "    <tr>\n",
       "      <th>3</th>\n",
       "      <td>0.089</td>\n",
       "      <td>364</td>\n",
       "      <td>2004-11-29</td>\n",
       "      <td>NaN</td>\n",
       "      <td>Female</td>\n",
       "      <td>Other</td>\n",
       "      <td>CSP55</td>\n",
       "      <td>Private+trip to office</td>\n",
       "      <td>52</td>\n",
       "      <td>0</td>\n",
       "      <td>50</td>\n",
       "      <td>0.0</td>\n",
       "      <td>0</td>\n",
       "      <td>0.0</td>\n",
       "      <td>0.0</td>\n",
       "      <td>0.0</td>\n",
       "      <td>0.0</td>\n",
       "      <td>0.0</td>\n",
       "      <td>0.0</td>\n",
       "      <td>8.0</td>\n",
       "    </tr>\n",
       "    <tr>\n",
       "      <th>4</th>\n",
       "      <td>0.233</td>\n",
       "      <td>426</td>\n",
       "      <td>2004-02-07</td>\n",
       "      <td>2004-05-01</td>\n",
       "      <td>Male</td>\n",
       "      <td>Other</td>\n",
       "      <td>CSP60</td>\n",
       "      <td>Private</td>\n",
       "      <td>57</td>\n",
       "      <td>0</td>\n",
       "      <td>50</td>\n",
       "      <td>0.0</td>\n",
       "      <td>0</td>\n",
       "      <td>0.0</td>\n",
       "      <td>0.0</td>\n",
       "      <td>0.0</td>\n",
       "      <td>0.0</td>\n",
       "      <td>0.0</td>\n",
       "      <td>0.0</td>\n",
       "      <td>7.0</td>\n",
       "    </tr>\n",
       "  </tbody>\n",
       "</table>\n",
       "</div>"
      ],
      "text/plain": [
       "   Exposure  LicAge   RecordBeg  ... ClaimNbWindscreen OutUseNb RiskArea\n",
       "0     0.083     332  2004-01-01  ...               0.0      0.0      9.0\n",
       "1     0.916     333  2004-02-01  ...               0.0      0.0      9.0\n",
       "2     0.550     173  2004-05-15  ...               0.0      0.0      7.0\n",
       "3     0.089     364  2004-11-29  ...               0.0      0.0      8.0\n",
       "4     0.233     426  2004-02-07  ...               0.0      0.0      7.0\n",
       "\n",
       "[5 rows x 20 columns]"
      ]
     },
     "execution_count": 8,
     "metadata": {
      "tags": []
     },
     "output_type": "execute_result"
    }
   ],
   "source": [
    "df.head()"
   ]
  },
  {
   "cell_type": "markdown",
   "metadata": {
    "id": "8H5hPTqmZ_b7"
   },
   "source": [
    "Для моделирования частоты убытков сгенерируем показатель как сумму индикатора того, что убыток произошел (\"ClaimInd\") и количества заявленных убытков по различным видам ущерба за 4 предшествующих года (\"ClaimNbResp\", \"ClaimNbNonResp\", \"ClaimNbParking\", \"ClaimNbFireTheft\", \"ClaimNbWindscreen\").\n",
    "\n",
    "В случаях, если соответствующая величина убытка равняется нулю, сгенерированную частоту также обнулим."
   ]
  },
  {
   "cell_type": "code",
   "execution_count": 9,
   "metadata": {
    "colab": {
     "base_uri": "https://localhost:8080/"
    },
    "id": "IV1_GLd89esW",
    "outputId": "b1f7cfb9-983b-436c-b552-ec682e6bba64"
   },
   "outputs": [
    {
     "data": {
      "text/plain": [
       "Index(['Exposure', 'LicAge', 'RecordBeg', 'RecordEnd', 'Gender', 'MariStat',\n",
       "       'SocioCateg', 'VehUsage', 'DrivAge', 'HasKmLimit', 'BonusMalus',\n",
       "       'ClaimAmount', 'ClaimInd', 'ClaimNbResp', 'ClaimNbNonResp',\n",
       "       'ClaimNbParking', 'ClaimNbFireTheft', 'ClaimNbWindscreen', 'OutUseNb',\n",
       "       'RiskArea'],\n",
       "      dtype='object')"
      ]
     },
     "execution_count": 9,
     "metadata": {
      "tags": []
     },
     "output_type": "execute_result"
    }
   ],
   "source": [
    "df.columns"
   ]
  },
  {
   "cell_type": "code",
   "execution_count": 10,
   "metadata": {
    "id": "5I-7xLLxZ_b7"
   },
   "outputs": [],
   "source": [
    "df['ClaimsCount'] = df.ClaimInd + df.ClaimNbResp + df.ClaimNbNonResp + df.ClaimNbParking + df.ClaimNbFireTheft + df.ClaimNbWindscreen\n",
    "df.loc[df.ClaimAmount == 0, 'ClaimsCount'] = 0\n",
    "df.drop([\"ClaimNbResp\", \"ClaimNbNonResp\", \"ClaimNbParking\", \"ClaimNbFireTheft\", \"ClaimNbWindscreen\"], axis=1, inplace=True)"
   ]
  },
  {
   "cell_type": "code",
   "execution_count": 11,
   "metadata": {
    "colab": {
     "base_uri": "https://localhost:8080/",
     "height": 377
    },
    "id": "XKvjzOr1Z_b-",
    "outputId": "41bb54ed-2f57-4a03-85c3-bfa7f72cc71f"
   },
   "outputs": [
    {
     "data": {
      "text/html": [
       "<div>\n",
       "<style scoped>\n",
       "    .dataframe tbody tr th:only-of-type {\n",
       "        vertical-align: middle;\n",
       "    }\n",
       "\n",
       "    .dataframe tbody tr th {\n",
       "        vertical-align: top;\n",
       "    }\n",
       "\n",
       "    .dataframe thead th {\n",
       "        text-align: right;\n",
       "    }\n",
       "</style>\n",
       "<table border=\"1\" class=\"dataframe\">\n",
       "  <thead>\n",
       "    <tr style=\"text-align: right;\">\n",
       "      <th></th>\n",
       "      <th>Policies</th>\n",
       "    </tr>\n",
       "  </thead>\n",
       "  <tbody>\n",
       "    <tr>\n",
       "      <th>0.0</th>\n",
       "      <td>104286</td>\n",
       "    </tr>\n",
       "    <tr>\n",
       "      <th>2.0</th>\n",
       "      <td>3529</td>\n",
       "    </tr>\n",
       "    <tr>\n",
       "      <th>1.0</th>\n",
       "      <td>3339</td>\n",
       "    </tr>\n",
       "    <tr>\n",
       "      <th>3.0</th>\n",
       "      <td>2310</td>\n",
       "    </tr>\n",
       "    <tr>\n",
       "      <th>4.0</th>\n",
       "      <td>1101</td>\n",
       "    </tr>\n",
       "    <tr>\n",
       "      <th>5.0</th>\n",
       "      <td>428</td>\n",
       "    </tr>\n",
       "    <tr>\n",
       "      <th>6.0</th>\n",
       "      <td>127</td>\n",
       "    </tr>\n",
       "    <tr>\n",
       "      <th>7.0</th>\n",
       "      <td>26</td>\n",
       "    </tr>\n",
       "    <tr>\n",
       "      <th>8.0</th>\n",
       "      <td>6</td>\n",
       "    </tr>\n",
       "    <tr>\n",
       "      <th>9.0</th>\n",
       "      <td>2</td>\n",
       "    </tr>\n",
       "    <tr>\n",
       "      <th>11.0</th>\n",
       "      <td>1</td>\n",
       "    </tr>\n",
       "  </tbody>\n",
       "</table>\n",
       "</div>"
      ],
      "text/plain": [
       "      Policies\n",
       "0.0     104286\n",
       "2.0       3529\n",
       "1.0       3339\n",
       "3.0       2310\n",
       "4.0       1101\n",
       "5.0        428\n",
       "6.0        127\n",
       "7.0         26\n",
       "8.0          6\n",
       "9.0          2\n",
       "11.0         1"
      ]
     },
     "execution_count": 11,
     "metadata": {
      "tags": []
     },
     "output_type": "execute_result"
    }
   ],
   "source": [
    "pd.DataFrame(df.ClaimsCount.value_counts()).rename({'ClaimsCount': 'Policies'}, axis=1)"
   ]
  },
  {
   "cell_type": "code",
   "execution_count": 12,
   "metadata": {
    "colab": {
     "base_uri": "https://localhost:8080/",
     "height": 294
    },
    "id": "BxD_wrQZZ_cC",
    "outputId": "2867ec75-82c5-44eb-afdb-890640aed60d"
   },
   "outputs": [
    {
     "data": {
      "image/png": "[encoded data removed]",
      "text/plain": [
       "<Figure size 432x288 with 1 Axes>"
      ]
     },
     "metadata": {
      "needs_background": "light",
      "tags": []
     },
     "output_type": "display_data"
    }
   ],
   "source": [
    "\n",
    "sns.scatterplot( x = df['ClaimsCount'],y = df['ClaimAmount'], hue = df.Gender)\n",
    "plt.title('Зависимость между частотой и величиной убытков')\n",
    "plt.show()"
   ]
  },
  {
   "cell_type": "code",
   "execution_count": 13,
   "metadata": {
    "colab": {
     "base_uri": "https://localhost:8080/",
     "height": 281
    },
    "id": "BKNeW7nCi7E-",
    "outputId": "cc075bfb-9988-4bc0-9fbe-54782d5a0e2a"
   },
   "outputs": [
    {
     "data": {
      "image/png": "[encoded data removed]",
      "text/plain": [
       "<Figure size 432x288 with 1 Axes>"
      ]
     },
     "metadata": {
      "needs_background": "light",
      "tags": []
     },
     "output_type": "display_data"
    }
   ],
   "source": [
    "plt.hist(df['ClaimsCount'], bins=10)\n",
    "plt.title(' частотa убытков')\n",
    "plt.show()"
   ]
  },
  {
   "cell_type": "markdown",
   "metadata": {
    "id": "KWT_qc_UZ_cK"
   },
   "source": [
    "Для моделирования среднего убытка можем рассчитать его как отношение величины убытков к их частоте."
   ]
  },
  {
   "cell_type": "code",
   "execution_count": 14,
   "metadata": {
    "id": "CmPKyzHLZ_cK"
   },
   "outputs": [],
   "source": [
    "df.loc[df.ClaimsCount > 0, 'AvgClaim'] = df['ClaimAmount']/df['ClaimsCount']"
   ]
  },
  {
   "cell_type": "markdown",
   "metadata": {
    "id": "oR02DxanOGDk"
   },
   "source": [
    "## Общие преобразования"
   ]
  },
  {
   "cell_type": "markdown",
   "metadata": {
    "id": "JbIX5hsRR2qA"
   },
   "source": [
    "Класс для общих случаев"
   ]
  },
  {
   "cell_type": "code",
   "execution_count": 15,
   "metadata": {
    "id": "Yam47yC5KkWF"
   },
   "outputs": [],
   "source": [
    "class InsDataFrame:\n",
    "\n",
    "\n",
    "    ''' Load data method '''\n",
    "\n",
    "    def load_pd(self, pd_dataframe):\n",
    "        self._df = pd_dataframe\n",
    "\n",
    "\n",
    "    ''' Columns match method '''\n",
    "\n",
    "    def columns_match(self, match_from_to):\n",
    "        self._df.rename(columns=match_from_to, inplace=True)\n",
    "\n",
    "\n",
    "    ''' Person data methods '''\n",
    "\n",
    "    # Gender\n",
    "    _gender_dict = {'Male':0, 'Female':1}\n",
    "\n",
    "    def transform_gender(self):\n",
    "        self._df['Gender'] = self._df['Gender'].map(self._gender_dict)\n",
    "\n",
    "        \n",
    "\n",
    "    # Age\n",
    "    @staticmethod\n",
    "    def _age(age, age_max):\n",
    "        if pd.isnull(age):\n",
    "            age = None\n",
    "        elif age < 18:\n",
    "            age = None\n",
    "        elif age > age_max:\n",
    "            age = age_max\n",
    "        return age\n",
    "      \n",
    "    def transform_age(self, age_max=70):\n",
    "        self._df['driver_minage'] = self._df['driver_minage'].apply(self._age, args=(age_max,))\n",
    "\n",
    "    # Age M/F\n",
    "    @staticmethod\n",
    "    def _age_gender(age_gender):\n",
    "        _age = age_gender[0]\n",
    "        _gender = age_gender[1]\n",
    "        if _gender == 0: #Male\n",
    "            _driver_minage_m = _age\n",
    "            _driver_minage_f = 18\n",
    "        elif _gender == 1: #Female\n",
    "            _driver_minage_m = 18\n",
    "            _driver_minage_f = _age\n",
    "        else:\n",
    "            _driver_minage_m = 18\n",
    "            _driver_minage_f = 18\n",
    "        return [_driver_minage_m, _driver_minage_f]\n",
    "    \n",
    "    def transform_age_gender(self):\n",
    "        self._df['driver_minage_m'],self._df['driver_minage_f'] = zip(*self._df[['driver_minage','Gender']].apply(self._age_gender, axis=1).to_frame()[0])\n",
    "\n",
    "    # Experience\n",
    "    @staticmethod\n",
    "    def _exp(exp, exp_max):\n",
    "        if pd.isnull(exp):\n",
    "            exp = None\n",
    "        elif exp < 0:\n",
    "            exp = None\n",
    "        elif exp > exp_max:\n",
    "            exp = exp_max\n",
    "        return exp\n",
    "\n",
    "    def transform_exp(self, exp_max=52):\n",
    "        self._df['driver_minexp'] = self._df['driver_minexp'].apply(self._exp, args=(exp_max,))\n",
    "\n",
    "\n",
    "    ''' Other data methods '''\n",
    "\n",
    "    def polynomizer(self, column, n=2):\n",
    "        if column in list(self._df.columns):\n",
    "            for i in range(2,n+1):\n",
    "                self._df[column+'_'+str(i)] = self._df[column]**i\n",
    "\n",
    "    def get_dummies(self, columns):\n",
    "        self._df = pd.get_dummies(self._df, columns=columns)\n",
    "\n",
    "\n",
    "    ''' General methods '''\n",
    "\n",
    "    def info(self):\n",
    "        return self._df.info()\n",
    "\n",
    "    def head(self, columns, n=5):\n",
    "        return self._df.head(n)\n",
    "\n",
    "    def len(self):\n",
    "        return len(self._df)\n",
    "\n",
    "    def get_pd(self, columns):\n",
    "        return self._df[columns]"
   ]
  },
  {
   "cell_type": "markdown",
   "metadata": {
    "id": "4kCFRjwRR7fR"
   },
   "source": [
    "Создаем класс-наследник, в котором переопределяем некоторые методы, специфические для конкретной ситуации, и создаем новые"
   ]
  },
  {
   "cell_type": "markdown",
   "metadata": {
    "id": "EM6EUhT3Z_cV"
   },
   "source": [
    "- В данных стаж \"LicAge\" измеряется в неделях.\n",
    "- Фактор \"SocioCateg\" содержит информацию о социальной категории в виде кодов классификации CSP. Агрегируем имеющиеся коды до 1 знака, а затем закодируем их с помощью one-hot encoding.\n",
    "\n",
    "[Wiki](https://fr.wikipedia.org/wiki/Professions_et_cat%C3%A9gories_socioprofessionnelles_en_France#Cr%C3%A9ation_de_la_nomenclature_des_PCS)\n",
    "\n",
    "[Более подробный классификатор](https://www.ast74.fr/upload/administratif/liste-des-codes-csp-copie.pdf)"
   ]
  },
  {
   "cell_type": "code",
   "execution_count": 16,
   "metadata": {
    "id": "iIaUlNP9Kkaa"
   },
   "outputs": [],
   "source": [
    "class InsDataFrame_Fr(InsDataFrame):\n",
    "\n",
    "    # Experience (weeks to years)\n",
    "    @staticmethod\n",
    "    def _exp(exp, exp_max):\n",
    "        if pd.isnull(exp):\n",
    "            exp = None\n",
    "        elif exp < 0:\n",
    "            exp = None\n",
    "        else:\n",
    "            exp * 7 // 365\n",
    "        if exp > exp_max:\n",
    "            exp = exp_max\n",
    "        return exp\n",
    "\n",
    "    # Marital status\n",
    "    _MariStat_dict = {'Other':0, 'Alone':1}\n",
    "\n",
    "    def transform_MariStat(self):\n",
    "        self._df['MariStat'] = self._df['MariStat'].map(self._MariStat_dict)\n",
    "    \n",
    "    # Social category\n",
    "    def transform_SocioCateg(self):\n",
    "        self._df['SocioCateg'] = self._df['SocioCateg'].str.slice(0,4)"
   ]
  },
  {
   "cell_type": "markdown",
   "metadata": {
    "id": "vitxWSSBTafg"
   },
   "source": [
    "Подгружаем данные"
   ]
  },
  {
   "cell_type": "code",
   "execution_count": 17,
   "metadata": {
    "id": "EChIUi3CKkdP"
   },
   "outputs": [],
   "source": [
    "data = InsDataFrame_Fr()"
   ]
  },
  {
   "cell_type": "code",
   "execution_count": 18,
   "metadata": {
    "id": "rrDsfQK8KkhM"
   },
   "outputs": [],
   "source": [
    "data.load_pd(df)"
   ]
  },
  {
   "cell_type": "code",
   "execution_count": 19,
   "metadata": {
    "colab": {
     "base_uri": "https://localhost:8080/"
    },
    "id": "T9A3J4AZUc79",
    "outputId": "7e096387-0ae4-4473-a341-93a623fb7899"
   },
   "outputs": [
    {
     "name": "stdout",
     "output_type": "stream",
     "text": [
      "<class 'pandas.core.frame.DataFrame'>\n",
      "RangeIndex: 115155 entries, 0 to 115154\n",
      "Data columns (total 17 columns):\n",
      " #   Column       Non-Null Count   Dtype  \n",
      "---  ------       --------------   -----  \n",
      " 0   Exposure     115155 non-null  float64\n",
      " 1   LicAge       115155 non-null  int64  \n",
      " 2   RecordBeg    115155 non-null  object \n",
      " 3   RecordEnd    59455 non-null   object \n",
      " 4   Gender       115155 non-null  object \n",
      " 5   MariStat     115155 non-null  object \n",
      " 6   SocioCateg   115155 non-null  object \n",
      " 7   VehUsage     115155 non-null  object \n",
      " 8   DrivAge      115155 non-null  int64  \n",
      " 9   HasKmLimit   115155 non-null  int64  \n",
      " 10  BonusMalus   115155 non-null  int64  \n",
      " 11  ClaimAmount  115155 non-null  float64\n",
      " 12  ClaimInd     115155 non-null  int64  \n",
      " 13  OutUseNb     115155 non-null  float64\n",
      " 14  RiskArea     115155 non-null  float64\n",
      " 15  ClaimsCount  115155 non-null  float64\n",
      " 16  AvgClaim     10869 non-null   float64\n",
      "dtypes: float64(6), int64(5), object(6)\n",
      "memory usage: 14.9+ MB\n"
     ]
    }
   ],
   "source": [
    "data.info()"
   ]
  },
  {
   "cell_type": "markdown",
   "metadata": {
    "id": "QoRagZL0V2gJ"
   },
   "source": [
    "Преобразовываем параметры"
   ]
  },
  {
   "cell_type": "code",
   "execution_count": 20,
   "metadata": {
    "id": "95FE5f2rWG7e"
   },
   "outputs": [],
   "source": [
    "# Переименовываем\n",
    "data.columns_match({'DrivAge':'driver_minage','LicAge':'driver_minexp'})"
   ]
  },
  {
   "cell_type": "code",
   "execution_count": 21,
   "metadata": {
    "id": "EJLDDNW_Uc99"
   },
   "outputs": [],
   "source": [
    "# Преобразовываем\n",
    "data.transform_age()\n",
    "data.transform_exp()\n",
    "data.transform_gender()\n",
    "data.transform_MariStat()\n",
    "data.transform_SocioCateg()"
   ]
  },
  {
   "cell_type": "code",
   "execution_count": 22,
   "metadata": {
    "id": "7ZoN-JXZUdCZ"
   },
   "outputs": [],
   "source": [
    "# Пересечение пола и возраста, их квадраты\n",
    "data.transform_age_gender()\n",
    "data.polynomizer('driver_minage_m')\n",
    "data.polynomizer('driver_minage_f')"
   ]
  },
  {
   "cell_type": "markdown",
   "metadata": {
    "id": "jgv_0o_iZ_c2"
   },
   "source": [
    "Для переменных, содержащих более 2 значений:\n",
    "- либо упорядочиваем значения,\n",
    "- либо используем фиктивные переменные (one-hot encoding)."
   ]
  },
  {
   "cell_type": "code",
   "execution_count": 23,
   "metadata": {
    "id": "eKCHRXxwUc6j"
   },
   "outputs": [],
   "source": [
    "# Onehot encoding\n",
    "data.get_dummies(['VehUsage','SocioCateg'])"
   ]
  },
  {
   "cell_type": "code",
   "execution_count": 24,
   "metadata": {
    "colab": {
     "base_uri": "https://localhost:8080/"
    },
    "id": "s675sGQtKkYq",
    "outputId": "6d6b79d5-bd7a-402d-cd2d-56cb796c0bcb"
   },
   "outputs": [
    {
     "name": "stdout",
     "output_type": "stream",
     "text": [
      "<class 'pandas.core.frame.DataFrame'>\n",
      "RangeIndex: 115155 entries, 0 to 115154\n",
      "Data columns (total 30 columns):\n",
      " #   Column                           Non-Null Count   Dtype  \n",
      "---  ------                           --------------   -----  \n",
      " 0   Exposure                         115155 non-null  float64\n",
      " 1   driver_minexp                    115155 non-null  int64  \n",
      " 2   RecordBeg                        115155 non-null  object \n",
      " 3   RecordEnd                        59455 non-null   object \n",
      " 4   Gender                           115155 non-null  int64  \n",
      " 5   MariStat                         115155 non-null  int64  \n",
      " 6   driver_minage                    115155 non-null  int64  \n",
      " 7   HasKmLimit                       115155 non-null  int64  \n",
      " 8   BonusMalus                       115155 non-null  int64  \n",
      " 9   ClaimAmount                      115155 non-null  float64\n",
      " 10  ClaimInd                         115155 non-null  int64  \n",
      " 11  OutUseNb                         115155 non-null  float64\n",
      " 12  RiskArea                         115155 non-null  float64\n",
      " 13  ClaimsCount                      115155 non-null  float64\n",
      " 14  AvgClaim                         10869 non-null   float64\n",
      " 15  driver_minage_m                  115155 non-null  int64  \n",
      " 16  driver_minage_f                  115155 non-null  int64  \n",
      " 17  driver_minage_m_2                115155 non-null  int64  \n",
      " 18  driver_minage_f_2                115155 non-null  int64  \n",
      " 19  VehUsage_Private                 115155 non-null  uint8  \n",
      " 20  VehUsage_Private+trip to office  115155 non-null  uint8  \n",
      " 21  VehUsage_Professional            115155 non-null  uint8  \n",
      " 22  VehUsage_Professional run        115155 non-null  uint8  \n",
      " 23  SocioCateg_CSP1                  115155 non-null  uint8  \n",
      " 24  SocioCateg_CSP2                  115155 non-null  uint8  \n",
      " 25  SocioCateg_CSP3                  115155 non-null  uint8  \n",
      " 26  SocioCateg_CSP4                  115155 non-null  uint8  \n",
      " 27  SocioCateg_CSP5                  115155 non-null  uint8  \n",
      " 28  SocioCateg_CSP6                  115155 non-null  uint8  \n",
      " 29  SocioCateg_CSP7                  115155 non-null  uint8  \n",
      "dtypes: float64(6), int64(11), object(2), uint8(11)\n",
      "memory usage: 17.9+ MB\n"
     ]
    }
   ],
   "source": [
    "data.info()"
   ]
  },
  {
   "cell_type": "code",
   "execution_count": 25,
   "metadata": {
    "id": "2GplOpk-ZwKo"
   },
   "outputs": [],
   "source": [
    "col_features = [\n",
    "                'driver_minexp',\n",
    "                'Gender',\n",
    "                'MariStat',\n",
    "                'HasKmLimit',\n",
    "                'BonusMalus',\n",
    "                'OutUseNb',\n",
    "                'RiskArea',\n",
    "                'driver_minage_m',\n",
    "                'driver_minage_f',\n",
    "                'driver_minage_m_2',\n",
    "                'driver_minage_f_2',\n",
    "                'VehUsage_Private',\n",
    "                'VehUsage_Private+trip to office',\n",
    "                'VehUsage_Professional',\n",
    "                'VehUsage_Professional run',\n",
    "                'SocioCateg_CSP1',\n",
    "                'SocioCateg_CSP2',\n",
    "                'SocioCateg_CSP3',\n",
    "                'SocioCateg_CSP4',\n",
    "                'SocioCateg_CSP5',\n",
    "                'SocioCateg_CSP6',\n",
    "                'SocioCateg_CSP7'  \n",
    "]"
   ]
  },
  {
   "cell_type": "code",
   "execution_count": 26,
   "metadata": {
    "id": "fUtDoYin88Ni"
   },
   "outputs": [],
   "source": [
    "col_features1 = [\n",
    "                'driver_minexp',\n",
    "                'Gender',\n",
    "                'MariStat',\n",
    "                'HasKmLimit',\n",
    "                'BonusMalus',\n",
    "                'OutUseNb',\n",
    "                'RiskArea',\n",
    "                'driver_minage_m',\n",
    "                'driver_minage_f',\n",
    "                'driver_minage_m_2',\n",
    "                'driver_minage_f_2',\n",
    "                'VehUsage_Private',\n",
    "                'VehUsage_Private+trip to office',\n",
    "                'VehUsage_Professional',\n",
    "                'SocioCateg_CSP1',\n",
    "                'SocioCateg_CSP2',\n",
    "                'SocioCateg_CSP3',\n",
    "                'SocioCateg_CSP4',\n",
    "                'SocioCateg_CSP5',\n",
    "                'SocioCateg_CSP6',\n",
    "    \n",
    "]"
   ]
  },
  {
   "cell_type": "code",
   "execution_count": 27,
   "metadata": {
    "id": "D6jg_yJo9SCf"
   },
   "outputs": [],
   "source": [
    "col_features=col_features1"
   ]
  },
  {
   "cell_type": "code",
   "execution_count": 28,
   "metadata": {
    "id": "T6bKm8RBcC1v"
   },
   "outputs": [],
   "source": [
    "col_target = ['ClaimAmount', 'ClaimsCount', 'AvgClaim']"
   ]
  },
  {
   "cell_type": "code",
   "execution_count": 29,
   "metadata": {
    "id": "60BxEUC6dqtO"
   },
   "outputs": [],
   "source": [
    "df_freq = data.get_pd(col_features+col_target)"
   ]
  },
  {
   "cell_type": "code",
   "execution_count": 30,
   "metadata": {
    "id": "G9u4U7-Bd-ob"
   },
   "outputs": [],
   "source": [
    "df_ac = df_freq[df_freq['ClaimsCount'] > 0].reset_index().copy()"
   ]
  },
  {
   "cell_type": "markdown",
   "metadata": {
    "id": "VpYxkXdrLD01"
   },
   "source": [
    "## Разделение набора данных на обучающую, валидационную и тестовую выборки"
   ]
  },
  {
   "cell_type": "code",
   "execution_count": 31,
   "metadata": {
    "id": "piO1n8o2LFAJ"
   },
   "outputs": [],
   "source": [
    "from sklearn.model_selection import train_test_split"
   ]
  },
  {
   "cell_type": "code",
   "execution_count": 32,
   "metadata": {
    "id": "dGvhYDXdLFoR"
   },
   "outputs": [],
   "source": [
    "# Разбиение датасета для частоты на train/val/test\n",
    "\n",
    "x_train_c, x_test_c, y_train_c, y_test_c = train_test_split(df_freq[col_features], df_freq.ClaimsCount, test_size=0.3, random_state=1)\n",
    "x_valid_c, x_test_c, y_valid_c, y_test_c = train_test_split(x_test_c, y_test_c, test_size=0.5, random_state=1)"
   ]
  },
  {
   "cell_type": "code",
   "execution_count": 33,
   "metadata": {
    "id": "XBBJ06RA96Xk"
   },
   "outputs": [],
   "source": [
    "# Разбиение датасета для среднего убытка на train/val/test \n",
    "\n",
    "x_train_ac, x_test_ac, y_train_ac, y_test_ac = train_test_split(df_ac[col_features], df_ac.AvgClaim, test_size=0.3, random_state=1)\n",
    "x_valid_ac, x_test_ac, y_valid_ac, y_test_ac = train_test_split(x_test_ac, y_test_ac, test_size=0.5, random_state=1)"
   ]
  },
  {
   "cell_type": "markdown",
   "metadata": {
    "id": "MVH6ncAFgWXF"
   },
   "source": [
    "# Градиентный бустинг"
   ]
  },
  {
   "cell_type": "markdown",
   "metadata": {
    "id": "BukxXDoCQUJe"
   },
   "source": [
    "Градиентный бустинг - ансамблевый метод машинного обучения, использующийся для задач классификации, регрессии и ранжирования. Ансамбль представляет собой композицию простых базовых алгоритмов, в качестве которых обычно используются деревья решений. \n",
    "\n",
    "Классический алгоритм GBM был предложен [Джеромом Фридманом в\n",
    "1999 году](https://statweb.stanford.edu/~jhf/ftp/trebst.pdf). Популярность методов GBM пришла в 2015-2016 гг. благодаря большому\n",
    "успеху библиотеки XGBoost в соревнованиях Kaggle.\n",
    "\n",
    "Популярные библиотеки для GBM:\n",
    "* XGBoost (eXtreme Gradient Boosting)\n",
    "    * скорость, масштабируемость, поддержка распределенных вычислений\n",
    "    * добавление компоненты регуляризации, отсутствовавшей в классическом алгоритме GBM\n",
    "* LightGBM\n",
    "    * использование алгоритмов, основанных на гистограммах, которые позволяют сократить время исполнения и потребление памяти в процессе обучения моделей. \n",
    "* CatBoost (Categorical Boosting)\n",
    "    * предназначается для эффективной работы с категориальными признаками\n",
    "\n",
    "Все перечисленные библиотеки зачастую имеют сравнимый результат."
   ]
  },
  {
   "cell_type": "markdown",
   "metadata": {
    "id": "Irg71_9zMJxT"
   },
   "source": [
    "### Теория (XGBoost)"
   ]
  },
  {
   "cell_type": "markdown",
   "metadata": {
    "id": "R5SOE8shgaDi"
   },
   "source": [
    "**Модель**\n",
    "\n",
    "Пусть $y_i$ – значение переменной, которое необходимо предсказать, $x_i$ – входные данные.\n",
    "\n",
    "Модель имеет вид\n",
    "$$\\hat{y}_i = \\sum_{k=1}^K f_k(x_i),\\hspace{10pt} f_k \\in \\mathcal{F},$$\n",
    "где $K$ – количество деревьев, $f$ – функция на пространстве $\\mathcal{F}$, которое содержит все возможные деревья решений."
   ]
  },
  {
   "cell_type": "markdown",
   "metadata": {
    "id": "Ym9L6IPcqVVI"
   },
   "source": [
    "**Целевая функция**\n",
    "$$\\text{Obj}(\\theta) = L(\\theta) + \\Omega(\\theta),$$\n",
    "где \n",
    "* $\\theta$ – параметры модели;\n",
    "* $L$ – величина потерь на обучающей выборке  (насколько хорошо модель описывает данные?);\n",
    "* $\\Omega$ – компонента, отвечающая за регуляризацию (насколько модель сложная?)."
   ]
  },
  {
   "cell_type": "markdown",
   "metadata": {
    "id": "vd3oGOeaoZh5"
   },
   "source": [
    "Тогда для представленной модели $\\theta = \\{f_1,f_2,\\cdots,f_K\\}$,\n",
    "\n",
    "$$\\text{Obj} = \\sum_{i=1}^n l(y_i, \\hat{y}_i) + \\sum_{k=1}^K\\Omega(f_k),$$\n",
    "где $l(y_i, \\hat{y}_i)$ – функция потерь."
   ]
  },
  {
   "cell_type": "markdown",
   "metadata": {
    "id": "eI_eHXwzvH0u"
   },
   "source": [
    "**Обучение**\n",
    "\n",
    "Необходимо обучить функции $f_i$, каждая из которых включает структуру дерева и значения листьев.\n",
    "\n",
    "Обозначим $\\hat{y}_i^{(t)}$ предсказанное значение на шаге $t$. Тогда целевая функция имеет вид:\n",
    "$$\\text{Obj} = \\sum_{i=1}^n l\\left(y_i, \\hat{y}_i^{(t)}\\right) + \\sum_{i=1}^t\\Omega(f_i).$$\n",
    "\n",
    "Обучение деревьев происходит поочередно, начиная с постоянного предсказания:\n",
    "$$\\begin{split}\\hat{y}_i^{(0)} &= 0\\\\\n",
    "\\hat{y}_i^{(1)} &= f_1(x_i) = \\hat{y}_i^{(0)} + f_1(x_i)\\\\\n",
    "\\hat{y}_i^{(2)} &= f_1(x_i) + f_2(x_i)= \\hat{y}_i^{(1)} + f_2(x_i)\\\\\n",
    "&\\dots\\\\\n",
    "\\hat{y}_i^{(t)} &= \\sum_{k=1}^t f_k(x_i)= \\hat{y}_i^{(t-1)} + f_t(x_i)\\end{split}$$"
   ]
  },
  {
   "cell_type": "markdown",
   "metadata": {
    "id": "VYz3zEW71N8C"
   },
   "source": [
    "На каждом шаге выбирается дерево, которое оптимизирует целевую функцию.\n",
    "$$\\begin{split}\\text{Obj}^{(t)} & = \\sum_{i=1}^n l\\left(y_i, \\hat{y}_i^{(t)}\\right) + \\sum_{i=1}^t\\Omega(f_i) \\\\\n",
    "          & = \\sum_{i=1}^n l\\left(y_i, \\hat{y}_i^{(t-1)} + f_t(x_i)\\right) + \\Omega(f_t) + \\mathrm{constant}\\end{split}$$\n"
   ]
  },
  {
   "cell_type": "markdown",
   "metadata": {
    "id": "8-zi2JEM35fZ"
   },
   "source": [
    "Для упрощения задачи оптимизации для заданной функции потерь используется разложение Тейлора:\n",
    "$$F(x+\\Delta x) \\simeq F(x) + F'(x)\\Delta x + \\frac{1}{2} F''(x)\\Delta x^2 + \\dots$$"
   ]
  },
  {
   "cell_type": "markdown",
   "metadata": {
    "id": "I_w40vQYAqbM"
   },
   "source": [
    "Тогда обозначив градиент и гессиан функции потерь соответственно\n",
    "$$g_i = \\partial_{\\hat{y}_i^{(t-1)}} l(y_i, \\hat{y}_i^{(t-1)}),\\hspace{10pt}h_i = \\partial_{\\hat{y}_i^{(t-1)}}^2 l(y_i, \\hat{y}_i^{(t-1)}),$$\n",
    "целевая функция будет иметь вид\n",
    "$$\\text{Obj}^{(t)} = \\sum_{i=1}^n [l(y_i, \\hat{y}_i^{(t-1)}) + g_i f_t(x_i) + \\frac{1}{2} h_i f_t^2(x_i)] + \\Omega(f_t) + \\mathrm{constant}.$$\n",
    "\n",
    "Убирая константы на шаге $t$, целевая функция упрощается в виде:\n",
    "$$\\text{Obj}^{(t)} = \\sum_{i=1}^n [g_i f_t(x_i) + \\frac{1}{2} h_i f_t^2(x_i)] + \\Omega(f_t).$$"
   ]
  },
  {
   "cell_type": "markdown",
   "metadata": {
    "id": "8AacStqBAy5F"
   },
   "source": [
    "Таким образом, величина потерь $L$ зависит только от $g_i$ и $h_i$.\n",
    "\n",
    "Благодаря этому, XGBoost поддерживает пользовательские целевые функции, для которых достаточно задать градиент и гессиан функции потерь."
   ]
  },
  {
   "cell_type": "markdown",
   "metadata": {
    "id": "i0Y3sMqXA2Vo"
   },
   "source": [
    "**Регуляризация**\n",
    "\n",
    "Для начала определим дерево $f_t(x)$:\n",
    "$$f_t(x) = w_{q(x)}, w \\in R^T, q:R^d\\rightarrow \\{1,2,\\cdots,T\\},$$\n",
    "где $w$ – вектор значений на листьях дерева, $T$ – количество листьев, $q$ – функция, которая каждой точке набора данных ставит в соответствие лист дерева.\n",
    "\n",
    "Тогда сложность модели имеет вид\n",
    "$$\\Omega(f) = \\gamma T + \\frac{1}{2}\\lambda \\sum_{j=1}^T w_j^2+ \\alpha \\sum_{j=1}^T |w_j|,$$\n",
    "где $\\gamma$ – штраф на сложность деревьев, $\\lambda$ – сила регуляризации $\\ell_2$, $\\alpha$ – сила регуляризации $\\ell_1$."
   ]
  },
  {
   "cell_type": "markdown",
   "metadata": {
    "id": "32HYRySHKNXG"
   },
   "source": [
    "**Переобучение**\n",
    "Для контроля переобучения помимо параметров $\\gamma$, $\\alpha$ и $\\lambda$ используются также параметры:\n",
    "* Контролирующие сложность модели напрямую \n",
    "    * максимальная глубина дерева (`max_depth`)\n",
    "    * минимальный вес в узле, ниже которого прекращается дальнейшее разделение в этом узле (`min_child_weight`)\n",
    "* Добавляющие случайность, повышая устойчивость к зашумлению\n",
    "    * $\\eta$ – величина шага. $\\eta \\in (0,1]$.\n",
    "    Вместо $\\hat{y}_i^{(t)} = \\hat{y}_i^{(t-1)} + f_t(x_i)$ используется \n",
    "    $\\hat{y}_i^{(t)} = \\hat{y}_i^{(t-1)} + \\eta\\cdot f_t(x_i)$\n",
    "    * Доля подвыборки наблюдений для построения деревьев (`subsample`)\n",
    "    * Доля подвыборки признаков для построения деревьев (`colsample_bytree`)"
   ]
  },
  {
   "cell_type": "markdown",
   "metadata": {
    "id": "lXsDrEFULk1e"
   },
   "source": [
    "Теория, стоящая за оценкой весов на листьях и нахождением разделений выходит за рамки нашего рассмотрения."
   ]
  },
  {
   "cell_type": "markdown",
   "metadata": {
    "id": "o9-S2EaWwf2a"
   },
   "source": [
    "* [Chen, Tianqi, and Carlos Guestrin. \"Xgboost: A scalable tree boosting system.\" ](https://arxiv.org/pdf/1603.02754.pdf)\n",
    "* [XGBoost Documentation](https://xgboost.readthedocs.io/en/latest/tutorials/model.html)\n",
    "* [А. Дьяконов «Введение в анализ данных и машинное обучение». Градиентный бустинг](https://alexanderdyakonov.files.wordpress.com/2017/06/book_boosting_pdf.pdf)\n",
    "* [Rokach, Lior. Ensemble Learning: Pattern Classification Using Ensemble Methods (Second Edition)](https://books.google.ru/books/about/Ensemble_Learning_Pattern_Classification.html?id=_AmMDwAAQBAJ&redir_esc=y)"
   ]
  },
  {
   "cell_type": "markdown",
   "metadata": {
    "id": "9VNfYb38XZlZ"
   },
   "source": [
    "### Выбор гиперпараметров"
   ]
  },
  {
   "cell_type": "markdown",
   "metadata": {
    "id": "7waUt1UL78-n"
   },
   "source": [
    "Основные гиперпараметры, используемые в библиотеке XGBoost\n",
    "* _objective_ - функция распределения\n",
    "* _eta_ - размер шага\n",
    "* _max_depth_ - максимальная глубина дерева\n",
    "* _min_child_weight_ - минимальный вес, необходимый дочерним элементам\n",
    "* _subsample_ - доля подвыборки для каждой итерации\n",
    "* _colsample_bytree_ - доля колонок, участвующих в итерации\n",
    "* _alpha_ - сила регуляризации L1\n",
    "* _lambda_ - сила регуляризации L2\n",
    "* _gamma_ - штраф на сложность деревьев\n",
    "* _num_boost_round_ - число итераций (фиксируем, не следует менять вместе с _eta_)\n",
    "* _early_stopping_rounds_ - число итераций для остановки, если не произошло улучшение метрики (фиксируем) "
   ]
  },
  {
   "cell_type": "markdown",
   "metadata": {
    "id": "WRwaDxWsXd_1"
   },
   "source": [
    "Стратегии подбора гиперпараметров:\n",
    "* Поиск на сетке (Grid Search, Randomized Search)\n",
    "* Покоординатный спуск (Coordinate Descent)\n",
    "* Генетические алгоритмы (Genetic Algorithms)\n",
    "* Байесовская оптимизация\n",
    "* ...\n",
    "\n",
    "[Использование некоторых алгоритмов подбора гиперпараметров для  XGBoost](https://towardsdatascience.com/doing-xgboost-hyper-parameter-tuning-the-smart-way-part-1-of-2-f6d255a45dde)"
   ]
  },
  {
   "cell_type": "markdown",
   "metadata": {
    "id": "mjXVH15FRo7c"
   },
   "source": [
    "Для подбора параметров воспользуемся реализацией алгоритма Tree-structured Parzen Estimator (TPE) в библиотеке `Hyperopt`. Алгоритм использует подход последовательной оптимизации, основанной на модели (sequential model-based optimization, SMBO). Метод основывается в байесовской оптимизации и гауссовских процессах.\n",
    "\n",
    "* [Bergstra, James S., et al. \"Algorithms for hyper-parameter optimization.\" Advances in neural information processing systems. 2011.](https://papers.nips.cc/paper/4443-algorithms-for-hyper-parameter-optimization.pdf)"
   ]
  },
  {
   "cell_type": "code",
   "execution_count": 34,
   "metadata": {
    "colab": {
     "base_uri": "https://localhost:8080/"
    },
    "id": "AK6oZZCXz3as",
    "outputId": "dff0faa5-a25b-4bfb-9693-de3dc3188710"
   },
   "outputs": [
    {
     "name": "stdout",
     "output_type": "stream",
     "text": [
      "Collecting hyperopt\n",
      "\u001b[?25l  Downloading https://files.pythonhosted.org/packages/a6/07/bd524635d218adae139be320eeac87fb4fbbd45c63b0bd58930c9e91f1fc/hyperopt-0.2.5-py2.py3-none-any.whl (965kB)\n",
      "\r",
      "\u001b[K     |▍                               | 10kB 20.0MB/s eta 0:00:01\r",
      "\u001b[K     |▊                               | 20kB 26.1MB/s eta 0:00:01\r",
      "\u001b[K     |█                               | 30kB 26.8MB/s eta 0:00:01\r",
      "\u001b[K     |█▍                              | 40kB 26.6MB/s eta 0:00:01\r",
      "\u001b[K     |█▊                              | 51kB 21.0MB/s eta 0:00:01\r",
      "\u001b[K     |██                              | 61kB 15.7MB/s eta 0:00:01\r",
      "\u001b[K     |██▍                             | 71kB 17.0MB/s eta 0:00:01\r",
      "\u001b[K     |██▊                             | 81kB 14.8MB/s eta 0:00:01\r",
      "\u001b[K     |███                             | 92kB 13.9MB/s eta 0:00:01\r",
      "\u001b[K     |███▍                            | 102kB 14.9MB/s eta 0:00:01\r",
      "\u001b[K     |███▊                            | 112kB 14.9MB/s eta 0:00:01\r",
      "\u001b[K     |████                            | 122kB 14.9MB/s eta 0:00:01\r",
      "\u001b[K     |████▍                           | 133kB 14.9MB/s eta 0:00:01\r",
      "\u001b[K     |████▊                           | 143kB 14.9MB/s eta 0:00:01\r",
      "\u001b[K     |█████                           | 153kB 14.9MB/s eta 0:00:01\r",
      "\u001b[K     |█████▍                          | 163kB 14.9MB/s eta 0:00:01\r",
      "\u001b[K     |█████▊                          | 174kB 14.9MB/s eta 0:00:01\r",
      "\u001b[K     |██████                          | 184kB 14.9MB/s eta 0:00:01\r",
      "\u001b[K     |██████▌                         | 194kB 14.9MB/s eta 0:00:01\r",
      "\u001b[K     |██████▉                         | 204kB 14.9MB/s eta 0:00:01\r",
      "\u001b[K     |███████▏                        | 215kB 14.9MB/s eta 0:00:01\r",
      "\u001b[K     |███████▌                        | 225kB 14.9MB/s eta 0:00:01\r",
      "\u001b[K     |███████▉                        | 235kB 14.9MB/s eta 0:00:01\r",
      "\u001b[K     |████████▏                       | 245kB 14.9MB/s eta 0:00:01\r",
      "\u001b[K     |████████▌                       | 256kB 14.9MB/s eta 0:00:01\r",
      "\u001b[K     |████████▉                       | 266kB 14.9MB/s eta 0:00:01\r",
      "\u001b[K     |█████████▏                      | 276kB 14.9MB/s eta 0:00:01\r",
      "\u001b[K     |█████████▌                      | 286kB 14.9MB/s eta 0:00:01\r",
      "\u001b[K     |█████████▉                      | 296kB 14.9MB/s eta 0:00:01\r",
      "\u001b[K     |██████████▏                     | 307kB 14.9MB/s eta 0:00:01\r",
      "\u001b[K     |██████████▌                     | 317kB 14.9MB/s eta 0:00:01\r",
      "\u001b[K     |██████████▉                     | 327kB 14.9MB/s eta 0:00:01\r",
      "\u001b[K     |███████████▏                    | 337kB 14.9MB/s eta 0:00:01\r",
      "\u001b[K     |███████████▌                    | 348kB 14.9MB/s eta 0:00:01\r",
      "\u001b[K     |███████████▉                    | 358kB 14.9MB/s eta 0:00:01\r",
      "\u001b[K     |████████████▏                   | 368kB 14.9MB/s eta 0:00:01\r",
      "\u001b[K     |████████████▌                   | 378kB 14.9MB/s eta 0:00:01\r",
      "\u001b[K     |█████████████                   | 389kB 14.9MB/s eta 0:00:01\r",
      "\u001b[K     |█████████████▎                  | 399kB 14.9MB/s eta 0:00:01\r",
      "\u001b[K     |█████████████▋                  | 409kB 14.9MB/s eta 0:00:01\r",
      "\u001b[K     |██████████████                  | 419kB 14.9MB/s eta 0:00:01\r",
      "\u001b[K     |██████████████▎                 | 430kB 14.9MB/s eta 0:00:01\r",
      "\u001b[K     |██████████████▋                 | 440kB 14.9MB/s eta 0:00:01\r",
      "\u001b[K     |███████████████                 | 450kB 14.9MB/s eta 0:00:01\r",
      "\u001b[K     |███████████████▎                | 460kB 14.9MB/s eta 0:00:01\r",
      "\u001b[K     |███████████████▋                | 471kB 14.9MB/s eta 0:00:01\r",
      "\u001b[K     |████████████████                | 481kB 14.9MB/s eta 0:00:01\r",
      "\u001b[K     |████████████████▎               | 491kB 14.9MB/s eta 0:00:01\r",
      "\u001b[K     |████████████████▋               | 501kB 14.9MB/s eta 0:00:01\r",
      "\u001b[K     |█████████████████               | 512kB 14.9MB/s eta 0:00:01\r",
      "\u001b[K     |█████████████████▎              | 522kB 14.9MB/s eta 0:00:01\r",
      "\u001b[K     |█████████████████▋              | 532kB 14.9MB/s eta 0:00:01\r",
      "\u001b[K     |██████████████████              | 542kB 14.9MB/s eta 0:00:01\r",
      "\u001b[K     |██████████████████▎             | 552kB 14.9MB/s eta 0:00:01\r",
      "\u001b[K     |██████████████████▋             | 563kB 14.9MB/s eta 0:00:01\r",
      "\u001b[K     |███████████████████             | 573kB 14.9MB/s eta 0:00:01\r",
      "\u001b[K     |███████████████████▍            | 583kB 14.9MB/s eta 0:00:01\r",
      "\u001b[K     |███████████████████▊            | 593kB 14.9MB/s eta 0:00:01\r",
      "\u001b[K     |████████████████████            | 604kB 14.9MB/s eta 0:00:01\r",
      "\u001b[K     |████████████████████▍           | 614kB 14.9MB/s eta 0:00:01\r",
      "\u001b[K     |████████████████████▊           | 624kB 14.9MB/s eta 0:00:01\r",
      "\u001b[K     |█████████████████████           | 634kB 14.9MB/s eta 0:00:01\r",
      "\u001b[K     |█████████████████████▍          | 645kB 14.9MB/s eta 0:00:01\r",
      "\u001b[K     |█████████████████████▊          | 655kB 14.9MB/s eta 0:00:01\r",
      "\u001b[K     |██████████████████████          | 665kB 14.9MB/s eta 0:00:01\r",
      "\u001b[K     |██████████████████████▍         | 675kB 14.9MB/s eta 0:00:01\r",
      "\u001b[K     |██████████████████████▊         | 686kB 14.9MB/s eta 0:00:01\r",
      "\u001b[K     |███████████████████████         | 696kB 14.9MB/s eta 0:00:01\r",
      "\u001b[K     |███████████████████████▍        | 706kB 14.9MB/s eta 0:00:01\r",
      "\u001b[K     |███████████████████████▊        | 716kB 14.9MB/s eta 0:00:01\r",
      "\u001b[K     |████████████████████████        | 727kB 14.9MB/s eta 0:00:01\r",
      "\u001b[K     |████████████████████████▍       | 737kB 14.9MB/s eta 0:00:01\r",
      "\u001b[K     |████████████████████████▊       | 747kB 14.9MB/s eta 0:00:01\r",
      "\u001b[K     |█████████████████████████       | 757kB 14.9MB/s eta 0:00:01\r",
      "\u001b[K     |█████████████████████████▍      | 768kB 14.9MB/s eta 0:00:01\r",
      "\u001b[K     |█████████████████████████▉      | 778kB 14.9MB/s eta 0:00:01\r",
      "\u001b[K     |██████████████████████████▏     | 788kB 14.9MB/s eta 0:00:01\r",
      "\u001b[K     |██████████████████████████▌     | 798kB 14.9MB/s eta 0:00:01\r",
      "\u001b[K     |██████████████████████████▉     | 808kB 14.9MB/s eta 0:00:01\r",
      "\u001b[K     |███████████████████████████▏    | 819kB 14.9MB/s eta 0:00:01\r",
      "\u001b[K     |███████████████████████████▌    | 829kB 14.9MB/s eta 0:00:01\r",
      "\u001b[K     |███████████████████████████▉    | 839kB 14.9MB/s eta 0:00:01\r",
      "\u001b[K     |████████████████████████████▏   | 849kB 14.9MB/s eta 0:00:01\r",
      "\u001b[K     |████████████████████████████▌   | 860kB 14.9MB/s eta 0:00:01\r",
      "\u001b[K     |████████████████████████████▉   | 870kB 14.9MB/s eta 0:00:01\r",
      "\u001b[K     |█████████████████████████████▏  | 880kB 14.9MB/s eta 0:00:01\r",
      "\u001b[K     |█████████████████████████████▌  | 890kB 14.9MB/s eta 0:00:01\r",
      "\u001b[K     |█████████████████████████████▉  | 901kB 14.9MB/s eta 0:00:01\r",
      "\u001b[K     |██████████████████████████████▏ | 911kB 14.9MB/s eta 0:00:01\r",
      "\u001b[K     |██████████████████████████████▌ | 921kB 14.9MB/s eta 0:00:01\r",
      "\u001b[K     |██████████████████████████████▉ | 931kB 14.9MB/s eta 0:00:01\r",
      "\u001b[K     |███████████████████████████████▏| 942kB 14.9MB/s eta 0:00:01\r",
      "\u001b[K     |███████████████████████████████▌| 952kB 14.9MB/s eta 0:00:01\r",
      "\u001b[K     |███████████████████████████████▉| 962kB 14.9MB/s eta 0:00:01\r",
      "\u001b[K     |████████████████████████████████| 972kB 14.9MB/s \n",
      "\u001b[?25hRequirement already satisfied, skipping upgrade: tqdm in /usr/local/lib/python3.7/dist-packages (from hyperopt) (4.41.1)\n",
      "Requirement already satisfied, skipping upgrade: networkx>=2.2 in /usr/local/lib/python3.7/dist-packages (from hyperopt) (2.5)\n",
      "Requirement already satisfied, skipping upgrade: cloudpickle in /usr/local/lib/python3.7/dist-packages (from hyperopt) (1.3.0)\n",
      "Requirement already satisfied, skipping upgrade: numpy in /usr/local/lib/python3.7/dist-packages (from hyperopt) (1.19.5)\n",
      "Requirement already satisfied, skipping upgrade: six in /usr/local/lib/python3.7/dist-packages (from hyperopt) (1.15.0)\n",
      "Requirement already satisfied, skipping upgrade: scipy in /usr/local/lib/python3.7/dist-packages (from hyperopt) (1.4.1)\n",
      "Requirement already satisfied, skipping upgrade: future in /usr/local/lib/python3.7/dist-packages (from hyperopt) (0.16.0)\n",
      "Requirement already satisfied, skipping upgrade: decorator>=4.3.0 in /usr/local/lib/python3.7/dist-packages (from networkx>=2.2->hyperopt) (4.4.2)\n",
      "Installing collected packages: hyperopt\n",
      "  Found existing installation: hyperopt 0.1.2\n",
      "    Uninstalling hyperopt-0.1.2:\n",
      "      Successfully uninstalled hyperopt-0.1.2\n",
      "Successfully installed hyperopt-0.2.5\n"
     ]
    }
   ],
   "source": [
    "#!pip install hyperopt --upgrade"
   ]
  },
  {
   "cell_type": "code",
   "execution_count": 35,
   "metadata": {
    "id": "DXp3cnrtXKh-"
   },
   "outputs": [],
   "source": [
    "from functools import partial\n",
    "import xgboost as xgb\n",
    "from hyperopt import hp, fmin, tpe, space_eval, Trials, STATUS_OK"
   ]
  },
  {
   "cell_type": "markdown",
   "metadata": {
    "id": "YttnrY4wMqu3"
   },
   "source": [
    "### Построение модели градиентного бустинга для частоты страховых случаев"
   ]
  },
  {
   "cell_type": "code",
   "execution_count": 36,
   "metadata": {
    "id": "r-BqsBNx_zIH"
   },
   "outputs": [],
   "source": [
    "# Конвертация наборов данных в формат, поддерживающийся XGBoost\n",
    "\n",
    "train_c = xgb.DMatrix(x_train_c, y_train_c)\n",
    "valid_c = xgb.DMatrix(x_valid_c, y_valid_c)\n",
    "test_c = xgb.DMatrix(x_test_c, y_test_c)"
   ]
  },
  {
   "cell_type": "code",
   "execution_count": 37,
   "metadata": {
    "id": "eCiO6At9BI98"
   },
   "outputs": [],
   "source": [
    "\n",
    "# Зададим функцию Deviance для распределения Пуассона\n",
    "\n",
    "def xgb_eval_dev_poisson(yhat, y):\n",
    "    t_hat, t = yhat + 1, y.get_label() + 1\n",
    "    return 'dev_poisson', 2 * np.sum(t * np.log(t / t_hat) - (t - t_hat))"
   ]
  },
  {
   "cell_type": "code",
   "execution_count": 38,
   "metadata": {
    "id": "D07_0UmWHnul"
   },
   "outputs": [],
   "source": [
    "# Определим функцию для оптимизации гиперпараметров алгоритмом TPE\n",
    "\n",
    "def objective(params, cv_params, data):\n",
    "    if 'max_depth' in params.keys():\n",
    "        params['max_depth'] = int(params['max_depth'])\n",
    "    cv_result = xgb.cv(params=params, dtrain=data, **cv_params)\n",
    "    name = [i for i in cv_result.columns if all([i.startswith('test-'), i.endswith('-mean')])][-1]\n",
    "    score = cv_result[name][-1:].values[0]\n",
    "    return {'loss': score, 'status': STATUS_OK}"
   ]
  },
  {
   "cell_type": "code",
   "execution_count": 39,
   "metadata": {
    "id": "szxsWFuXxuGQ"
   },
   "outputs": [],
   "source": [
    "# Определим параметры выполнения кроссвалидации\n",
    "\n",
    "cv_params = {'num_boost_round': 300,\n",
    "             'nfold': 5,\n",
    "             'shuffle': True,\n",
    "             'stratified': False,\n",
    "             'feval': xgb_eval_dev_poisson,\n",
    "             'maximize': False,\n",
    "             'early_stopping_rounds': 20\n",
    "              }"
   ]
  },
  {
   "cell_type": "code",
   "execution_count": 40,
   "metadata": {
    "id": "GarP9wfMgmiP"
   },
   "outputs": [],
   "source": [
    "# Определим границы, в которых будем искать гиперпараметры\n",
    "\n",
    "space_freq = {'objective': 'count:poisson',\n",
    "              'max_depth': hp.choice('max_depth', [5, 8, 10, 12, 15]),\n",
    "              'min_child_weight': hp.uniform('min_child_weight', 0, 50),\n",
    "              'subsample': hp.uniform('subsample', 0.5, 1),\n",
    "              'colsample_bytree': hp.uniform('colsample_bytree', 0.5, 1),\n",
    "              'alpha': hp.uniform('alpha', 0, 1),\n",
    "              'lambda': hp.uniform('lambda', 0, 1),\n",
    "           \n",
    "              'eta': hp.uniform('eta', 0.01, 1),\n",
    "              'tree_method': 'hist'\n",
    "              }"
   ]
  },
  {
   "cell_type": "code",
   "execution_count": 41,
   "metadata": {
    "colab": {
     "base_uri": "https://localhost:8080/"
    },
    "id": "vImto5eTCmzi",
    "outputId": "314c23d4-cca7-4bc8-bfae-ca227823096b"
   },
   "outputs": [
    {
     "name": "stdout",
     "output_type": "stream",
     "text": [
      "100%|██████████| 50/50 [09:54<00:00, 11.88s/trial, best loss: 0.6541374000000001]\n"
     ]
    }
   ],
   "source": [
    "# Оптимизация (количество итераций снижено для ускорения работы)\n",
    "\n",
    "trials = Trials()\n",
    "best = fmin(fn=partial(objective, cv_params=cv_params, data=train_c),\n",
    "            space=space_freq, trials=trials, algo=tpe.suggest, max_evals=50, timeout=3600)"
   ]
  },
  {
   "cell_type": "code",
   "execution_count": 42,
   "metadata": {
    "colab": {
     "base_uri": "https://localhost:8080/"
    },
    "id": "sgLZgCPiaJQ8",
    "outputId": "82c65527-1d81-46d4-8986-fbc7770f3fa7"
   },
   "outputs": [
    {
     "data": {
      "text/plain": [
       "{'alpha': 0.3612829123684997,\n",
       " 'colsample_bytree': 0.6760539548453088,\n",
       " 'eta': 0.04764656832026267,\n",
       " 'lambda': 0.6517872836669781,\n",
       " 'max_depth': 5,\n",
       " 'min_child_weight': 34.46028966728921,\n",
       " 'objective': 'count:poisson',\n",
       " 'subsample': 0.6875264418054632,\n",
       " 'tree_method': 'hist'}"
      ]
     },
     "execution_count": 42,
     "metadata": {
      "tags": []
     },
     "output_type": "execute_result"
    }
   ],
   "source": [
    "# Оптимальные гиперпараметры \n",
    "\n",
    "best_params = space_eval(space_freq, best)\n",
    "best_params"
   ]
  },
  {
   "cell_type": "code",
   "execution_count": 43,
   "metadata": {
    "id": "LZMBaE806YSs"
   },
   "outputs": [],
   "source": [
    "train_params = {'num_boost_round': 300,\n",
    "                'feval': xgb_eval_dev_poisson,\n",
    "                'maximize': False,\n",
    "                'verbose_eval': False}"
   ]
  },
  {
   "cell_type": "code",
   "execution_count": 44,
   "metadata": {
    "id": "8ADT-jWz6MZT"
   },
   "outputs": [],
   "source": [
    "# Построение модели с ранней остановкой (early stopping)\n",
    "\n",
    "progress = dict()\n",
    "xgb_freq = xgb.train(params=best_params, dtrain=train_c, early_stopping_rounds=10,\n",
    "                     evals=[(train_c, \"train\"), (valid_c, \"valid\")],\n",
    "                     evals_result=progress, **train_params)"
   ]
  },
  {
   "cell_type": "code",
   "execution_count": 45,
   "metadata": {
    "id": "xoLLOkg7gWZ9"
   },
   "outputs": [],
   "source": [
    "# Построение модели без ранней остановки\n",
    "\n",
    "progress_wo_es = dict()\n",
    "xgb_freq_wo_es = xgb.train(params=best_params, dtrain=train_c, evals=[(train_c, \"train\"), (valid_c, \"valid\"), (test_c, \"test\")],\n",
    "                           evals_result=progress_wo_es, **train_params)"
   ]
  },
  {
   "cell_type": "code",
   "execution_count": 46,
   "metadata": {
    "colab": {
     "base_uri": "https://localhost:8080/",
     "height": 441
    },
    "id": "V-hkwgPOgZDa",
    "outputId": "bb5f80a1-46b2-4cbd-f54c-95045c6f911b"
   },
   "outputs": [
    {
     "data": {
      "image/png": "[encoded data removed]",
      "text/plain": [
       "<Figure size 720x432 with 4 Axes>"
      ]
     },
     "metadata": {
      "needs_background": "light",
      "tags": []
     },
     "output_type": "display_data"
    }
   ],
   "source": [
    "import matplotlib.pyplot as plt\n",
    "plt.subplots(2,2, figsize=(10,6))\n",
    "plt.subplot(2,2,1)\n",
    "plt.plot(progress_wo_es['valid']['poisson-nloglik'], label='valid')\n",
    "plt.plot(progress['valid']['poisson-nloglik'], label='valid early stopping', linestyle='dashed', color='black')\n",
    "plt.plot(progress_wo_es['test']['poisson-nloglik'], label='test')\n",
    "plt.xlabel('Epochs'); plt.ylabel('Negative Log-Likelihood'); plt.legend(); plt.tight_layout()\n",
    "plt.subplot(2,2,2)\n",
    "plt.plot(progress_wo_es['valid']['dev_poisson'], label='valid')\n",
    "plt.plot(progress['valid']['dev_poisson'], label='valid early stopping', linestyle='dashed', color='black')\n",
    "plt.plot(progress_wo_es['test']['dev_poisson'], label='test')\n",
    "plt.xlabel('Epochs'); plt.ylabel('Poisson Deviance'); plt.legend(); plt.tight_layout()\n",
    "plt.subplot(2,2,3)\n",
    "plt.plot(progress_wo_es['valid']['poisson-nloglik'], label='valid')\n",
    "plt.plot(progress['valid']['poisson-nloglik'], label='valid early stopping', linestyle='dashed', color='black')\n",
    "plt.plot(progress_wo_es['test']['poisson-nloglik'], label='test')\n",
    "plt.plot(progress_wo_es['train']['poisson-nloglik'], label='train')\n",
    "plt.xlabel('Epochs'); plt.ylabel('Negative Log-Likelihood'); plt.legend(); plt.tight_layout()\n",
    "plt.subplot(2,2,4)\n",
    "plt.plot(progress_wo_es['valid']['dev_poisson'], label='valid')\n",
    "plt.plot(progress['valid']['dev_poisson'], label='valid early stopping', linestyle='dashed', color='black')\n",
    "plt.plot(progress_wo_es['test']['dev_poisson'], label='test')\n",
    "plt.plot(progress_wo_es['train']['dev_poisson'], label='train')\n",
    "plt.xlabel('Epochs'); plt.ylabel('Poisson Deviance'); plt.legend(); plt.tight_layout(); plt.show()"
   ]
  },
  {
   "cell_type": "code",
   "execution_count": 47,
   "metadata": {
    "colab": {
     "base_uri": "https://localhost:8080/",
     "height": 294
    },
    "id": "F6VV0ifjmvqV",
    "outputId": "2975e0ac-3c44-4b9d-d9ea-7b867df5d8c5"
   },
   "outputs": [
    {
     "data": {
      "image/png": "[encoded data removed]",
      "text/plain": [
       "<Figure size 432x288 with 1 Axes>"
      ]
     },
     "metadata": {
      "needs_background": "light",
      "tags": []
     },
     "output_type": "display_data"
    }
   ],
   "source": [
    "# Отбор признаков (Feature Importance)\n",
    "\n",
    "importance_type = ['total_gain', 'gain', 'weight', 'total_cover', 'cover']\n",
    "xgb.plot_importance(xgb_freq, importance_type=importance_type[1]); plt.show()"
   ]
  },
  {
   "cell_type": "markdown",
   "metadata": {
    "id": "8nmnj56EM9gK"
   },
   "source": [
    "### Построение модели градиентного бустинга для среднего убытка"
   ]
  },
  {
   "cell_type": "code",
   "execution_count": 48,
   "metadata": {
    "id": "9u4TIE54NAeo"
   },
   "outputs": [],
   "source": [
    "# Конвертация наборов данных в формат, поддерживающийся XGBoost\n",
    "\n",
    "train_ac = xgb.DMatrix(x_train_ac, y_train_ac)\n",
    "valid_ac = xgb.DMatrix(x_valid_ac, y_valid_ac)\n",
    "test_ac = xgb.DMatrix(x_test_ac, y_test_ac)"
   ]
  },
  {
   "cell_type": "code",
   "execution_count": 49,
   "metadata": {
    "id": "hd-ROyqiotrO"
   },
   "outputs": [],
   "source": [
    "# Зададим функцию Deviance для гамма-распределения\n",
    "\n",
    "def xgb_eval_dev_gamma(yhat, dtrain):\n",
    "    y = dtrain.get_label()\n",
    "    return 'dev_gamma', 2 * np.sum(-np.log(y/yhat) + (y-yhat)/yhat)"
   ]
  },
  {
   "cell_type": "code",
   "execution_count": 50,
   "metadata": {
    "id": "O4ZJ3o25EKnP"
   },
   "outputs": [],
   "source": [
    "# Определим границы, в которых будем искать гиперпараметры \n",
    "\n",
    "space_avgclm = {'objective': 'reg:gamma',\n",
    "                'max_depth': hp.choice('max_depth', [5, 8, 10, 12, 15]),\n",
    "                'min_child_weight': hp.uniform('min_child_weight', 0, 50),\n",
    "                'subsample': hp.uniform('subsample', 0.5, 1),\n",
    "                'colsample_bytree': hp.uniform('colsample_bytree', 0.5, 1),\n",
    "                'alpha': hp.uniform('alpha', 0, 1),\n",
    "                'lambda': hp.uniform('lambda', 0, 1),\n",
    "                'eta': hp.uniform('eta', 0.01, 1),\n",
    "                'tree_method': 'hist'\n",
    "                }        "
   ]
  },
  {
   "cell_type": "code",
   "execution_count": 51,
   "metadata": {
    "id": "2sBVsvN01VdC"
   },
   "outputs": [],
   "source": [
    "# Определим параметры выполнения кроссвалидации\n",
    "\n",
    "cv_params = {'num_boost_round': 300,\n",
    "             'nfold': 5,\n",
    "             'shuffle': True,\n",
    "             'stratified': False,\n",
    "             'feval': xgb_eval_dev_gamma,\n",
    "             'maximize': False,\n",
    "             'early_stopping_rounds': 20\n",
    "              }"
   ]
  },
  {
   "cell_type": "code",
   "execution_count": 52,
   "metadata": {
    "colab": {
     "base_uri": "https://localhost:8080/"
    },
    "id": "tAC4dIdJEKXl",
    "outputId": "7e691121-34c7-45ad-d570-b540a3330892"
   },
   "outputs": [
    {
     "name": "stdout",
     "output_type": "stream",
     "text": [
      "100%|██████████| 50/50 [01:22<00:00,  1.65s/trial, best loss: 8.0436092]\n"
     ]
    }
   ],
   "source": [
    "# Оптимизация (количество итераций снижено для ускорения работы)\n",
    "\n",
    "trials = Trials()\n",
    "best = fmin(fn=partial(objective, cv_params=cv_params, data=train_ac),\n",
    "            space=space_avgclm, trials=trials, algo=tpe.suggest, max_evals=50, timeout=3600)"
   ]
  },
  {
   "cell_type": "code",
   "execution_count": 53,
   "metadata": {
    "colab": {
     "base_uri": "https://localhost:8080/"
    },
    "id": "NfRbZGBoE7vP",
    "outputId": "890fa70e-afbd-4958-bbe2-2c6c972d747e"
   },
   "outputs": [
    {
     "data": {
      "text/plain": [
       "{'alpha': 0.9883029577090331,\n",
       " 'colsample_bytree': 0.5072640639787005,\n",
       " 'eta': 0.5635559233780751,\n",
       " 'lambda': 0.10838822629314249,\n",
       " 'max_depth': 5,\n",
       " 'min_child_weight': 18.868733429635792,\n",
       " 'objective': 'reg:gamma',\n",
       " 'subsample': 0.960451065757381,\n",
       " 'tree_method': 'hist'}"
      ]
     },
     "execution_count": 53,
     "metadata": {
      "tags": []
     },
     "output_type": "execute_result"
    }
   ],
   "source": [
    "# Оптимальные гиперпараметры \n",
    "\n",
    "best_params = space_eval(space_avgclm, best)\n",
    "best_params"
   ]
  },
  {
   "cell_type": "code",
   "execution_count": 54,
   "metadata": {
    "id": "I9_0hUQ89A0B"
   },
   "outputs": [],
   "source": [
    "train_params = {'num_boost_round': 300,\n",
    "                'feval': xgb_eval_dev_gamma,\n",
    "                'maximize': False,\n",
    "                'verbose_eval': False}"
   ]
  },
  {
   "cell_type": "code",
   "execution_count": 55,
   "metadata": {
    "id": "uHZ93uk_E7nZ"
   },
   "outputs": [],
   "source": [
    "# Построение модели с ранней остановкой (early stopping)\n",
    "\n",
    "progress = dict()\n",
    "xgb_avgclaim = xgb.train(params=best_params, dtrain=train_ac, early_stopping_rounds=10, evals=[(train_ac, \"train\"), (valid_ac, \"valid\")],\n",
    "                         evals_result=progress, **train_params)"
   ]
  },
  {
   "cell_type": "code",
   "execution_count": 56,
   "metadata": {
    "id": "DFa-sS1ME7eq"
   },
   "outputs": [],
   "source": [
    "# Построение модели без ранней остановки\n",
    "\n",
    "progress_wo_es = dict()\n",
    "xgb_avgclaim_wo_es = xgb.train(params=best_params, dtrain=train_ac, evals=[(train_ac, \"train\"), (valid_ac, \"valid\"), (test_ac, \"test\")],\n",
    "                               evals_result=progress_wo_es, **train_params)"
   ]
  },
  {
   "cell_type": "code",
   "execution_count": 57,
   "metadata": {
    "colab": {
     "base_uri": "https://localhost:8080/",
     "height": 441
    },
    "id": "CoBse4X5_no7",
    "outputId": "b9c13b55-2059-4df0-b5c0-f95f220ae877"
   },
   "outputs": [
    {
     "data": {
      "image/png": "[encoded data removed]",
      "text/plain": [
       "<Figure size 720x432 with 4 Axes>"
      ]
     },
     "metadata": {
      "needs_background": "light",
      "tags": []
     },
     "output_type": "display_data"
    }
   ],
   "source": [
    "plt.subplots(2,2, figsize=(10,6))\n",
    "plt.subplot(2,2,1)\n",
    "plt.plot(progress_wo_es['valid']['gamma-nloglik'], label='valid')\n",
    "plt.plot(progress['valid']['gamma-nloglik'], label='valid early stopping', linestyle='dashed', color='black')\n",
    "plt.plot(progress_wo_es['test']['gamma-nloglik'], label='test')\n",
    "plt.xlabel('Epochs'); plt.ylabel('Negative Log-Likelihood'); plt.legend(); plt.tight_layout()\n",
    "plt.subplot(2,2,2)\n",
    "plt.plot(progress_wo_es['valid']['dev_gamma'], label='valid')\n",
    "plt.plot(progress['valid']['dev_gamma'], label='valid early stopping', linestyle='dashed', color='black')\n",
    "plt.plot(progress_wo_es['test']['dev_gamma'], label='test')\n",
    "plt.xlabel('Epochs'); plt.ylabel('Gamma Deviance'); plt.legend(); plt.tight_layout()\n",
    "plt.subplot(2,2,3)\n",
    "plt.plot(progress_wo_es['valid']['gamma-nloglik'], label='valid')\n",
    "plt.plot(progress['valid']['gamma-nloglik'], label='valid early stopping', linestyle='dashed', color='black')\n",
    "plt.plot(progress_wo_es['test']['gamma-nloglik'], label='test')\n",
    "plt.plot(progress_wo_es['train']['gamma-nloglik'], label='train')\n",
    "plt.xlabel('Epochs'); plt.ylabel('Negative Log-Likelihood'); plt.legend(); plt.tight_layout()\n",
    "plt.subplot(2,2,4)\n",
    "plt.plot(progress_wo_es['valid']['dev_gamma'], label='valid')\n",
    "plt.plot(progress['valid']['dev_gamma'], label='valid early stopping', linestyle='dashed', color='black')\n",
    "plt.plot(progress_wo_es['test']['dev_gamma'], label='test')\n",
    "plt.plot(progress_wo_es['train']['dev_gamma'], label='train')\n",
    "plt.xlabel('Epochs'); plt.ylabel('Gamma Deviance'); plt.legend(); plt.tight_layout(); plt.show()"
   ]
  },
  {
   "cell_type": "code",
   "execution_count": 58,
   "metadata": {
    "colab": {
     "base_uri": "https://localhost:8080/",
     "height": 294
    },
    "id": "bUerw0tUpulj",
    "outputId": "362af484-1916-4720-a640-f2b2bc5fa07f"
   },
   "outputs": [
    {
     "data": {
      "image/png": "[encoded data removed]",
      "text/plain": [
       "<Figure size 432x288 with 1 Axes>"
      ]
     },
     "metadata": {
      "needs_background": "light",
      "tags": []
     },
     "output_type": "display_data"
    }
   ],
   "source": [
    "# Отбор признаков (Feature Importance)\n",
    "\n",
    "importance_type = ['total_gain', 'gain', 'weight', 'total_cover', 'cover']\n",
    "xgb.plot_importance(xgb_avgclaim, importance_type=importance_type[1]); plt.show()"
   ]
  },
  {
   "cell_type": "markdown",
   "metadata": {
    "id": "X7rFhBo3Tepd"
   },
   "source": [
    "Как вы оцениваете качество построенной модели? Какие проблемы могут здесь присутствовать? Как можно улучшить результат?"
   ]
  },
  {
   "cell_type": "markdown",
   "metadata": {
    "id": "8Ko8-NF65nX1"
   },
   "source": [
    "## **Прогноз убытков : оценка страхового тарифа**"
   ]
  },
  {
   "cell_type": "markdown",
   "metadata": {
    "id": "KJ9zwB1I7aV_"
   },
   "source": [
    "Оценим средний убыток на страховой случай клиента"
   ]
  },
  {
   "cell_type": "code",
   "execution_count": 59,
   "metadata": {
    "id": "KTI3wcXJ5hwQ"
   },
   "outputs": [],
   "source": [
    "y_ac = xgb_avgclaim.predict(test_ac) "
   ]
  },
  {
   "cell_type": "markdown",
   "metadata": {
    "id": "WCltuUJ17hnQ"
   },
   "source": [
    "Оценим среденее числдо страховых случаев на клиента"
   ]
  },
  {
   "cell_type": "code",
   "execution_count": 62,
   "metadata": {
    "id": "nub_EcOU6G_K"
   },
   "outputs": [],
   "source": [
    "y_c = xgb_freq.predict(test_ac)"
   ]
  },
  {
   "cell_type": "code",
   "execution_count": 63,
   "metadata": {
    "id": "zM34ZXm_6S8G"
   },
   "outputs": [],
   "source": [
    "y_ = y_ac * y_c \n"
   ]
  },
  {
   "cell_type": "code",
   "execution_count": 67,
   "metadata": {
    "colab": {
     "base_uri": "https://localhost:8080/",
     "height": 374
    },
    "id": "5x5yKPzJ6bDi",
    "outputId": "5bfd8498-60ee-4382-b769-194f551b4478"
   },
   "outputs": [
    {
     "data": {
      "image/png": "[encoded data removed]",
      "text/plain": [
       "<Figure size 1152x432 with 1 Axes>"
      ]
     },
     "metadata": {
      "needs_background": "light",
      "tags": []
     },
     "output_type": "display_data"
    }
   ],
   "source": [
    "plt.figure(figsize = (16,6))\n",
    "plt.grid('On')\n",
    "plt.hist(y_)\n",
    "plt.ylabel('число клиентов')\n",
    "plt.ylabel('размер убытка')\n",
    "plt.title(' количество клиентов по полному убытку')\n",
    "plt.show()"
   ]
  },
  {
   "cell_type": "code",
   "execution_count": null,
   "metadata": {
    "id": "RmM7v5M76zS2"
   },
   "outputs": [],
   "source": []
  }
 ],
 "metadata": {
  "colab": {
   "collapsed_sections": [],
   "name": "GB_Lesson_7_hyperopt.ipynb",
   "provenance": []
  },
  "kernelspec": {
   "display_name": "Python 3",
   "language": "python",
   "name": "python3"
  },
  "language_info": {
   "codemirror_mode": {
    "name": "ipython",
    "version": 3
   },
   "file_extension": ".py",
   "mimetype": "text/x-python",
   "name": "python",
   "nbconvert_exporter": "python",
   "pygments_lexer": "ipython3",
   "version": "3.8.4"
  }
 },
 "nbformat": 4,
 "nbformat_minor": 1
}
