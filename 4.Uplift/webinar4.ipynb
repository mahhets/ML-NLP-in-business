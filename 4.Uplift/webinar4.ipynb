{
 "cells": [
  {
   "cell_type": "markdown",
   "metadata": {
    "id": "agr-6wNyhSDf"
   },
   "source": [
    "### Задача uplift-моделирования"
   ]
  },
  {
   "cell_type": "markdown",
   "metadata": {
    "id": "urQYpBzdhSDi"
   },
   "source": [
    "### План занятия\n",
    "\n",
    "* Введение: коммуникация с пользователями\n",
    "* Дизайн эксперимента\n",
    "* Типы клиентов\n",
    "* Одна модель с дополнительным признаком\n",
    "* Вариант с двумя независимыми моделями\n",
    "* Вариант с двумя зависимыми моделями\n",
    "* Прямой расчет uplift: \"деревянные\" модели\n",
    "* Ссылки"
   ]
  },
  {
   "cell_type": "markdown",
   "metadata": {
    "id": "l-uh0LNAhSDk"
   },
   "source": [
    "### Введение\n",
    "\n",
    "Часто возникает необходимость коммуникации с пользователями для продвижения сервисов и услуг.\n",
    "\n",
    "Коммуникация осуществляется с помощью различных каналов: смс, звонки, push-уведомления, сообщения в чатботе и т.д\n",
    "\n",
    "Например, мы хотим отправить push-уведомление игрокам в мобильной игре о том, что у них заполнились склады или об ином внутриигровом событии. Либо даже хотим отправить уведомление о наступающем внутриигровом эвенте (которые очень важны для активных игроков и для монетизации и развития игры в целом)."
   ]
  },
  {
   "cell_type": "markdown",
   "metadata": {
    "id": "O6P0TU1OhSDk"
   },
   "source": [
    "Другой пример:\n",
    "\n",
    "Мы хотим прорекламировать популярный продукт, но при этом не хотим тратить бюджет на коммуникацию с пользователями, которые и без нас его купят. "
   ]
  },
  {
   "cell_type": "markdown",
   "metadata": {
    "id": "1B1g6u19hSDl"
   },
   "source": [
    "Изначально вопрос у нас такой: <b>Какова вероятность, что пользователь совершит нужное нам действие?</b>\n",
    "\n",
    "Но нам нужен ответ не на него."
   ]
  },
  {
   "cell_type": "markdown",
   "metadata": {
    "id": "J3ncciFlhSDl"
   },
   "source": [
    "### Пример - задача прогнозирования оттока\n",
    "\n",
    "Подробно задачу будем разбирать на следующем занятии, но давайте договоримся, что решать мы ее уже умеем.\n",
    "\n",
    "Т.е мы для пользователей нашего сервиса можем посчитать вероятность ухода в отток."
   ]
  },
  {
   "cell_type": "markdown",
   "metadata": {
    "id": "B-73aaBhhSDm"
   },
   "source": [
    "![ab_split](churn.png \"churn1\")"
   ]
  },
  {
   "cell_type": "markdown",
   "metadata": {
    "id": "JRV96F17hSDn"
   },
   "source": [
    "Мы можем для пользователя определить вероятность:\n",
    "\n",
    "P(User)"
   ]
  },
  {
   "cell_type": "markdown",
   "metadata": {
    "id": "ra8VrD-zhSDn"
   },
   "source": [
    "Мы хотим удерживать наших пользователей, которые чем-то недовольны или несчастны и хотим им предложить более выгодные условия подписки или тарифа (например, если мы - мобильный оператор, то мы можем предложить нашим абонентам более выгодный тариф).\n",
    "\n",
    "Хорошо, мы можем отобрать из нашей аудитории наиболее \"несчастных\". Почему бы просто не сделать им предложение? В чем проблема? "
   ]
  },
  {
   "cell_type": "markdown",
   "metadata": {
    "id": "UkciNzqUhSDo"
   },
   "source": [
    "Проблема в том, что разные пользователи реагируют на коммуникацию по-разному и каждое взаимодействие стоит для нас денег."
   ]
  },
  {
   "cell_type": "markdown",
   "metadata": {
    "id": "6oTcqyrLhSDo"
   },
   "source": [
    "И еще проблема - <b>наша модель неидеальна!</b>"
   ]
  },
  {
   "cell_type": "markdown",
   "metadata": {
    "id": "C_sO1kGihSDo"
   },
   "source": [
    "#### Типы пользователей по реакции на коммуникацию"
   ]
  },
  {
   "cell_type": "markdown",
   "metadata": {
    "id": "vFYA6KPThSDp"
   },
   "source": [
    "![ab_split](uplift_client_types.png \"uplift_client_types\")"
   ]
  },
  {
   "cell_type": "markdown",
   "metadata": {
    "id": "EEEhHiqyhSDp"
   },
   "source": [
    "1. Пользователи, которые совершат нужное действие независимо от коммуникации\n",
    "2. Те, кто совершат действие, если будет коммуникация\n",
    "3. Те, кто не совершит действие независимо от коммуникации\n",
    "4. Не совершат действие, если коммуникация будет"
   ]
  },
  {
   "cell_type": "markdown",
   "metadata": {
    "id": "cGgmIzBAhSDq"
   },
   "source": [
    "Для оптимизации эффекта от воздействия хочется посчитать разницу реакций пользователя при наличии коммуникации и при ее отсутствии. \n",
    "\n",
    "Проблема в том, что мы не можем одновременно совершить коммуникацию и не совершить коммуникацию."
   ]
  },
  {
   "cell_type": "markdown",
   "metadata": {
    "id": "oPgfc_lIhSDq"
   },
   "source": [
    "![ab_split](uplift2.png \"uplift_cats\")"
   ]
  },
  {
   "cell_type": "markdown",
   "metadata": {
    "id": "EVZYHPnGhSDr"
   },
   "source": [
    "Что же делать?"
   ]
  },
  {
   "cell_type": "markdown",
   "metadata": {
    "id": "zG87C2rWhSDr"
   },
   "source": [
    "Необходимо оценить разницу между двумя событиями, которые являются взаимоисключающими для конкретного пользователя.\n",
    "\n",
    "Для этого нам нужна обучающая выборка. А для нее нужно просто провести эксперимент. \n",
    "\n",
    "1. Берем часть базы пользователей и разбиваем на 2 группы: контрольную и экспериментальную\n",
    "2. На экспериментальной группе запускаем маркетинговую кампанию (совершаем коммуникацию)\n",
    "3. Через какое-то время у нас есть результаты совершения нужного действия клиентами в обеих группах (включая контрольную)\n",
    "4. Проводим uplift-моделирование"
   ]
  },
  {
   "cell_type": "markdown",
   "metadata": {
    "id": "ZvAtLQI1hSDs"
   },
   "source": [
    "![ab_split](uplift_3.png \"uplift3\")"
   ]
  },
  {
   "cell_type": "markdown",
   "metadata": {
    "id": "-rGCIZUQhSDs"
   },
   "source": [
    "![ab_split](uplift_scheme.png \"uplift_scheme\")"
   ]
  },
  {
   "cell_type": "markdown",
   "metadata": {
    "id": "mJACgj3zhSDs"
   },
   "source": [
    "*взято из https://habr.com/ru/company/ru_mts/blog/485980/"
   ]
  },
  {
   "cell_type": "markdown",
   "metadata": {
    "id": "fHCrnYz-hSDs"
   },
   "source": [
    "### Пример модели с дополнительным признаком"
   ]
  },
  {
   "cell_type": "markdown",
   "metadata": {
    "id": "7vCoZa6nhSDt"
   },
   "source": [
    "Другие названия: Treatment Dummy approach, Solo model approach, Single model approach, S-Learner "
   ]
  },
  {
   "cell_type": "markdown",
   "metadata": {
    "id": "BGpcbYrohSDt"
   },
   "source": [
    "![ab_split](uplift_single_model.png \"uplift_single_model\")"
   ]
  },
  {
   "cell_type": "markdown",
   "metadata": {
    "id": "tG2we9k1hSDt"
   },
   "source": [
    "### Две независимые модели"
   ]
  },
  {
   "cell_type": "markdown",
   "metadata": {
    "id": "vl5VHg-_hSDu"
   },
   "source": [
    "Другие названия: Two models approach, T-learner, difference two models"
   ]
  },
  {
   "cell_type": "markdown",
   "metadata": {
    "id": "moiHtlEmhSDu"
   },
   "source": [
    "Интуитивно понятный и простой метод - моделируем 2 условные вероятности\n",
    "\n",
    "1. обучаем модель прогноза вероятности совершения целевого действия для контрольной группы\n",
    "2. обучаем модель прогноза вероятности совершения целевого действия для экспериментальной группы\n",
    "3. на прогнозе - делаем прогноз для тестовых пользователей двумя моделями и вычитаем из прогноза второй модели прогноз первой"
   ]
  },
  {
   "cell_type": "markdown",
   "metadata": {
    "id": "QHCH4PmLhSDv"
   },
   "source": [
    "![ab_split](uplift_2models.png \"uplift_2models\")"
   ]
  },
  {
   "cell_type": "markdown",
   "metadata": {
    "id": "Iko3uICkhSDv"
   },
   "source": [
    "p(y=1|w=1), p(y=1|w=0)"
   ]
  },
  {
   "cell_type": "code",
   "execution_count": null,
   "metadata": {
    "id": "ThJyCp25hSDv"
   },
   "outputs": [],
   "source": []
  },
  {
   "cell_type": "markdown",
   "metadata": {
    "id": "xCNf-oYdhSDw"
   },
   "source": [
    "### ПЕРЕРЫВ ДО 20:56 (МСК)"
   ]
  },
  {
   "cell_type": "code",
   "execution_count": null,
   "metadata": {
    "id": "G-VemYerhSDw"
   },
   "outputs": [],
   "source": []
  },
  {
   "cell_type": "code",
   "execution_count": null,
   "metadata": {
    "id": "QTBsVnnOhSDx"
   },
   "outputs": [],
   "source": []
  },
  {
   "cell_type": "markdown",
   "metadata": {
    "id": "6VE-gaElhSDx"
   },
   "source": [
    "### Практический пример с соревнования X5 \n",
    "\n",
    "http://retailhero.ai/#rec141268104"
   ]
  },
  {
   "cell_type": "markdown",
   "metadata": {
    "id": "V3PunUjNhSDx"
   },
   "source": [
    "Импортируем нужные библиотеки и предобработаем данные:"
   ]
  },
  {
   "cell_type": "code",
   "execution_count": 3,
   "metadata": {
    "colab": {
     "base_uri": "https://localhost:8080/"
    },
    "id": "n5SNmRNxhf0g",
    "outputId": "15be43eb-e4a0-40aa-eec2-cb0c83d3c063"
   },
   "outputs": [
    {
     "name": "stdout",
     "output_type": "stream",
     "text": [
      "Requirement already satisfied: scikit-uplift in c:\\python3\\lib\\site-packages (0.3.1)\n",
      "Requirement already satisfied: catboost==0.22 in c:\\python3\\lib\\site-packages (0.22)\n",
      "Requirement already satisfied: scipy in c:\\python3\\lib\\site-packages (from catboost==0.22) (1.4.1)\n",
      "Requirement already satisfied: graphviz in c:\\python3\\lib\\site-packages (from catboost==0.22) (0.14.2)\n",
      "Requirement already satisfied: pandas>=0.24.0 in c:\\python3\\lib\\site-packages (from catboost==0.22) (1.1.0)\n",
      "Requirement already satisfied: plotly in c:\\python3\\lib\\site-packages (from catboost==0.22) (4.11.0)\n",
      "Requirement already satisfied: numpy>=1.16.0 in c:\\python3\\lib\\site-packages (from catboost==0.22) (1.18.5)\n",
      "Requirement already satisfied: matplotlib in c:\\python3\\lib\\site-packages (from catboost==0.22) (3.3.2)\n",
      "Requirement already satisfied: six in c:\\python3\\lib\\site-packages (from catboost==0.22) (1.15.0)\n",
      "Requirement already satisfied: pytz>=2017.2 in c:\\python3\\lib\\site-packages (from pandas>=0.24.0->catboost==0.22) (2020.1)\n",
      "Requirement already satisfied: python-dateutil>=2.7.3 in c:\\python3\\lib\\site-packages (from pandas>=0.24.0->catboost==0.22) (2.8.1)\n",
      "Requirement already satisfied: requests in c:\\python3\\lib\\site-packages (from scikit-uplift) (2.24.0)\n",
      "Requirement already satisfied: scikit-learn>=0.21.0 in c:\\python3\\lib\\site-packages (from scikit-uplift) (0.23.2)\n",
      "Requirement already satisfied: joblib>=0.11 in c:\\python3\\lib\\site-packages (from scikit-learn>=0.21.0->scikit-uplift) (0.17.0)\n",
      "Requirement already satisfied: threadpoolctl>=2.0.0 in c:\\python3\\lib\\site-packages (from scikit-learn>=0.21.0->scikit-uplift) (2.1.0)\n",
      "Requirement already satisfied: pillow>=6.2.0 in c:\\python3\\lib\\site-packages (from matplotlib->catboost==0.22) (7.0.0)\n",
      "Requirement already satisfied: kiwisolver>=1.0.1 in c:\\python3\\lib\\site-packages (from matplotlib->catboost==0.22) (1.2.0)\n",
      "Requirement already satisfied: cycler>=0.10 in c:\\python3\\lib\\site-packages (from matplotlib->catboost==0.22) (0.10.0)\n",
      "Requirement already satisfied: pyparsing!=2.0.4,!=2.1.2,!=2.1.6,>=2.0.3 in c:\\python3\\lib\\site-packages (from matplotlib->catboost==0.22) (2.4.7)\n",
      "Requirement already satisfied: certifi>=2020.06.20 in c:\\python3\\lib\\site-packages (from matplotlib->catboost==0.22) (2020.6.20)\n",
      "Requirement already satisfied: retrying>=1.3.3 in c:\\python3\\lib\\site-packages (from plotly->catboost==0.22) (1.3.3)\n",
      "Requirement already satisfied: idna<3,>=2.5 in c:\\python3\\lib\\site-packages (from requests->scikit-uplift) (2.10)\n",
      "Requirement already satisfied: chardet<4,>=3.0.2 in c:\\python3\\lib\\site-packages (from requests->scikit-uplift) (3.0.4)\n",
      "Requirement already satisfied: urllib3!=1.25.0,!=1.25.1,<1.26,>=1.21.1 in c:\\python3\\lib\\site-packages (from requests->scikit-uplift) (1.25.10)\n",
      "Requirement already satisfied: causalml in c:\\python3\\lib\\site-packages (0.10.0)\n",
      "Requirement already satisfied: dill in c:\\python3\\lib\\site-packages (from causalml) (0.3.3)\n",
      "Requirement already satisfied: xgboost in c:\\python3\\lib\\site-packages (from causalml) (1.2.1)\n",
      "Requirement already satisfied: seaborn in c:\\python3\\lib\\site-packages (from causalml) (0.11.0)\n",
      "Requirement already satisfied: lightgbm in c:\\python3\\lib\\site-packages (from causalml) (3.1.1)\n",
      "Requirement already satisfied: Cython>=0.28.0 in c:\\python3\\lib\\site-packages (from causalml) (0.29.21)\n",
      "Requirement already satisfied: scipy==1.4.1 in c:\\python3\\lib\\site-packages (from causalml) (1.4.1)\n",
      "Requirement already satisfied: shap<0.38.1 in c:\\python3\\lib\\site-packages (from causalml) (0.37.0)\n",
      "Requirement already satisfied: pip>=10.0 in c:\\python3\\lib\\site-packages (from causalml) (21.0.1)\n",
      "Requirement already satisfied: pyro-ppl in c:\\python3\\lib\\site-packages (from causalml) (1.6.0)\n",
      "Requirement already satisfied: torch in c:\\python3\\lib\\site-packages (from causalml) (1.8.1)\n",
      "Requirement already satisfied: statsmodels>=0.9.0 in c:\\python3\\lib\\site-packages (from causalml) (0.12.2)\n",
      "Requirement already satisfied: pandas>=0.24.1 in c:\\python3\\lib\\site-packages (from causalml) (1.1.0)\n",
      "Requirement already satisfied: tqdm in c:\\python3\\lib\\site-packages (from causalml) (4.59.0)\n",
      "Requirement already satisfied: keras in c:\\python3\\lib\\site-packages (from causalml) (2.4.3)\n",
      "Requirement already satisfied: tensorflow>=1.15.2 in c:\\python3\\lib\\site-packages (from causalml) (2.3.2)\n",
      "Requirement already satisfied: setuptools>=41.0.0 in c:\\python3\\lib\\site-packages (from causalml) (47.1.0)\n",
      "Requirement already satisfied: scikit-learn<0.24.0,>=0.22.0 in c:\\python3\\lib\\site-packages (from causalml) (0.23.2)\n",
      "Requirement already satisfied: pydotplus in c:\\python3\\lib\\site-packages (from causalml) (2.0.2)\n",
      "Requirement already satisfied: packaging in c:\\python3\\lib\\site-packages (from causalml) (20.4)\n",
      "Requirement already satisfied: numpy<1.19.0,>=0.16.0 in c:\\python3\\lib\\site-packages (from causalml) (1.18.5)\n",
      "Requirement already satisfied: matplotlib in c:\\python3\\lib\\site-packages (from causalml) (3.3.2)\n",
      "Requirement already satisfied: pygam in c:\\python3\\lib\\site-packages (from causalml) (0.8.0)\n",
      "Requirement already satisfied: pytz>=2017.2 in c:\\python3\\lib\\site-packages (from pandas>=0.24.1->causalml) (2020.1)\n",
      "Requirement already satisfied: python-dateutil>=2.7.3 in c:\\python3\\lib\\site-packages (from pandas>=0.24.1->causalml) (2.8.1)\n",
      "Requirement already satisfied: six>=1.5 in c:\\python3\\lib\\site-packages (from python-dateutil>=2.7.3->pandas>=0.24.1->causalml) (1.15.0)\n",
      "Requirement already satisfied: joblib>=0.11 in c:\\python3\\lib\\site-packages (from scikit-learn<0.24.0,>=0.22.0->causalml) (0.17.0)\n",
      "Requirement already satisfied: threadpoolctl>=2.0.0 in c:\\python3\\lib\\site-packages (from scikit-learn<0.24.0,>=0.22.0->causalml) (2.1.0)\n",
      "Requirement already satisfied: numba in c:\\python3\\lib\\site-packages (from shap<0.38.1->causalml) (0.53.1)\n",
      "Requirement already satisfied: slicer==0.0.3 in c:\\python3\\lib\\site-packages (from shap<0.38.1->causalml) (0.0.3)\n",
      "Requirement already satisfied: patsy>=0.5 in c:\\python3\\lib\\site-packages (from statsmodels>=0.9.0->causalml) (0.5.1)\n",
      "Requirement already satisfied: tensorflow-estimator<2.4.0,>=2.3.0 in c:\\python3\\lib\\site-packages (from tensorflow>=1.15.2->causalml) (2.3.0)\n",
      "Requirement already satisfied: termcolor>=1.1.0 in c:\\python3\\lib\\site-packages (from tensorflow>=1.15.2->causalml) (1.1.0)\n",
      "Requirement already satisfied: google-pasta>=0.1.8 in c:\\python3\\lib\\site-packages (from tensorflow>=1.15.2->causalml) (0.2.0)\n",
      "Requirement already satisfied: absl-py>=0.7.0 in c:\\python3\\lib\\site-packages (from tensorflow>=1.15.2->causalml) (0.12.0)\n",
      "Requirement already satisfied: protobuf>=3.9.2 in c:\\python3\\lib\\site-packages (from tensorflow>=1.15.2->causalml) (3.15.7)\n",
      "Requirement already satisfied: tensorboard<3,>=2.3.0 in c:\\python3\\lib\\site-packages (from tensorflow>=1.15.2->causalml) (2.4.1)\n",
      "Requirement already satisfied: wheel>=0.26 in c:\\python3\\lib\\site-packages (from tensorflow>=1.15.2->causalml) (0.35.1)\n",
      "Requirement already satisfied: grpcio>=1.8.6 in c:\\python3\\lib\\site-packages (from tensorflow>=1.15.2->causalml) (1.36.1)\n",
      "Requirement already satisfied: gast==0.3.3 in c:\\python3\\lib\\site-packages (from tensorflow>=1.15.2->causalml) (0.3.3)\n",
      "Requirement already satisfied: keras-preprocessing<1.2,>=1.1.1 in c:\\python3\\lib\\site-packages (from tensorflow>=1.15.2->causalml) (1.1.2)\n",
      "Requirement already satisfied: h5py<2.11.0,>=2.10.0 in c:\\python3\\lib\\site-packages (from tensorflow>=1.15.2->causalml) (2.10.0)\n",
      "Requirement already satisfied: opt-einsum>=2.3.2 in c:\\python3\\lib\\site-packages (from tensorflow>=1.15.2->causalml) (3.3.0)\n",
      "Requirement already satisfied: astunparse==1.6.3 in c:\\python3\\lib\\site-packages (from tensorflow>=1.15.2->causalml) (1.6.3)\n",
      "Requirement already satisfied: wrapt>=1.11.1 in c:\\python3\\lib\\site-packages (from tensorflow>=1.15.2->causalml) (1.12.1)\n",
      "Requirement already satisfied: werkzeug>=0.11.15 in c:\\python3\\lib\\site-packages (from tensorboard<3,>=2.3.0->tensorflow>=1.15.2->causalml) (1.0.1)\n",
      "Requirement already satisfied: markdown>=2.6.8 in c:\\python3\\lib\\site-packages (from tensorboard<3,>=2.3.0->tensorflow>=1.15.2->causalml) (3.3.4)\n",
      "Requirement already satisfied: google-auth<2,>=1.6.3 in c:\\python3\\lib\\site-packages (from tensorboard<3,>=2.3.0->tensorflow>=1.15.2->causalml) (1.28.0)\n",
      "Requirement already satisfied: tensorboard-plugin-wit>=1.6.0 in c:\\python3\\lib\\site-packages (from tensorboard<3,>=2.3.0->tensorflow>=1.15.2->causalml) (1.8.0)\n",
      "Requirement already satisfied: requests<3,>=2.21.0 in c:\\python3\\lib\\site-packages (from tensorboard<3,>=2.3.0->tensorflow>=1.15.2->causalml) (2.24.0)\n",
      "Requirement already satisfied: google-auth-oauthlib<0.5,>=0.4.1 in c:\\python3\\lib\\site-packages (from tensorboard<3,>=2.3.0->tensorflow>=1.15.2->causalml) (0.4.4)\n",
      "Requirement already satisfied: cachetools<5.0,>=2.0.0 in c:\\python3\\lib\\site-packages (from google-auth<2,>=1.6.3->tensorboard<3,>=2.3.0->tensorflow>=1.15.2->causalml) (4.2.1)\n",
      "Requirement already satisfied: rsa<5,>=3.1.4 in c:\\python3\\lib\\site-packages (from google-auth<2,>=1.6.3->tensorboard<3,>=2.3.0->tensorflow>=1.15.2->causalml) (4.7.2)\n",
      "Requirement already satisfied: pyasn1-modules>=0.2.1 in c:\\python3\\lib\\site-packages (from google-auth<2,>=1.6.3->tensorboard<3,>=2.3.0->tensorflow>=1.15.2->causalml) (0.2.8)\n",
      "Requirement already satisfied: requests-oauthlib>=0.7.0 in c:\\python3\\lib\\site-packages (from google-auth-oauthlib<0.5,>=0.4.1->tensorboard<3,>=2.3.0->tensorflow>=1.15.2->causalml) (1.3.0)\n",
      "Requirement already satisfied: pyasn1<0.5.0,>=0.4.6 in c:\\python3\\lib\\site-packages (from pyasn1-modules>=0.2.1->google-auth<2,>=1.6.3->tensorboard<3,>=2.3.0->tensorflow>=1.15.2->causalml) (0.4.8)\n",
      "Requirement already satisfied: urllib3!=1.25.0,!=1.25.1,<1.26,>=1.21.1 in c:\\python3\\lib\\site-packages (from requests<3,>=2.21.0->tensorboard<3,>=2.3.0->tensorflow>=1.15.2->causalml) (1.25.10)\n",
      "Requirement already satisfied: idna<3,>=2.5 in c:\\python3\\lib\\site-packages (from requests<3,>=2.21.0->tensorboard<3,>=2.3.0->tensorflow>=1.15.2->causalml) (2.10)\n",
      "Requirement already satisfied: certifi>=2017.4.17 in c:\\python3\\lib\\site-packages (from requests<3,>=2.21.0->tensorboard<3,>=2.3.0->tensorflow>=1.15.2->causalml) (2020.6.20)\n",
      "Requirement already satisfied: chardet<4,>=3.0.2 in c:\\python3\\lib\\site-packages (from requests<3,>=2.21.0->tensorboard<3,>=2.3.0->tensorflow>=1.15.2->causalml) (3.0.4)\n",
      "Requirement already satisfied: oauthlib>=3.0.0 in c:\\python3\\lib\\site-packages (from requests-oauthlib>=0.7.0->google-auth-oauthlib<0.5,>=0.4.1->tensorboard<3,>=2.3.0->tensorflow>=1.15.2->causalml) (3.1.0)\n",
      "Requirement already satisfied: pyyaml in c:\\python3\\lib\\site-packages (from keras->causalml) (5.4.1)\n",
      "Requirement already satisfied: kiwisolver>=1.0.1 in c:\\python3\\lib\\site-packages (from matplotlib->causalml) (1.2.0)\n",
      "Requirement already satisfied: cycler>=0.10 in c:\\python3\\lib\\site-packages (from matplotlib->causalml) (0.10.0)\n",
      "Requirement already satisfied: pillow>=6.2.0 in c:\\python3\\lib\\site-packages (from matplotlib->causalml) (7.0.0)\n",
      "Requirement already satisfied: pyparsing!=2.0.4,!=2.1.2,!=2.1.6,>=2.0.3 in c:\\python3\\lib\\site-packages (from matplotlib->causalml) (2.4.7)\n",
      "Requirement already satisfied: llvmlite<0.37,>=0.36.0rc1 in c:\\python3\\lib\\site-packages (from numba->shap<0.38.1->causalml) (0.36.0)\n",
      "Requirement already satisfied: future in c:\\python3\\lib\\site-packages (from pygam->causalml) (0.18.2)\n",
      "Requirement already satisfied: progressbar2 in c:\\python3\\lib\\site-packages (from pygam->causalml) (3.53.1)\n",
      "Requirement already satisfied: python-utils>=2.3.0 in c:\\python3\\lib\\site-packages (from progressbar2->pygam->causalml) (2.5.6)\n",
      "Requirement already satisfied: pyro-api>=0.1.1 in c:\\python3\\lib\\site-packages (from pyro-ppl->causalml) (0.1.2)\n",
      "Requirement already satisfied: typing-extensions in c:\\python3\\lib\\site-packages (from torch->causalml) (3.7.4.3)\n"
     ]
    }
   ],
   "source": [
    "!pip install scikit-uplift catboost==0.22 -U\n",
    "!pip install causalml"
   ]
  },
  {
   "cell_type": "code",
   "execution_count": 4,
   "metadata": {
    "id": "qd2JzOyphSDy"
   },
   "outputs": [],
   "source": [
    "%matplotlib inline\n",
    "\n",
    "import pandas as pd; pd.set_option('display.max_columns', None)\n",
    "from sklearn.model_selection import train_test_split\n",
    "\n",
    "\n",
    "# Чтение данных\n",
    "df_clients = pd.read_csv(path +'clients.csv', index_col='client_id')\n",
    "df_train = pd.read_csv(path +'uplift_train.csv', index_col='client_id')\n",
    "df_test = pd.read_csv(path +'uplift_test.csv', index_col='client_id')\n",
    "\n",
    "# Извлечение признаков\n",
    "df_features = df_clients.copy()\n",
    "df_features['first_issue_time'] = \\\n",
    "    (pd.to_datetime(df_features['first_issue_date'])\n",
    "     - pd.Timestamp('1970-01-01')) // pd.Timedelta('1s')\n",
    "df_features['first_redeem_time'] = \\\n",
    "    (pd.to_datetime(df_features['first_redeem_date'])\n",
    "     - pd.Timestamp('1970-01-01')) // pd.Timedelta('1s')\n",
    "df_features['issue_redeem_delay'] = df_features['first_redeem_time'] \\\n",
    "    - df_features['first_issue_time']\n",
    "df_features = df_features.drop(['first_issue_date', 'first_redeem_date'], axis=1)\n",
    "\n",
    "indices_train = df_train.index\n",
    "indices_test = df_test.index\n",
    "indices_learn, indices_valid = train_test_split(df_train.index, test_size=0.3, random_state=123)"
   ]
  },
  {
   "cell_type": "code",
   "execution_count": 5,
   "metadata": {
    "colab": {
     "base_uri": "https://localhost:8080/",
     "height": 450
    },
    "id": "Y3lI5MObhSDy",
    "outputId": "8f51b0ac-9b07-4079-b450-533cc4bae9da",
    "scrolled": true
   },
   "outputs": [
    {
     "data": {
      "text/html": [
       "<div>\n",
       "<style scoped>\n",
       "    .dataframe tbody tr th:only-of-type {\n",
       "        vertical-align: middle;\n",
       "    }\n",
       "\n",
       "    .dataframe tbody tr th {\n",
       "        vertical-align: top;\n",
       "    }\n",
       "\n",
       "    .dataframe thead th {\n",
       "        text-align: right;\n",
       "    }\n",
       "</style>\n",
       "<table border=\"1\" class=\"dataframe\">\n",
       "  <thead>\n",
       "    <tr style=\"text-align: right;\">\n",
       "      <th></th>\n",
       "      <th>first_issue_date</th>\n",
       "      <th>first_redeem_date</th>\n",
       "      <th>age</th>\n",
       "      <th>gender</th>\n",
       "    </tr>\n",
       "    <tr>\n",
       "      <th>client_id</th>\n",
       "      <th></th>\n",
       "      <th></th>\n",
       "      <th></th>\n",
       "      <th></th>\n",
       "    </tr>\n",
       "  </thead>\n",
       "  <tbody>\n",
       "    <tr>\n",
       "      <th>000012768d</th>\n",
       "      <td>2017-08-05 15:40:48</td>\n",
       "      <td>2018-01-04 19:30:07</td>\n",
       "      <td>45</td>\n",
       "      <td>U</td>\n",
       "    </tr>\n",
       "    <tr>\n",
       "      <th>000036f903</th>\n",
       "      <td>2017-04-10 13:54:23</td>\n",
       "      <td>2017-04-23 12:37:56</td>\n",
       "      <td>72</td>\n",
       "      <td>F</td>\n",
       "    </tr>\n",
       "    <tr>\n",
       "      <th>000048b7a6</th>\n",
       "      <td>2018-12-15 13:33:11</td>\n",
       "      <td>NaN</td>\n",
       "      <td>68</td>\n",
       "      <td>F</td>\n",
       "    </tr>\n",
       "    <tr>\n",
       "      <th>000073194a</th>\n",
       "      <td>2017-05-23 12:56:14</td>\n",
       "      <td>2017-11-24 11:18:01</td>\n",
       "      <td>60</td>\n",
       "      <td>F</td>\n",
       "    </tr>\n",
       "    <tr>\n",
       "      <th>00007c7133</th>\n",
       "      <td>2017-05-22 16:17:08</td>\n",
       "      <td>2018-12-31 17:17:33</td>\n",
       "      <td>67</td>\n",
       "      <td>U</td>\n",
       "    </tr>\n",
       "    <tr>\n",
       "      <th>...</th>\n",
       "      <td>...</td>\n",
       "      <td>...</td>\n",
       "      <td>...</td>\n",
       "      <td>...</td>\n",
       "    </tr>\n",
       "    <tr>\n",
       "      <th>fffece623e</th>\n",
       "      <td>2018-05-13 15:09:30</td>\n",
       "      <td>2018-12-27 19:06:39</td>\n",
       "      <td>67</td>\n",
       "      <td>U</td>\n",
       "    </tr>\n",
       "    <tr>\n",
       "      <th>ffff3dfff8</th>\n",
       "      <td>2018-11-01 16:06:52</td>\n",
       "      <td>2018-12-07 17:33:47</td>\n",
       "      <td>56</td>\n",
       "      <td>F</td>\n",
       "    </tr>\n",
       "    <tr>\n",
       "      <th>ffffaab9da</th>\n",
       "      <td>2017-08-25 18:43:24</td>\n",
       "      <td>2017-12-08 17:53:19</td>\n",
       "      <td>23</td>\n",
       "      <td>F</td>\n",
       "    </tr>\n",
       "    <tr>\n",
       "      <th>ffffeb5619</th>\n",
       "      <td>2017-12-05 13:26:28</td>\n",
       "      <td>NaN</td>\n",
       "      <td>62</td>\n",
       "      <td>U</td>\n",
       "    </tr>\n",
       "    <tr>\n",
       "      <th>fffff6ce77</th>\n",
       "      <td>2017-08-03 20:25:12</td>\n",
       "      <td>2017-08-26 16:41:41</td>\n",
       "      <td>42</td>\n",
       "      <td>U</td>\n",
       "    </tr>\n",
       "  </tbody>\n",
       "</table>\n",
       "<p>400162 rows × 4 columns</p>\n",
       "</div>"
      ],
      "text/plain": [
       "               first_issue_date    first_redeem_date  age gender\n",
       "client_id                                                       \n",
       "000012768d  2017-08-05 15:40:48  2018-01-04 19:30:07   45      U\n",
       "000036f903  2017-04-10 13:54:23  2017-04-23 12:37:56   72      F\n",
       "000048b7a6  2018-12-15 13:33:11                  NaN   68      F\n",
       "000073194a  2017-05-23 12:56:14  2017-11-24 11:18:01   60      F\n",
       "00007c7133  2017-05-22 16:17:08  2018-12-31 17:17:33   67      U\n",
       "...                         ...                  ...  ...    ...\n",
       "fffece623e  2018-05-13 15:09:30  2018-12-27 19:06:39   67      U\n",
       "ffff3dfff8  2018-11-01 16:06:52  2018-12-07 17:33:47   56      F\n",
       "ffffaab9da  2017-08-25 18:43:24  2017-12-08 17:53:19   23      F\n",
       "ffffeb5619  2017-12-05 13:26:28                  NaN   62      U\n",
       "fffff6ce77  2017-08-03 20:25:12  2017-08-26 16:41:41   42      U\n",
       "\n",
       "[400162 rows x 4 columns]"
      ]
     },
     "execution_count": 5,
     "metadata": {},
     "output_type": "execute_result"
    }
   ],
   "source": [
    "df_clients"
   ]
  },
  {
   "cell_type": "code",
   "execution_count": 6,
   "metadata": {
    "colab": {
     "base_uri": "https://localhost:8080/",
     "height": 156
    },
    "id": "eoZTxoWMhSD0",
    "outputId": "651fefdf-cf43-4927-d1ca-4c000f6d39ab"
   },
   "outputs": [
    {
     "data": {
      "text/html": [
       "<div>\n",
       "<style scoped>\n",
       "    .dataframe tbody tr th:only-of-type {\n",
       "        vertical-align: middle;\n",
       "    }\n",
       "\n",
       "    .dataframe tbody tr th {\n",
       "        vertical-align: top;\n",
       "    }\n",
       "\n",
       "    .dataframe thead th {\n",
       "        text-align: right;\n",
       "    }\n",
       "</style>\n",
       "<table border=\"1\" class=\"dataframe\">\n",
       "  <thead>\n",
       "    <tr style=\"text-align: right;\">\n",
       "      <th></th>\n",
       "    </tr>\n",
       "    <tr>\n",
       "      <th>client_id</th>\n",
       "    </tr>\n",
       "  </thead>\n",
       "  <tbody>\n",
       "    <tr>\n",
       "      <th>000048b7a6</th>\n",
       "    </tr>\n",
       "    <tr>\n",
       "      <th>000073194a</th>\n",
       "    </tr>\n",
       "    <tr>\n",
       "      <th>00007c7133</th>\n",
       "    </tr>\n",
       "  </tbody>\n",
       "</table>\n",
       "</div>"
      ],
      "text/plain": [
       "Empty DataFrame\n",
       "Columns: []\n",
       "Index: [000048b7a6, 000073194a, 00007c7133]"
      ]
     },
     "execution_count": 6,
     "metadata": {},
     "output_type": "execute_result"
    }
   ],
   "source": [
    "df_test.head(3)"
   ]
  },
  {
   "cell_type": "code",
   "execution_count": 7,
   "metadata": {
    "colab": {
     "base_uri": "https://localhost:8080/",
     "height": 450
    },
    "id": "dT4orWaUhSD1",
    "outputId": "54865c97-fb42-47a5-d7ae-448c3924d03b"
   },
   "outputs": [
    {
     "data": {
      "text/html": [
       "<div>\n",
       "<style scoped>\n",
       "    .dataframe tbody tr th:only-of-type {\n",
       "        vertical-align: middle;\n",
       "    }\n",
       "\n",
       "    .dataframe tbody tr th {\n",
       "        vertical-align: top;\n",
       "    }\n",
       "\n",
       "    .dataframe thead th {\n",
       "        text-align: right;\n",
       "    }\n",
       "</style>\n",
       "<table border=\"1\" class=\"dataframe\">\n",
       "  <thead>\n",
       "    <tr style=\"text-align: right;\">\n",
       "      <th></th>\n",
       "      <th>treatment_flg</th>\n",
       "      <th>target</th>\n",
       "    </tr>\n",
       "    <tr>\n",
       "      <th>client_id</th>\n",
       "      <th></th>\n",
       "      <th></th>\n",
       "    </tr>\n",
       "  </thead>\n",
       "  <tbody>\n",
       "    <tr>\n",
       "      <th>000012768d</th>\n",
       "      <td>0</td>\n",
       "      <td>1</td>\n",
       "    </tr>\n",
       "    <tr>\n",
       "      <th>000036f903</th>\n",
       "      <td>1</td>\n",
       "      <td>1</td>\n",
       "    </tr>\n",
       "    <tr>\n",
       "      <th>00010925a5</th>\n",
       "      <td>1</td>\n",
       "      <td>1</td>\n",
       "    </tr>\n",
       "    <tr>\n",
       "      <th>0001f552b0</th>\n",
       "      <td>1</td>\n",
       "      <td>1</td>\n",
       "    </tr>\n",
       "    <tr>\n",
       "      <th>00020e7b18</th>\n",
       "      <td>1</td>\n",
       "      <td>1</td>\n",
       "    </tr>\n",
       "    <tr>\n",
       "      <th>...</th>\n",
       "      <td>...</td>\n",
       "      <td>...</td>\n",
       "    </tr>\n",
       "    <tr>\n",
       "      <th>fffe0abb97</th>\n",
       "      <td>0</td>\n",
       "      <td>0</td>\n",
       "    </tr>\n",
       "    <tr>\n",
       "      <th>fffe0ed719</th>\n",
       "      <td>0</td>\n",
       "      <td>1</td>\n",
       "    </tr>\n",
       "    <tr>\n",
       "      <th>fffea1204c</th>\n",
       "      <td>0</td>\n",
       "      <td>1</td>\n",
       "    </tr>\n",
       "    <tr>\n",
       "      <th>fffeca6d22</th>\n",
       "      <td>1</td>\n",
       "      <td>0</td>\n",
       "    </tr>\n",
       "    <tr>\n",
       "      <th>fffff6ce77</th>\n",
       "      <td>0</td>\n",
       "      <td>1</td>\n",
       "    </tr>\n",
       "  </tbody>\n",
       "</table>\n",
       "<p>200039 rows × 2 columns</p>\n",
       "</div>"
      ],
      "text/plain": [
       "            treatment_flg  target\n",
       "client_id                        \n",
       "000012768d              0       1\n",
       "000036f903              1       1\n",
       "00010925a5              1       1\n",
       "0001f552b0              1       1\n",
       "00020e7b18              1       1\n",
       "...                   ...     ...\n",
       "fffe0abb97              0       0\n",
       "fffe0ed719              0       1\n",
       "fffea1204c              0       1\n",
       "fffeca6d22              1       0\n",
       "fffff6ce77              0       1\n",
       "\n",
       "[200039 rows x 2 columns]"
      ]
     },
     "execution_count": 7,
     "metadata": {},
     "output_type": "execute_result"
    }
   ],
   "source": [
    "df_train"
   ]
  },
  {
   "cell_type": "code",
   "execution_count": 8,
   "metadata": {
    "colab": {
     "base_uri": "https://localhost:8080/",
     "height": 142
    },
    "id": "aR4gZCwZhSD1",
    "outputId": "f192bc50-a97e-4dc8-b68b-8dbcb83eb1b6"
   },
   "outputs": [
    {
     "data": {
      "text/html": [
       "<div>\n",
       "<style scoped>\n",
       "    .dataframe tbody tr th:only-of-type {\n",
       "        vertical-align: middle;\n",
       "    }\n",
       "\n",
       "    .dataframe tbody tr th {\n",
       "        vertical-align: top;\n",
       "    }\n",
       "\n",
       "    .dataframe thead th {\n",
       "        text-align: right;\n",
       "    }\n",
       "</style>\n",
       "<table border=\"1\" class=\"dataframe\">\n",
       "  <thead>\n",
       "    <tr style=\"text-align: right;\">\n",
       "      <th></th>\n",
       "      <th>count</th>\n",
       "      <th>mean</th>\n",
       "      <th>std</th>\n",
       "      <th>min</th>\n",
       "      <th>25%</th>\n",
       "      <th>50%</th>\n",
       "      <th>75%</th>\n",
       "      <th>max</th>\n",
       "    </tr>\n",
       "    <tr>\n",
       "      <th>treatment_flg</th>\n",
       "      <th></th>\n",
       "      <th></th>\n",
       "      <th></th>\n",
       "      <th></th>\n",
       "      <th></th>\n",
       "      <th></th>\n",
       "      <th></th>\n",
       "      <th></th>\n",
       "    </tr>\n",
       "  </thead>\n",
       "  <tbody>\n",
       "    <tr>\n",
       "      <th>0</th>\n",
       "      <td>100058.0</td>\n",
       "      <td>0.603280</td>\n",
       "      <td>0.489219</td>\n",
       "      <td>0.0</td>\n",
       "      <td>0.0</td>\n",
       "      <td>1.0</td>\n",
       "      <td>1.0</td>\n",
       "      <td>1.0</td>\n",
       "    </tr>\n",
       "    <tr>\n",
       "      <th>1</th>\n",
       "      <td>99981.0</td>\n",
       "      <td>0.636511</td>\n",
       "      <td>0.481006</td>\n",
       "      <td>0.0</td>\n",
       "      <td>0.0</td>\n",
       "      <td>1.0</td>\n",
       "      <td>1.0</td>\n",
       "      <td>1.0</td>\n",
       "    </tr>\n",
       "  </tbody>\n",
       "</table>\n",
       "</div>"
      ],
      "text/plain": [
       "                  count      mean       std  min  25%  50%  75%  max\n",
       "treatment_flg                                                       \n",
       "0              100058.0  0.603280  0.489219  0.0  0.0  1.0  1.0  1.0\n",
       "1               99981.0  0.636511  0.481006  0.0  0.0  1.0  1.0  1.0"
      ]
     },
     "execution_count": 8,
     "metadata": {},
     "output_type": "execute_result"
    }
   ],
   "source": [
    "df_train.groupby(\"treatment_flg\")['target'].describe()"
   ]
  },
  {
   "cell_type": "markdown",
   "metadata": {
    "id": "9a-hFGPYhSD2"
   },
   "source": [
    "Заведем переменные"
   ]
  },
  {
   "cell_type": "code",
   "execution_count": 9,
   "metadata": {
    "id": "TNfQfTM7hSD2"
   },
   "outputs": [],
   "source": [
    "X_train = df_features.loc[indices_learn, :]\n",
    "y_train = df_train.loc[indices_learn, 'target']\n",
    "treat_train = df_train.loc[indices_learn, 'treatment_flg']\n",
    "\n",
    "X_val = df_features.loc[indices_valid, :]\n",
    "y_val = df_train.loc[indices_valid, 'target']\n",
    "treat_val =  df_train.loc[indices_valid, 'treatment_flg']\n",
    "\n",
    "X_train_full = df_features.loc[indices_train, :]\n",
    "y_train_full = df_train.loc[:, 'target']\n",
    "treat_train_full = df_train.loc[:, 'treatment_flg']\n",
    "\n",
    "X_test = df_features.loc[indices_test, :]\n",
    "\n",
    "cat_features = ['gender']\n",
    "\n",
    "models_results = {\n",
    "    'approach': [],\n",
    "    'uplift@30%': []\n",
    "}"
   ]
  },
  {
   "cell_type": "code",
   "execution_count": 10,
   "metadata": {
    "colab": {
     "base_uri": "https://localhost:8080/",
     "height": 235
    },
    "id": "99FReaLMCRRx",
    "outputId": "bb7cafcf-5d51-424f-e02d-e9463903e2f6"
   },
   "outputs": [
    {
     "data": {
      "text/html": [
       "<div>\n",
       "<style scoped>\n",
       "    .dataframe tbody tr th:only-of-type {\n",
       "        vertical-align: middle;\n",
       "    }\n",
       "\n",
       "    .dataframe tbody tr th {\n",
       "        vertical-align: top;\n",
       "    }\n",
       "\n",
       "    .dataframe thead th {\n",
       "        text-align: right;\n",
       "    }\n",
       "</style>\n",
       "<table border=\"1\" class=\"dataframe\">\n",
       "  <thead>\n",
       "    <tr style=\"text-align: right;\">\n",
       "      <th></th>\n",
       "      <th>age</th>\n",
       "      <th>gender</th>\n",
       "      <th>first_issue_time</th>\n",
       "      <th>first_redeem_time</th>\n",
       "      <th>issue_redeem_delay</th>\n",
       "    </tr>\n",
       "    <tr>\n",
       "      <th>client_id</th>\n",
       "      <th></th>\n",
       "      <th></th>\n",
       "      <th></th>\n",
       "      <th></th>\n",
       "      <th></th>\n",
       "    </tr>\n",
       "  </thead>\n",
       "  <tbody>\n",
       "    <tr>\n",
       "      <th>ad6561e2d8</th>\n",
       "      <td>50</td>\n",
       "      <td>F</td>\n",
       "      <td>1512322431</td>\n",
       "      <td>1.527102e+09</td>\n",
       "      <td>14779510.0</td>\n",
       "    </tr>\n",
       "    <tr>\n",
       "      <th>7c1ccbf93f</th>\n",
       "      <td>24</td>\n",
       "      <td>F</td>\n",
       "      <td>1510331629</td>\n",
       "      <td>1.519326e+09</td>\n",
       "      <td>8994516.0</td>\n",
       "    </tr>\n",
       "    <tr>\n",
       "      <th>b58fadcab6</th>\n",
       "      <td>36</td>\n",
       "      <td>U</td>\n",
       "      <td>1509657465</td>\n",
       "      <td>1.537045e+09</td>\n",
       "      <td>27387871.0</td>\n",
       "    </tr>\n",
       "    <tr>\n",
       "      <th>e99e6fabb9</th>\n",
       "      <td>79</td>\n",
       "      <td>F</td>\n",
       "      <td>1526466080</td>\n",
       "      <td>1.527713e+09</td>\n",
       "      <td>1247284.0</td>\n",
       "    </tr>\n",
       "    <tr>\n",
       "      <th>27fb6f8520</th>\n",
       "      <td>34</td>\n",
       "      <td>F</td>\n",
       "      <td>1500320188</td>\n",
       "      <td>1.513332e+09</td>\n",
       "      <td>13012137.0</td>\n",
       "    </tr>\n",
       "  </tbody>\n",
       "</table>\n",
       "</div>"
      ],
      "text/plain": [
       "            age gender  first_issue_time  first_redeem_time  \\\n",
       "client_id                                                     \n",
       "ad6561e2d8   50      F        1512322431       1.527102e+09   \n",
       "7c1ccbf93f   24      F        1510331629       1.519326e+09   \n",
       "b58fadcab6   36      U        1509657465       1.537045e+09   \n",
       "e99e6fabb9   79      F        1526466080       1.527713e+09   \n",
       "27fb6f8520   34      F        1500320188       1.513332e+09   \n",
       "\n",
       "            issue_redeem_delay  \n",
       "client_id                       \n",
       "ad6561e2d8          14779510.0  \n",
       "7c1ccbf93f           8994516.0  \n",
       "b58fadcab6          27387871.0  \n",
       "e99e6fabb9           1247284.0  \n",
       "27fb6f8520          13012137.0  "
      ]
     },
     "execution_count": 10,
     "metadata": {},
     "output_type": "execute_result"
    }
   ],
   "source": [
    "X_train.head()"
   ]
  },
  {
   "cell_type": "code",
   "execution_count": 11,
   "metadata": {
    "colab": {
     "base_uri": "https://localhost:8080/"
    },
    "id": "WavVoX03hSD3",
    "outputId": "41e114d1-6396-42e8-bd01-4801b05f265f"
   },
   "outputs": [
    {
     "data": {
      "text/plain": [
       "client_id\n",
       "ad6561e2d8    1\n",
       "7c1ccbf93f    1\n",
       "b58fadcab6    1\n",
       "e99e6fabb9    0\n",
       "27fb6f8520    1\n",
       "             ..\n",
       "999d284453    1\n",
       "f634deea4e    0\n",
       "16cb4f99b0    0\n",
       "23c2b72b2e    1\n",
       "1430184499    0\n",
       "Name: treatment_flg, Length: 140027, dtype: int64"
      ]
     },
     "execution_count": 11,
     "metadata": {},
     "output_type": "execute_result"
    }
   ],
   "source": [
    "treat_train"
   ]
  },
  {
   "cell_type": "code",
   "execution_count": 12,
   "metadata": {
    "colab": {
     "base_uri": "https://localhost:8080/"
    },
    "id": "ClgSw1EphSD3",
    "outputId": "a8765b40-b12f-45ce-e5b7-f67c51dba289"
   },
   "outputs": [
    {
     "data": {
      "text/plain": [
       "client_id\n",
       "ad6561e2d8    1\n",
       "7c1ccbf93f    1\n",
       "b58fadcab6    1\n",
       "e99e6fabb9    0\n",
       "27fb6f8520    1\n",
       "             ..\n",
       "999d284453    1\n",
       "f634deea4e    1\n",
       "16cb4f99b0    1\n",
       "23c2b72b2e    1\n",
       "1430184499    1\n",
       "Name: target, Length: 140027, dtype: int64"
      ]
     },
     "execution_count": 12,
     "metadata": {},
     "output_type": "execute_result"
    }
   ],
   "source": [
    "y_train"
   ]
  },
  {
   "cell_type": "code",
   "execution_count": 13,
   "metadata": {
    "id": "jv3bb0fFclCh"
   },
   "outputs": [],
   "source": [
    "from sklearn.utils.validation import check_consistent_length\n",
    "import matplotlib.pyplot as plt\n",
    "\n",
    "\n",
    "def plot_uplift_preds_(trmnt_preds, ctrl_preds, log=False, bins=100):\n",
    "    \"\"\"Plot histograms of treatment, control and uplift predictions.\n",
    "\n",
    "    Args:\n",
    "        trmnt_preds (1d array-like): Predictions for all observations if they are treatment.\n",
    "        ctrl_preds (1d array-like): Predictions for all observations if they are control.\n",
    "        log (bool): Logarithm of source samples. Default is False.\n",
    "        bins (integer or sequence): Number of histogram bins to be used. Default is 100.\n",
    "            If an integer is given, bins + 1 bin edges are calculated and returned.\n",
    "            If bins is a sequence, gives bin edges, including left edge of first bin and right edge of last bin.\n",
    "            In this case, bins is returned unmodified. Default is 100.\n",
    "\n",
    "    Returns:\n",
    "        Object that stores computed values.\n",
    "    \"\"\"\n",
    "\n",
    "    # TODO: Add k as parameter: vertical line on plots\n",
    "    check_consistent_length(trmnt_preds, ctrl_preds)\n",
    "  \n",
    "    if not isinstance(bins, int) or bins <= 0:\n",
    "        raise ValueError(\n",
    "            f'Bins should be positive integer. Invalid value for bins: {bins}')\n",
    "\n",
    "    if log:\n",
    "        trmnt_preds = np.log(trmnt_preds + 1)\n",
    "        ctrl_preds = np.log(ctrl_preds + 1)\n",
    "\n",
    "    fig, axes = plt.subplots(ncols=3, nrows=1, figsize=(20, 7))\n",
    "    axes[0].hist(\n",
    "        trmnt_preds, bins=bins, alpha=0.3, color='b', label='Treated', histtype='stepfilled')\n",
    "    axes[0].set_ylabel('Probability hist')\n",
    "    axes[0].legend()\n",
    "    axes[0].set_title('Treatment predictions')\n",
    "\n",
    "    axes[1].hist(\n",
    "        ctrl_preds, bins=bins, alpha=0.5, color='y', label='Not treated', histtype='stepfilled')\n",
    "    axes[1].legend()\n",
    "    axes[1].set_title('Control predictions')\n",
    "\n",
    "    axes[2].hist(\n",
    "        trmnt_preds - ctrl_preds, bins=bins, alpha=0.5, color='green', label='Uplift', histtype='stepfilled')\n",
    "    axes[2].legend()\n",
    "    axes[2].set_title('Uplift predictions')\n",
    "\n",
    "    return axes"
   ]
  },
  {
   "cell_type": "markdown",
   "metadata": {
    "id": "IDy7BtiGhSD4"
   },
   "source": [
    "### 1. Подходы с одной моделью\n",
    "#### 1.1 Одна модель с признаком коммуникации\n",
    "Самое простое и интуитивное решение: модель обучается одновременно на двух группах, при этом бинарный флаг коммуникации выступает в качестве дополнительного признака. Каждый объект из тестовой выборки скорим дважды: с флагом коммуникации равным 1 и равным 0. Вычитая вероятности по каждому наблюдению, получим искомы uplift."
   ]
  },
  {
   "cell_type": "markdown",
   "metadata": {
    "id": "STOIAhy8hSD4"
   },
   "source": [
    "![ab_split](uplift4.png \"uplift4\")"
   ]
  },
  {
   "cell_type": "code",
   "execution_count": 14,
   "metadata": {
    "colab": {
     "base_uri": "https://localhost:8080/",
     "height": 385
    },
    "id": "wIJpoOq1hSD5",
    "outputId": "9f7d4253-b5ee-4c8d-d94c-a857dfedf781"
   },
   "outputs": [
    {
     "data": {
      "image/png": "[encoded data removed]",
      "text/plain": [
       "<Figure size 1440x504 with 3 Axes>"
      ]
     },
     "metadata": {
      "needs_background": "light"
     },
     "output_type": "display_data"
    }
   ],
   "source": [
    "# Инструкция по установке пакета: https://github.com/maks-sh/scikit-uplift\n",
    "# Ссылка на документацию: https://scikit-uplift.readthedocs.io/en/latest/\n",
    "from sklift.metrics import uplift_at_k\n",
    "from sklift.viz import plot_uplift_preds ## в новой версии проблема (беру свой вариант)\n",
    "from sklift.models import SoloModel\n",
    "\n",
    "# sklift поддерживает любые модели, \n",
    "# которые удовлетворяют соглашениями scikit-learn\n",
    "# Для примера воспользуемся catboost\n",
    "from catboost import CatBoostClassifier\n",
    "\n",
    "N =10000\n",
    "sm = SoloModel(CatBoostClassifier(iterations=20, thread_count=2, random_state=42, silent=True))\n",
    "sm = sm.fit(X_train.iloc[:N,:], y_train.iloc[:N], treat_train.iloc[:N], estimator_fit_params={'cat_features': cat_features})\n",
    "\n",
    "uplift_sm = sm.predict(X_val)\n",
    "\n",
    "sm_score = uplift_at_k(y_true=y_val[:N], uplift=uplift_sm[:N], treatment=treat_val[:N], strategy='by_group', k=0.3)\n",
    "\n",
    "models_results['approach'].append('SoloModel')\n",
    "models_results['uplift@30%'].append(sm_score)\n",
    "\n",
    "# Получим условные вероятности выполнения целевого действия при взаимодействии для каждого объекта\n",
    "sm_trmnt_preds = sm.trmnt_preds_\n",
    "# И условные вероятности выполнения целевого действия без взаимодействия для каждого объекта\n",
    "sm_ctrl_preds = sm.ctrl_preds_\n",
    "\n",
    "# Отрисуем распределения вероятностей и их разность (uplift)\n",
    "plot_uplift_preds_(   sm_trmnt_preds , sm_ctrl_preds, bins=10);#ctrl_preds="
   ]
  },
  {
   "cell_type": "markdown",
   "metadata": {
    "id": "qoW7ii4-hSD6"
   },
   "source": [
    "Посмотрим на топ-признаки"
   ]
  },
  {
   "cell_type": "code",
   "execution_count": 15,
   "metadata": {
    "colab": {
     "base_uri": "https://localhost:8080/",
     "height": 235
    },
    "id": "2kPkZaMehSD6",
    "outputId": "7f7ad3e7-cdf5-46c3-dadc-351e28f79473"
   },
   "outputs": [
    {
     "data": {
      "text/html": [
       "<div>\n",
       "<style scoped>\n",
       "    .dataframe tbody tr th:only-of-type {\n",
       "        vertical-align: middle;\n",
       "    }\n",
       "\n",
       "    .dataframe tbody tr th {\n",
       "        vertical-align: top;\n",
       "    }\n",
       "\n",
       "    .dataframe thead th {\n",
       "        text-align: right;\n",
       "    }\n",
       "</style>\n",
       "<table border=\"1\" class=\"dataframe\">\n",
       "  <thead>\n",
       "    <tr style=\"text-align: right;\">\n",
       "      <th></th>\n",
       "      <th>feature_name</th>\n",
       "      <th>feature_score</th>\n",
       "    </tr>\n",
       "  </thead>\n",
       "  <tbody>\n",
       "    <tr>\n",
       "      <th>0</th>\n",
       "      <td>issue_redeem_delay</td>\n",
       "      <td>32.439270</td>\n",
       "    </tr>\n",
       "    <tr>\n",
       "      <th>1</th>\n",
       "      <td>first_redeem_time</td>\n",
       "      <td>24.022436</td>\n",
       "    </tr>\n",
       "    <tr>\n",
       "      <th>2</th>\n",
       "      <td>first_issue_time</td>\n",
       "      <td>16.776697</td>\n",
       "    </tr>\n",
       "    <tr>\n",
       "      <th>3</th>\n",
       "      <td>age</td>\n",
       "      <td>13.237028</td>\n",
       "    </tr>\n",
       "    <tr>\n",
       "      <th>4</th>\n",
       "      <td>treatment</td>\n",
       "      <td>8.106927</td>\n",
       "    </tr>\n",
       "    <tr>\n",
       "      <th>5</th>\n",
       "      <td>gender</td>\n",
       "      <td>5.417641</td>\n",
       "    </tr>\n",
       "  </tbody>\n",
       "</table>\n",
       "</div>"
      ],
      "text/plain": [
       "         feature_name  feature_score\n",
       "0  issue_redeem_delay      32.439270\n",
       "1   first_redeem_time      24.022436\n",
       "2    first_issue_time      16.776697\n",
       "3                 age      13.237028\n",
       "4           treatment       8.106927\n",
       "5              gender       5.417641"
      ]
     },
     "execution_count": 15,
     "metadata": {},
     "output_type": "execute_result"
    }
   ],
   "source": [
    "# С той же легкостью можно обратиться к обученной модели.\n",
    "# Например, чтобы построить важность признаков:\n",
    "sm_fi = pd.DataFrame({\n",
    "    'feature_name': sm.estimator.feature_names_,\n",
    "    'feature_score': sm.estimator.feature_importances_\n",
    "}).sort_values('feature_score', ascending=False).reset_index(drop=True)\n",
    "\n",
    "sm_fi"
   ]
  },
  {
   "cell_type": "markdown",
   "metadata": {
    "id": "dg-mWx1GhSD7"
   },
   "source": [
    "#### 1.2 Трансформация классов\n",
    "Достаточно интересный и математически подтвержденный подход к построению модели, представленный еще в 2012 году. Метод заключается в прогнозировании немного измененного таргета:"
   ]
  },
  {
   "cell_type": "markdown",
   "metadata": {
    "id": "P5C3MJ-GhSD7"
   },
   "source": [
    "![ab_split](uplift5.png \"uplift5\")"
   ]
  },
  {
   "cell_type": "markdown",
   "metadata": {
    "id": "SpOxAdpIhSD7"
   },
   "source": [
    "![ab_split](uplift_client_types.png \"uplift_client_types\")"
   ]
  },
  {
   "cell_type": "code",
   "execution_count": 16,
   "metadata": {
    "colab": {
     "base_uri": "https://localhost:8080/"
    },
    "id": "oT40P9ZqhSD8",
    "outputId": "b68fa7b3-9831-4b31-e74b-d4d6933494cb"
   },
   "outputs": [
    {
     "name": "stderr",
     "output_type": "stream",
     "text": [
      "<ipython-input-16-6e5ebc9c94ea>:5: UserWarning: It is recommended to use this approach on treatment balanced data. Current sample size is unbalanced.\n",
      "  ct = ct.fit(X_train, y_train, treat_train, estimator_fit_params={'cat_features': cat_features})\n"
     ]
    }
   ],
   "source": [
    "from sklift.models import ClassTransformation\n",
    "\n",
    "\n",
    "ct = ClassTransformation(CatBoostClassifier(iterations=20, thread_count=2, random_state=42, silent=True))\n",
    "ct = ct.fit(X_train, y_train, treat_train, estimator_fit_params={'cat_features': cat_features})\n",
    "\n",
    "uplift_ct = ct.predict(X_val)\n",
    "\n",
    "ct_score = uplift_at_k(y_true=y_val, uplift=uplift_ct, treatment=treat_val, strategy='by_group', k=0.3)\n",
    "\n",
    "models_results['approach'].append('ClassTransformation')\n",
    "models_results['uplift@30%'].append(ct_score)"
   ]
  },
  {
   "cell_type": "markdown",
   "metadata": {
    "id": "m-DwEg-shSD8"
   },
   "source": [
    "#### 2.1 Две независимые модели\n",
    "Как понятно из названия, подход заключается в моделировании условных вероятностей тестовой и контрольной групп отдельно. В статьях утверждается, что такой подход достаточно слабый, так как обе модели фокусируются на прогнозировании результата отдельно и поэтому могут пропустить \"более слабые\" различия в выборках."
   ]
  },
  {
   "cell_type": "markdown",
   "metadata": {
    "id": "goPzDMmkhSD9"
   },
   "source": [
    "![ab_split](uplift6.png \"uplift6\")"
   ]
  },
  {
   "cell_type": "code",
   "execution_count": 17,
   "metadata": {
    "colab": {
     "base_uri": "https://localhost:8080/",
     "height": 387
    },
    "id": "o2Bc_327hSD9",
    "outputId": "84edf39b-f363-40a8-e2bf-866658cc5b53"
   },
   "outputs": [
    {
     "data": {
      "image/png": "[encoded data removed]",
      "text/plain": [
       "<Figure size 1440x504 with 3 Axes>"
      ]
     },
     "metadata": {
      "needs_background": "light"
     },
     "output_type": "display_data"
    }
   ],
   "source": [
    "from sklift.models import TwoModels\n",
    "\n",
    "\n",
    "tm = TwoModels(\n",
    "    estimator_trmnt=CatBoostClassifier(iterations=10, thread_count=2, random_state=42, silent=True), \n",
    "    estimator_ctrl=CatBoostClassifier(iterations=10, thread_count=2, random_state=42, silent=True), \n",
    "    method='vanilla'\n",
    ")\n",
    "tm = tm.fit(\n",
    "    X_train, y_train, treat_train,\n",
    "    estimator_trmnt_fit_params={'cat_features': cat_features}, \n",
    "    estimator_ctrl_fit_params={'cat_features': cat_features}\n",
    ")\n",
    "\n",
    "uplift_tm = tm.predict(X_val)\n",
    "\n",
    "tm_score = uplift_at_k(y_true=y_val, uplift=uplift_tm, treatment=treat_val, strategy='by_group', k=0.2)\n",
    "\n",
    "models_results['approach'].append('TwoModels')\n",
    "models_results['uplift@30%'].append(tm_score)\n",
    "\n",
    "plot_uplift_preds_(trmnt_preds=tm.trmnt_preds_, ctrl_preds=tm.ctrl_preds_);"
   ]
  },
  {
   "cell_type": "markdown",
   "metadata": {
    "id": "Y2UCfHpKhSD-"
   },
   "source": [
    "Посмотрим на результаты"
   ]
  },
  {
   "cell_type": "code",
   "execution_count": 18,
   "metadata": {
    "colab": {
     "base_uri": "https://localhost:8080/",
     "height": 142
    },
    "id": "iZkiV46LhSD-",
    "outputId": "4ce54142-c7a1-42ea-9e3c-19547e6fe09b"
   },
   "outputs": [
    {
     "data": {
      "text/html": [
       "<div>\n",
       "<style scoped>\n",
       "    .dataframe tbody tr th:only-of-type {\n",
       "        vertical-align: middle;\n",
       "    }\n",
       "\n",
       "    .dataframe tbody tr th {\n",
       "        vertical-align: top;\n",
       "    }\n",
       "\n",
       "    .dataframe thead th {\n",
       "        text-align: right;\n",
       "    }\n",
       "</style>\n",
       "<table border=\"1\" class=\"dataframe\">\n",
       "  <thead>\n",
       "    <tr style=\"text-align: right;\">\n",
       "      <th></th>\n",
       "      <th>approach</th>\n",
       "      <th>uplift@30%</th>\n",
       "    </tr>\n",
       "  </thead>\n",
       "  <tbody>\n",
       "    <tr>\n",
       "      <th>2</th>\n",
       "      <td>TwoModels</td>\n",
       "      <td>0.062360</td>\n",
       "    </tr>\n",
       "    <tr>\n",
       "      <th>1</th>\n",
       "      <td>ClassTransformation</td>\n",
       "      <td>0.061775</td>\n",
       "    </tr>\n",
       "    <tr>\n",
       "      <th>0</th>\n",
       "      <td>SoloModel</td>\n",
       "      <td>0.041167</td>\n",
       "    </tr>\n",
       "  </tbody>\n",
       "</table>\n",
       "</div>"
      ],
      "text/plain": [
       "              approach  uplift@30%\n",
       "2            TwoModels    0.062360\n",
       "1  ClassTransformation    0.061775\n",
       "0            SoloModel    0.041167"
      ]
     },
     "execution_count": 18,
     "metadata": {},
     "output_type": "execute_result"
    }
   ],
   "source": [
    "pd.DataFrame(data=models_results).sort_values('uplift@30%', ascending=False)"
   ]
  },
  {
   "cell_type": "markdown",
   "metadata": {
    "id": "CdUCCjtKhSD-"
   },
   "source": [
    "#### Вариант с деревом решений"
   ]
  },
  {
   "cell_type": "code",
   "execution_count": 19,
   "metadata": {
    "id": "wDsQNiMqhSD_"
   },
   "outputs": [],
   "source": [
    "X_train_tree = pd.concat([X_train.drop('gender', 1), \n",
    "                          pd.get_dummies(X_train['gender'], prefix='gender')], 1)\n",
    "X_val_tree = pd.concat([X_val.drop('gender', 1), \n",
    "                          pd.get_dummies(X_val['gender'], prefix='gender')], 1)\n",
    "features = [col for col in X_train_tree]"
   ]
  },
  {
   "cell_type": "code",
   "execution_count": 20,
   "metadata": {
    "colab": {
     "base_uri": "https://localhost:8080/",
     "height": 308
    },
    "id": "c_yon6eghSD_",
    "outputId": "59071936-88be-4ae3-9301-4ec327637263"
   },
   "outputs": [
    {
     "ename": "ValueError",
     "evalue": "numpy.ndarray size changed, may indicate binary incompatibility. Expected 88 from C header, got 80 from PyObject",
     "output_type": "error",
     "traceback": [
      "\u001b[1;31m---------------------------------------------------------------------------\u001b[0m",
      "\u001b[1;31mValueError\u001b[0m                                Traceback (most recent call last)",
      "\u001b[1;32m<timed exec>\u001b[0m in \u001b[0;36m<module>\u001b[1;34m\u001b[0m\n",
      "\u001b[1;32mc:\\python3\\lib\\site-packages\\causalml\\inference\\tree\\__init__.py\u001b[0m in \u001b[0;36m<module>\u001b[1;34m\u001b[0m\n\u001b[0;32m      1\u001b[0m \u001b[1;32mfrom\u001b[0m \u001b[1;33m.\u001b[0m\u001b[0mmodels\u001b[0m \u001b[1;32mimport\u001b[0m \u001b[0mUpliftTreeClassifier\u001b[0m\u001b[1;33m,\u001b[0m \u001b[0mDecisionTree\u001b[0m\u001b[1;33m\u001b[0m\u001b[1;33m\u001b[0m\u001b[0m\n\u001b[0;32m      2\u001b[0m \u001b[1;32mfrom\u001b[0m \u001b[1;33m.\u001b[0m\u001b[0mmodels\u001b[0m \u001b[1;32mimport\u001b[0m \u001b[0mUpliftRandomForestClassifier\u001b[0m\u001b[1;33m\u001b[0m\u001b[1;33m\u001b[0m\u001b[0m\n\u001b[1;32m----> 3\u001b[1;33m \u001b[1;32mfrom\u001b[0m  \u001b[1;33m.\u001b[0m\u001b[0mcausaltree\u001b[0m \u001b[1;32mimport\u001b[0m \u001b[0mCausalMSE\u001b[0m\u001b[1;33m,\u001b[0m \u001b[0mCausalTreeRegressor\u001b[0m\u001b[1;33m\u001b[0m\u001b[1;33m\u001b[0m\u001b[0m\n\u001b[0m\u001b[0;32m      4\u001b[0m \u001b[1;32mfrom\u001b[0m \u001b[1;33m.\u001b[0m\u001b[0mplot\u001b[0m \u001b[1;32mimport\u001b[0m \u001b[0muplift_tree_string\u001b[0m\u001b[1;33m,\u001b[0m \u001b[0muplift_tree_plot\u001b[0m\u001b[1;33m\u001b[0m\u001b[1;33m\u001b[0m\u001b[0m\n\u001b[0;32m      5\u001b[0m \u001b[1;32mfrom\u001b[0m \u001b[1;33m.\u001b[0m\u001b[0mutils\u001b[0m \u001b[1;32mimport\u001b[0m \u001b[0mcat_group\u001b[0m\u001b[1;33m,\u001b[0m \u001b[0mcat_transform\u001b[0m\u001b[1;33m,\u001b[0m \u001b[0mcv_fold_index\u001b[0m\u001b[1;33m,\u001b[0m \u001b[0mcat_continuous\u001b[0m\u001b[1;33m,\u001b[0m \u001b[0mkpi_transform\u001b[0m\u001b[1;33m\u001b[0m\u001b[1;33m\u001b[0m\u001b[0m\n",
      "\u001b[1;32mcausalml\\inference\\tree\\causaltree.pyx\u001b[0m in \u001b[0;36minit causalml.inference.tree.causaltree\u001b[1;34m()\u001b[0m\n",
      "\u001b[1;31mValueError\u001b[0m: numpy.ndarray size changed, may indicate binary incompatibility. Expected 88 from C header, got 80 from PyObject"
     ]
    }
   ],
   "source": [
    "%%time\n",
    "from IPython.display import Image, display\n",
    "from causalml.inference.tree import UpliftTreeClassifier, UpliftRandomForestClassifier\n",
    "from causalml.inference.tree import uplift_tree_string, uplift_tree_plot\n",
    "\n",
    "uplift_model = UpliftTreeClassifier(max_depth=4, min_samples_leaf=200, min_samples_treatment=50,\n",
    "                                    n_reg=100, evaluationFunction='KL', control_name='control')\n",
    "\n",
    "uplift_model.fit(X_train_tree.values,\n",
    "                 treatment=treat_train.map({1: 'treatment1', 0: 'control'}).values,\n",
    "                 y=y_train)\n",
    "\n",
    "graph = uplift_tree_plot(uplift_model.fitted_uplift_tree, features)\n",
    "display(Image(graph.create_png()))"
   ]
  },
  {
   "cell_type": "code",
   "execution_count": 21,
   "metadata": {
    "colab": {
     "base_uri": "https://localhost:8080/"
    },
    "id": "a1I0n1l2aGwR",
    "outputId": "343d2cd0-09f5-4ca6-995c-e5db4da48db0"
   },
   "outputs": [
    {
     "ename": "NameError",
     "evalue": "name 'uplift_model' is not defined",
     "output_type": "error",
     "traceback": [
      "\u001b[1;31m---------------------------------------------------------------------------\u001b[0m",
      "\u001b[1;31mNameError\u001b[0m                                 Traceback (most recent call last)",
      "\u001b[1;32m<ipython-input-21-9d0186f113d9>\u001b[0m in \u001b[0;36m<module>\u001b[1;34m\u001b[0m\n\u001b[0;32m      1\u001b[0m \u001b[1;32mimport\u001b[0m \u001b[0mnumpy\u001b[0m \u001b[1;32mas\u001b[0m \u001b[0mnp\u001b[0m\u001b[1;33m\u001b[0m\u001b[1;33m\u001b[0m\u001b[0m\n\u001b[1;32m----> 2\u001b[1;33m \u001b[0mtree_lift\u001b[0m \u001b[1;33m=\u001b[0m  \u001b[0mnp\u001b[0m\u001b[1;33m.\u001b[0m\u001b[0marray\u001b[0m\u001b[1;33m(\u001b[0m\u001b[0muplift_model\u001b[0m\u001b[1;33m.\u001b[0m\u001b[0mpredict\u001b[0m\u001b[1;33m(\u001b[0m\u001b[0mX_val_tree\u001b[0m\u001b[1;33m.\u001b[0m\u001b[0mvalues\u001b[0m\u001b[1;33m)\u001b[0m\u001b[1;33m)\u001b[0m\u001b[1;33m[\u001b[0m\u001b[1;36m0\u001b[0m\u001b[1;33m]\u001b[0m\u001b[1;33m\u001b[0m\u001b[1;33m\u001b[0m\u001b[0m\n\u001b[0m\u001b[0;32m      3\u001b[0m \u001b[1;33m\u001b[0m\u001b[0m\n\u001b[0;32m      4\u001b[0m \u001b[0muplift_tree_30\u001b[0m \u001b[1;33m=\u001b[0m \u001b[0muplift_at_k\u001b[0m\u001b[1;33m(\u001b[0m\u001b[0my_val\u001b[0m\u001b[1;33m,\u001b[0m \u001b[0mtree_lift\u001b[0m\u001b[1;33m,\u001b[0m \u001b[0mtreat_val\u001b[0m\u001b[1;33m,\u001b[0m \u001b[0mstrategy\u001b[0m\u001b[1;33m=\u001b[0m\u001b[1;34m'overall'\u001b[0m\u001b[1;33m)\u001b[0m\u001b[1;33m\u001b[0m\u001b[1;33m\u001b[0m\u001b[0m\n\u001b[0;32m      5\u001b[0m \u001b[0mprint\u001b[0m\u001b[1;33m(\u001b[0m\u001b[1;34mf'uplift@30%: {uplift_tree_30:.4f}'\u001b[0m\u001b[1;33m)\u001b[0m\u001b[1;33m\u001b[0m\u001b[1;33m\u001b[0m\u001b[0m\n",
      "\u001b[1;31mNameError\u001b[0m: name 'uplift_model' is not defined"
     ]
    }
   ],
   "source": [
    "import numpy as np\n",
    "tree_lift =  np.array(uplift_model.predict(X_val_tree.values))[0]\n",
    "\n",
    "uplift_tree_30 = uplift_at_k(y_val, tree_lift, treat_val, strategy='overall')\n",
    "print(f'uplift@30%: {uplift_tree_30:.4f}')\n",
    "models_results['approach'].append('TreeModels')\n",
    "models_results['uplift@30%'].append(uplift_tree_30)"
   ]
  },
  {
   "cell_type": "code",
   "execution_count": null,
   "metadata": {
    "id": "srjgH77HX-sY"
   },
   "outputs": [],
   "source": [
    "from sklearn.base import BaseEstimator, TransformerMixin\n",
    "\n",
    "\n",
    "class FeatureSelector(BaseEstimator, TransformerMixin):\n",
    "    def __init__(self, column):\n",
    "        self.column = column\n",
    "\n",
    "    def fit(self, X, y=None):\n",
    "        return self\n",
    "\n",
    "    def transform(self, X, y=None):\n",
    "        if len(self.column)==1:\n",
    "          return X[:,self.column].reshape( -1,1)\n",
    "        else:\n",
    "          return X[:, self.column]  "
   ]
  },
  {
   "cell_type": "code",
   "execution_count": null,
   "metadata": {
    "id": "73pn66S2Yqhj"
   },
   "outputs": [],
   "source": [
    "from joblib import Parallel, delayed\n",
    "from sklearn.pipeline import FeatureUnion, _fit_transform_one, _transform_one\n",
    "from scipy import sparse"
   ]
  },
  {
   "cell_type": "code",
   "execution_count": null,
   "metadata": {
    "id": "JZUNhGWXYmBX"
   },
   "outputs": [],
   "source": [
    "class PandasFeatureUnion(FeatureUnion):\n",
    "    '''\n",
    "    применить разные преобразования к разным столбцам,\n",
    "    а затем объединить их вместе для дальнейшей обработки / процесса машинного обучения\n",
    "    '''\n",
    "    def fit_transform(self, X, y=None, **fit_params):\n",
    "        self._validate_transformers()\n",
    "        result = Parallel(n_jobs=self.n_jobs)(\n",
    "            delayed(_fit_transform_one)(\n",
    "                transformer=trans,\n",
    "                X=X,\n",
    "                y=y,\n",
    "                weight=weight,\n",
    "                **fit_params)\n",
    "            for name, trans, weight in self._iter())\n",
    "\n",
    "        if not result:\n",
    "            # All transformers are None\n",
    "            return np.zeros((X.shape[0], 0))\n",
    "        Xs, transformers = zip(*result)\n",
    "        self._update_transformer_list(transformers)\n",
    "        if any(sparse.issparse(f) for f in Xs):\n",
    "            Xs = sparse.hstack(Xs).tocsr()\n",
    "        else:\n",
    "            Xs = self.merge_dataframes_by_column(Xs)\n",
    "        return Xs\n",
    "\n",
    "    def merge_dataframes_by_column(self, Xs):\n",
    "        return pd.concat(Xs, axis=\"columns\", copy=False)\n",
    "\n",
    "    def transform(self, X):\n",
    "        Xs = Parallel(n_jobs=self.n_jobs)(\n",
    "            delayed(_transform_one)(\n",
    "                transformer=trans,\n",
    "                X=X,\n",
    "                y=None,\n",
    "                weight=weight)\n",
    "            for name, trans, weight in self._iter())\n",
    "        if not Xs:\n",
    "            # All transformers are None\n",
    "            return np.zeros((X.shape[0], 0))\n",
    "        if any(sparse.issparse(f) for f in Xs):\n",
    "            Xs = sparse.hstack(Xs).tocsr()\n",
    "        else:\n",
    "            Xs = self.merge_dataframes_by_column(Xs)\n",
    "        return Xs\n",
    "    \n",
    "    \n",
    "class FeatureSelectorPd(BaseEstimator, TransformerMixin):\n",
    "    def __init__(self, column):\n",
    "        self.column = column\n",
    "\n",
    "    def fit(self, X, y=None):\n",
    "        return self\n",
    "\n",
    "    def transform(self, X, y=None):\n",
    "        print(self.column)\n",
    "        return X[self.column]\n",
    "\n",
    "\n",
    "    \n",
    "class OHEEncoder(BaseEstimator, TransformerMixin):\n",
    "    def __init__(self, key):\n",
    "        self.key = key\n",
    "        self.columns = []\n",
    "\n",
    "    def fit(self, X, y=None):\n",
    "        self.columns = [col for col in pd.get_dummies(X, prefix=self.key).columns]\n",
    "        return self\n",
    "\n",
    "    def transform(self, X):\n",
    "        print('ohe')\n",
    "        result = pd.get_dummies(X, prefix=self.key)\n",
    "        for col_ in self.columns:\n",
    "            if col_ not in result.columns:\n",
    "                result[col_] = 0\n",
    "        return result[self.columns]"
   ]
  },
  {
   "cell_type": "code",
   "execution_count": null,
   "metadata": {
    "colab": {
     "base_uri": "https://localhost:8080/"
    },
    "id": "dP5r0F4OYSI0",
    "outputId": "36789e95-2504-4a99-ea73-69854b187a13"
   },
   "outputs": [],
   "source": [
    "from sklearn.pipeline import Pipeline\n",
    "\n",
    "encoder1 =Pipeline([('ohe',OHEEncoder(['gender']))])\n",
    "\n",
    "estimator = CatBoostClassifier(iterations=20, thread_count=2, random_state=42, silent=True)\n",
    "ct = ClassTransformation(estimator=estimator)\n",
    "\n",
    "\n",
    "\n",
    "\n",
    "my_pipeline = Pipeline([\n",
    "    ('encoder', PandasFeatureUnion([('1',encoder1)])),\n",
    "    ('model',ct)\n",
    "])\n",
    "\n",
    "\n",
    "\n",
    "my_pipeline = my_pipeline.fit(   X=X_train, y = y_train, model__treatment=treat_train)\n"
   ]
  },
  {
   "cell_type": "code",
   "execution_count": null,
   "metadata": {
    "colab": {
     "base_uri": "https://localhost:8080/"
    },
    "id": "aAy3DQsUYx_c",
    "outputId": "ada37f9f-2df6-46f9-c5eb-caf47080189a"
   },
   "outputs": [],
   "source": [
    "\n",
    "uplift_predictions = my_pipeline.predict(X_val)\n",
    "\n",
    "uplift_30 = uplift_at_k(y_val, uplift_predictions, treat_val, strategy='overall')\n",
    "print(f'uplift@30%: {uplift_30:.4f}')"
   ]
  },
  {
   "cell_type": "code",
   "execution_count": null,
   "metadata": {
    "id": "735TTJ9BZOMd"
   },
   "outputs": [],
   "source": [
    "\n",
    "models_results['approach'].append('ClassTransformation-pipeline')\n",
    "models_results['uplift@30%'].append(uplift_30)\n"
   ]
  },
  {
   "cell_type": "code",
   "execution_count": null,
   "metadata": {
    "colab": {
     "base_uri": "https://localhost:8080/",
     "height": 204
    },
    "id": "5gpQdeJLY4Wo",
    "outputId": "05f80fba-b87d-477e-9819-07f933764f3d"
   },
   "outputs": [],
   "source": [
    "pd.DataFrame(data=models_results).sort_values('uplift@30%', ascending=False)"
   ]
  },
  {
   "cell_type": "markdown",
   "metadata": {
    "id": "5CdsjlWMhSEA"
   },
   "source": [
    "### Домашнее задание"
   ]
  },
  {
   "cell_type": "markdown",
   "metadata": {
    "id": "U8jYsor9hSEA"
   },
   "source": [
    "1. скачать набор данных маркетинговых кампаний отсюда https://www.kaggle.com/davinwijaya/customer-retention\n",
    "2. там поле conversion - это целевая переменная, а offer - коммуникация. Переименовать поля (conversion -> target, offer -> treatment) и привести поле treatment к бинарному виду (1 или 0, т.е было какое-то предложение или нет) - значение No Offer означает отсутствие коммуникации, а все остальные - наличие.\n",
    "3. сделать разбиение набора данных не тренировочную и тестовую выборки\n",
    "4. сделать feature engineering на ваше усмотрение (допускается свобода выбора методов)\n",
    "5. провести uplift-моделирование 3 способами: одна модель с признаком коммуникации (S learner), модель с трансформацией таргета (трансформация классов п. 2. 1) и вариант с двумя независимыми моделями\n",
    "6. в конце вывести единую таблицу сравнения метрик uplift@10%, uplift@20% этих 3 моделей\n",
    "7. построить модель UpliftTreeClassifier и попытаться описать словами полученное дерево\n",
    "8. (опционально) для модели S learner (модель с дополнительным признаком коммуникации) построить зависимость таргета (конверсии - поле conversion) от значения uplift: 1) сделать прогноз и получить uplift для тестовой выборки 2) отсортировать тестовую выборку по uplift по убыванию 3) разбить на децили (pandas qcut вам в помощь) 4) для каждого дециля посчитать среднюю conversion\n",
    "9. (опционально) построить модель UpliftRandomForestClassifier и попытаться описать словами полученное дерево"
   ]
  },
  {
   "cell_type": "markdown",
   "metadata": {
    "id": "JNbgXd2LhSEB"
   },
   "source": [
    "### Ссылки\n",
    "\n",
    "1. https://towardsdatascience.com/a-quick-uplift-modeling-introduction-6e14de32bfe0\n",
    "2. https://habr.com/ru/company/ru_mts/blog/485980/#reference1\n",
    "3. https://en.wikipedia.org/wiki/Uplift_modelling\n",
    "4. https://www.youtube.com/watch?v=yFQAIJBYXI0\n",
    "5. https://www.youtube.com/watch?v=jCUcYiBK03I\n",
    "6. https://www.uplift-modeling.com/en/latest/\n",
    "7. https://arxiv.org/pdf/1809.04559.pdf\n",
    "8. https://catboost.ai/docs/concepts/about.html\n"
   ]
  },
  {
   "cell_type": "markdown",
   "metadata": {
    "id": "zzK8j36WhSEC"
   },
   "source": [
    "### Библиотеки и пакеты\n",
    "\n",
    "1. causalml\n",
    "2. sklift\n",
    "3. catboost"
   ]
  },
  {
   "cell_type": "code",
   "execution_count": null,
   "metadata": {
    "id": "dVqbvrAnhSED"
   },
   "outputs": [],
   "source": []
  }
 ],
 "metadata": {
  "colab": {
   "name": "webinar4_1.ipynb",
   "provenance": []
  },
  "kernelspec": {
   "display_name": "Python 3",
   "language": "python",
   "name": "python3"
  },
  "language_info": {
   "codemirror_mode": {
    "name": "ipython",
    "version": 3
   },
   "file_extension": ".py",
   "mimetype": "text/x-python",
   "name": "python",
   "nbconvert_exporter": "python",
   "pygments_lexer": "ipython3",
   "version": "3.8.4"
  }
 },
 "nbformat": 4,
 "nbformat_minor": 1
}
